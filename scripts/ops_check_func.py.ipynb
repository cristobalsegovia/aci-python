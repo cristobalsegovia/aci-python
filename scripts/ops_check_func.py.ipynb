{
 "cells": [
  {
   "cell_type": "code",
   "execution_count": 2,
   "metadata": {},
   "outputs": [],
   "source": [
    "# ops_check_func.py\n",
    "# Usage: import ops_check_func"
   ]
  },
  {
   "cell_type": "code",
   "execution_count": null,
   "metadata": {},
   "outputs": [],
   "source": [
    "# The Get Endpoints example code compacted into a function.\n",
    "def get_endpoints(url):\n",
    "    s_response = s.get(url, verify=False)\n",
    "    s_global_ep = s_response.json()\n",
    "    tenant_list = []\n",
    "    epg_list = []\n",
    "    ep_list = []\n",
    "    ip_list = []\n",
    "    mac_list = []\n",
    "    encap_list = []\n",
    "\n",
    "    object_list = s_global_ep['imdata']\n",
    "    for object in object_list:\n",
    "        #print(object)\n",
    "        dn = object['fvCEp']['attributes']['dn']\n",
    "        split_dn = dn.split(\"/\")\n",
    "        tenant_list.append(split_dn[1])\n",
    "        epg_list.append(split_dn[-2])\n",
    "        ep_list.append(split_dn[-1])\n",
    "        ip_list.append(object['fvCEp']['attributes']['ip'])\n",
    "        mac_list.append(object['fvCEp']['attributes']['mac'])\n",
    "        encap_list.append(object['fvCEp']['attributes']['encap'])\n",
    "    list_of_global_ep = zip(tenant_list, epg_list, ep_list, ip_list, mac_list, encap_list)\n",
    "    df_input = list(list_of_global_ep)\n",
    "    df = pd.DataFrame(df_input, columns=(\"Tenant\",\"EPG or VRF/L3out\",\"Endpoint\",\"IP\",\"MAC Addy\",\"Encap\"))\n",
    "    ep = df[['Tenant','Endpoint']]\n",
    "    grouped_df = ep.groupby(['Tenant']).count()\n",
    "    return grouped_df, df"
   ]
  },
  {
   "cell_type": "code",
   "execution_count": null,
   "metadata": {},
   "outputs": [],
   "source": [
    "def get_tenant_endpoints(url):\n",
    "    epg_response = s.get(epg_url, verify=False)\n",
    "    epg_json = epg_response.json()\n",
    "    epg_objects_list = epg_json['imdata']\n",
    "    tenant_list = []\n",
    "    ap_list = []\n",
    "    epg_list = []\n",
    "    endpoint_list = []\n",
    "    ip_list = []\n",
    "    mac_list = []\n",
    "    encap_list = []\n",
    "    for epg_object in epg_objects_list:\n",
    "        dn = epg_object['fvAEPg']['attributes']['dn']\n",
    "        split_dn = dn.split(\"/\")\n",
    "        tenant = split_dn[1]\n",
    "        ap = split_dn[2]\n",
    "        epg = split_dn[-1]\n",
    "        children_list = epg_object['fvAEPg']['children']\n",
    "        endpoint = None\n",
    "        ip = None\n",
    "        mac = None\n",
    "        encap = None\n",
    "        for child in children_list:\n",
    "            if \"fvCEp\" in child:\n",
    "                endpoint = child['fvCEp']['attributes']['name']\n",
    "                ip = child['fvCEp']['attributes']['ip']\n",
    "                mac = child['fvCEp']['attributes']['mac']\n",
    "                encap = child['fvCEp']['attributes']['encap']\n",
    "        tenant_list.append(tenant)\n",
    "        ap_list.append(ap)\n",
    "        epg_list.append(epg)\n",
    "        endpoint_list.append(endpoint)\n",
    "        ip_list.append(ip)\n",
    "        mac_list.append(mac)\n",
    "        encap_list.append(encap)\n",
    "    tn_ep_list = zip(tenant_list, ap_list, epg_list, endpoint_list, ip_list, mac_list, encap_list)\n",
    "    df_input = list(tn_ep_list)\n",
    "    df = pd.DataFrame(df_input, columns=(\"Tenant\",\"AP\",\"EPG\",\"Endpoint\",\"IP\",\"MAC Addy\",\"Encap\"))\n",
    "    df.fillna(value=pd.np.nan, inplace=True)\n",
    "    sorted_df = df.sort_values(by=['Endpoint'], ascending=False)\n",
    "    grouped_df = df.groupby(['Tenant']).agg({'EPG':'count','Endpoint':'count'})\n",
    "    return grouped_df, sorted_df"
   ]
  }
 ],
 "metadata": {
  "kernelspec": {
   "display_name": "Python 3",
   "language": "python",
   "name": "python3"
  },
  "language_info": {
   "codemirror_mode": {
    "name": "ipython",
    "version": 3
   },
   "file_extension": ".py",
   "mimetype": "text/x-python",
   "name": "python",
   "nbconvert_exporter": "python",
   "pygments_lexer": "ipython3",
   "version": "3.7.1"
  }
 },
 "nbformat": 4,
 "nbformat_minor": 2
}
