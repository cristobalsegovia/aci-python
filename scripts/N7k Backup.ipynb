{
 "cells": [
  {
   "cell_type": "markdown",
   "metadata": {},
   "source": [
    "# Simple Backup Script for NX-OS\n",
    "Requirements:\n",
    " - Must have SSH key generated on switch, and public key copied to backup server\n",
    " - Enable NXAPI and NXAPI-Sandbox on N7k\n",
    " \n",
    "Program Flow: \n",
    " - Script runs as a cron job once daily on backup server.\n",
    " - Script connects to switch via NXAPI.\n",
    " - Script issues command: copy startup-config sftp://10.18.188.188/home/bkup/n7k/[name]-[date]\n",
    "   - N7k copies startup-config to the backup server"
   ]
  },
  {
   "cell_type": "markdown",
   "metadata": {},
   "source": [
    "On Switch: \n",
    " - conf t\n",
    " - feature nxapi\n",
    " - feature nxapi-sandbox\n",
    " - username admin keypair generate rsa\n",
    " - show username admin keypair\n",
    " export keypair\n",
    " copy public key to bkup server\n",
    " add to authorized_keys\n",
    " \n",
    " test manual config copy"
   ]
  },
  {
   "cell_type": "code",
   "execution_count": 22,
   "metadata": {},
   "outputs": [],
   "source": [
    "import requests\n",
    "import json\n",
    "import sys\n",
    "from datetime import date\n",
    "from requests.auth import HTTPBasicAuth"
   ]
  },
  {
   "cell_type": "code",
   "execution_count": 11,
   "metadata": {},
   "outputs": [],
   "source": [
    "## Variables\n",
    "today = str(date.today())"
   ]
  },
  {
   "cell_type": "code",
   "execution_count": 14,
   "metadata": {},
   "outputs": [
    {
     "name": "stdout",
     "output_type": "stream",
     "text": [
      "<requests.auth.HTTPBasicAuth object at 0x10debf748>\n"
     ]
    }
   ],
   "source": [
    "print(auth)"
   ]
  },
  {
   "cell_type": "code",
   "execution_count": 15,
   "metadata": {},
   "outputs": [],
   "source": [
    "show_config_payload = {\n",
    "  \"ins_api\": {\n",
    "    \"version\": \"1.2\",\n",
    "    \"type\": \"cli_show\",\n",
    "    \"chunk\": \"0\",\n",
    "    \"sid\": \"1\",\n",
    "    \"input\": \"show running-config\",\n",
    "    \"output_format\": \"json\"\n",
    "  }\n",
    "}"
   ]
  },
  {
   "cell_type": "code",
   "execution_count": 29,
   "metadata": {},
   "outputs": [],
   "source": [
    "# This should be moved to a config file that can be read/parsed.\n",
    "# Each tuple is a device hostname, ip address, and credentials.\n",
    "\n",
    "devices = [\n",
    "    ('N7K1-Labcore01','10.18.188.137','admin','password123'),\n",
    "    ('N7K2-Labcore02','10.18.188.138','admin','correct horse battery staple'),\n",
    "    ('N7K1-ACILab01','10.18.188.141','admin','password123'),\n",
    "    ('N7K1-ACILab02','10.18.188.142','admin','correct horse battery staple'),       \n",
    "    ('IPN1','10.18.188.143','admin','password123'),\n",
    "    ('IPN2','10.18.188.144','admin','correct horse battery staple'),        \n",
    "    ('MSITE1','10.18.188.145','admin','password123'),         \n",
    "    ('MSITE2','10.18.188.146','admin','correct horse battery staple')\n",
    "]"
   ]
  },
  {
   "cell_type": "code",
   "execution_count": null,
   "metadata": {},
   "outputs": [],
   "source": []
  },
  {
   "cell_type": "code",
   "execution_count": null,
   "metadata": {},
   "outputs": [],
   "source": []
  },
  {
   "cell_type": "code",
   "execution_count": 30,
   "metadata": {},
   "outputs": [],
   "source": [
    "bkup_host = \"10.18.188.188\"\n",
    "bkup_user = \"bkup\"\n",
    "proto_schema = \"sftp\"\n",
    "bkup_device = \"\"\n",
    "bkup_source_file = \"startup-config\"\n",
    "default_vrf = \"vrf management\""
   ]
  },
  {
   "cell_type": "code",
   "execution_count": null,
   "metadata": {},
   "outputs": [],
   "source": []
  },
  {
   "cell_type": "code",
   "execution_count": 31,
   "metadata": {},
   "outputs": [
    {
     "name": "stdout",
     "output_type": "stream",
     "text": [
      "Running backup command: \n",
      "copy startup-config sftp://bkup@10.18.188.188/home/bkup/n7k/N7K1-Labcore01/startup-config_N7K1-Labcore01_2019-07-08-TESTING vrf management\n",
      "at http://10.18.188.137/ins\n",
      "Running backup command: \n",
      "copy startup-config sftp://bkup@10.18.188.188/home/bkup/n7k/N7K2-Labcore02/startup-config_N7K2-Labcore02_2019-07-08-TESTING vrf management\n",
      "at http://10.18.188.138/ins\n",
      "Running backup command: \n",
      "copy startup-config sftp://bkup@10.18.188.188/home/bkup/n7k/N7K1-ACILab01/startup-config_N7K1-ACILab01_2019-07-08-TESTING vrf management\n",
      "at http://10.18.188.141/ins\n",
      "Running backup command: \n",
      "copy startup-config sftp://bkup@10.18.188.188/home/bkup/n7k/N7K1-ACILab02/startup-config_N7K1-ACILab02_2019-07-08-TESTING vrf management\n",
      "at http://10.18.188.142/ins\n",
      "Running backup command: \n",
      "copy startup-config sftp://bkup@10.18.188.188/home/bkup/n7k/IPN1/startup-config_IPN1_2019-07-08-TESTING vrf management\n",
      "at http://10.18.188.143/ins\n",
      "Running backup command: \n",
      "copy startup-config sftp://bkup@10.18.188.188/home/bkup/n7k/IPN2/startup-config_IPN2_2019-07-08-TESTING vrf management\n",
      "at http://10.18.188.144/ins\n",
      "Running backup command: \n",
      "copy startup-config sftp://bkup@10.18.188.188/home/bkup/n7k/MSITE1/startup-config_MSITE1_2019-07-08-TESTING vrf management\n",
      "at http://10.18.188.145/ins\n",
      "Running backup command: \n",
      "copy startup-config sftp://bkup@10.18.188.188/home/bkup/n7k/MSITE2/startup-config_MSITE2_2019-07-08-TESTING vrf management\n",
      "at http://10.18.188.146/ins\n"
     ]
    }
   ],
   "source": [
    "for device in devices:\n",
    "        hostname = device[0]\n",
    "        ip = device[1]\n",
    "        username = device[2]\n",
    "        password = device[3]\n",
    "        #print(hostname + \" \" + ip + \" \" + username + \" \" + password)\n",
    "        bkup_path = \"/home/bkup/n7k/\" + hostname + \"/\"\n",
    "        bkup_dest_file = bkup_source_file + \"_\" + hostname + \"_\" + today + \"-TESTING \"\n",
    "        input_cmd = \"copy \" + bkup_source_file + \" \" + proto_schema + \"://\" + bkup_user + \"@\" + bkup_host + bkup_path + bkup_dest_file + default_vrf\n",
    "        #fprint(input_cmd)\n",
    "        bkup_payload = {\n",
    "            \"ins_api\": {\n",
    "            \"version\": \"1.2\",\n",
    "            \"type\": \"cli_conf\",\n",
    "            \"chunk\": \"0\",\n",
    "            \"sid\": \"1\",\n",
    "            \"input\": input_cmd,\n",
    "            \"output_format\": \"json\"\n",
    "            }\n",
    "        }\n",
    "        \n",
    "\n",
    "        auth = HTTPBasicAuth(username, password)\n",
    "        \n",
    "        nx_url = \"http://\" + ip + \"/ins\"\n",
    "        #r = requests.post(auth_url, json=auth_data, verify=False)\n",
    "        print(\"Running backup command: \")\n",
    "        print(input_cmd)\n",
    "        print(\"at \" + nx_url)\n",
    "        r = requests.post(nx_url, auth=auth, json=bkup_payload)\n",
    "        if r.status_code != 200:\n",
    "            print(r.status_code)\n",
    "            sys.exit()"
   ]
  },
  {
   "cell_type": "code",
   "execution_count": 19,
   "metadata": {},
   "outputs": [
    {
     "ename": "SystemExit",
     "evalue": "",
     "output_type": "error",
     "traceback": [
      "\u001b[0;31m---------------------------------------------------------------------------\u001b[0m",
      "\u001b[0;31mSystemExit\u001b[0m                                Traceback (most recent call last)",
      "\u001b[0;32m<ipython-input-18-8a400bf0ade0>\u001b[0m in \u001b[0;36m<module>\u001b[0;34m\u001b[0m\n\u001b[1;32m     22\u001b[0m         \u001b[0;32mif\u001b[0m \u001b[0mr\u001b[0m\u001b[0;34m.\u001b[0m\u001b[0mstatus_code\u001b[0m \u001b[0;34m!=\u001b[0m \u001b[0;36m200\u001b[0m\u001b[0;34m:\u001b[0m\u001b[0;34m\u001b[0m\u001b[0;34m\u001b[0m\u001b[0m\n\u001b[1;32m     23\u001b[0m             \u001b[0mprint\u001b[0m\u001b[0;34m(\u001b[0m\u001b[0mr\u001b[0m\u001b[0;34m.\u001b[0m\u001b[0mstatus_code\u001b[0m\u001b[0;34m)\u001b[0m\u001b[0;34m\u001b[0m\u001b[0;34m\u001b[0m\u001b[0m\n\u001b[0;32m---> 24\u001b[0;31m             \u001b[0msys\u001b[0m\u001b[0;34m.\u001b[0m\u001b[0mexit\u001b[0m\u001b[0;34m(\u001b[0m\u001b[0;34m)\u001b[0m\u001b[0;34m\u001b[0m\u001b[0;34m\u001b[0m\u001b[0m\n\u001b[0m",
      "\u001b[0;31mSystemExit\u001b[0m: "
     ]
    }
   ],
   "source": [
    "%tb"
   ]
  },
  {
   "cell_type": "code",
   "execution_count": 13,
   "metadata": {},
   "outputs": [],
   "source": []
  },
  {
   "cell_type": "code",
   "execution_count": 14,
   "metadata": {},
   "outputs": [
    {
     "data": {
      "text/plain": [
       "200"
      ]
     },
     "execution_count": 14,
     "metadata": {},
     "output_type": "execute_result"
    }
   ],
   "source": []
  },
  {
   "cell_type": "code",
   "execution_count": 15,
   "metadata": {},
   "outputs": [
    {
     "data": {
      "text/plain": [
       "{'Server': 'nginx/1.4.5', 'Date': 'Mon, 08 Jul 2019 17:40:09 GMT', 'Content-Type': 'text/json', 'Transfer-Encoding': 'chunked', 'Connection': 'keep-alive', 'Set-Cookie': 'nxapi_auth=admin:156260820189115991'}"
      ]
     },
     "execution_count": 15,
     "metadata": {},
     "output_type": "execute_result"
    }
   ],
   "source": [
    "r.headers"
   ]
  },
  {
   "cell_type": "code",
   "execution_count": 21,
   "metadata": {},
   "outputs": [],
   "source": [
    "#r.json\n",
    "xml = r.content"
   ]
  },
  {
   "cell_type": "code",
   "execution_count": 22,
   "metadata": {},
   "outputs": [],
   "source": [
    "r_json = r.json()"
   ]
  },
  {
   "cell_type": "code",
   "execution_count": 23,
   "metadata": {},
   "outputs": [
    {
     "data": {
      "text/plain": [
       "{'ins_api': {'sid': 'eoc',\n",
       "  'type': 'cli_conf',\n",
       "  'version': '1.2',\n",
       "  'outputs': {'output': {'code': '500',\n",
       "    'msg': 'Backend processing error',\n",
       "    'input': 'copy startup-config sftp://bkup@10.18.188.188/home/bkup/n7k/startup-config-2019-06-26'}}}}"
      ]
     },
     "execution_count": 23,
     "metadata": {},
     "output_type": "execute_result"
    }
   ],
   "source": [
    "r_json"
   ]
  },
  {
   "cell_type": "code",
   "execution_count": null,
   "metadata": {},
   "outputs": [],
   "source": []
  }
 ],
 "metadata": {
  "kernelspec": {
   "display_name": "Python 3",
   "language": "python",
   "name": "python3"
  },
  "language_info": {
   "codemirror_mode": {
    "name": "ipython",
    "version": 3
   },
   "file_extension": ".py",
   "mimetype": "text/x-python",
   "name": "python",
   "nbconvert_exporter": "python",
   "pygments_lexer": "ipython3",
   "version": "3.7.1"
  }
 },
 "nbformat": 4,
 "nbformat_minor": 2
}
