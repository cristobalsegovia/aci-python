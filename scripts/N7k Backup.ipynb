{
 "cells": [
  {
   "cell_type": "markdown",
   "metadata": {},
   "source": [
    "# Simple Backup Script for NX-OS\n",
    "Requirements:\n",
    " - Must have SSH key generated on switch, and public key copied to backup server\n",
    " - Enable NXAPI and NXAPI-Sandbox on N7k\n",
    " \n",
    "Program Flow: \n",
    " - Script runs as a cron job once daily on backup server.\n",
    " - Script reads from list of tuples with device name, IP, username, and password.\n",
    " - Script connects to each switch using unencrypted HTTP basic auth (port 80).\n",
    " - Script issues command: copy startup-config sftp://10.18.188.188/home/bkup/n7k/[name]/[name]-[date]\n",
    " - N7k copies the startup-config to the backup server over ssh (sftp)\n",
    " - Script returns a simple HTTP status code if it cannot connect to NX-API.\n",
    " \n",
    "To Do: \n",
    " - Script verifies file\n",
    " - Script checks for device directory and creates if needed before copying."
   ]
  },
  {
   "cell_type": "markdown",
   "metadata": {},
   "source": [
    "On Switch: \n",
    " - conf t\n",
    " - feature nxapi\n",
    " - feature nxapi-sandbox\n",
    " - username admin keypair generate rsa\n",
    " - show username admin keypair\n",
    " export keypair\n",
    " copy public key to bkup server\n",
    " add to authorized_keys\n",
    " test copy manually "
   ]
  },
  {
   "cell_type": "code",
   "execution_count": 2,
   "metadata": {},
   "outputs": [],
   "source": [
    "import requests\n",
    "import json\n",
    "import sys\n",
    "import time\n",
    "from datetime import date\n",
    "from requests.auth import HTTPBasicAuth"
   ]
  },
  {
   "cell_type": "markdown",
   "metadata": {},
   "source": [
    "## Variables"
   ]
  },
  {
   "cell_type": "code",
   "execution_count": 3,
   "metadata": {},
   "outputs": [
    {
     "name": "stdout",
     "output_type": "stream",
     "text": [
      "1562616975.779048\n"
     ]
    }
   ],
   "source": [
    "# Use time.time() for testing or when >1 day granularity is required.\n",
    "# If backing up once per day or less, use date.today().\n",
    "today = str(time.time())\n",
    "#today = str(date.today())\n",
    "print(today)"
   ]
  },
  {
   "cell_type": "code",
   "execution_count": 5,
   "metadata": {},
   "outputs": [],
   "source": [
    "show_config_payload = {\n",
    "  \"ins_api\": {\n",
    "    \"version\": \"1.2\",\n",
    "    \"type\": \"cli_show\",\n",
    "    \"chunk\": \"0\",\n",
    "    \"sid\": \"1\",\n",
    "    \"input\": \"show running-config\",\n",
    "    \"output_format\": \"json\"\n",
    "  }\n",
    "}"
   ]
  },
  {
   "cell_type": "code",
   "execution_count": 16,
   "metadata": {},
   "outputs": [],
   "source": [
    "# This should be moved to a config file that can be read/parsed.\n",
    "# Each tuple is a device hostname, ip address, and credentials.\n",
    "\n",
    "devices = [\n",
    "    ('N7K1-Labcore01','10.18.188.137','admin','password123'),\n",
    "    ('N7K2-Labcore02','10.18.188.138','admin','correct horse battery staple'),\n",
    "    ('N7K1-ACILab01','10.18.188.141','admin','password123'),\n",
    "    ('N7K1-ACILab02','10.18.188.142','admin','correct horse battery staple'),       \n",
    "    ('IPN1','10.18.188.143','admin','password123'),\n",
    "    ('IPN2','10.18.188.144','admin','correct horse battery staple'),        \n",
    "    ('MSITE1','10.18.188.145','admin','password123'),         \n",
    "    ('MSITE2','10.18.188.146','admin','correct horse battery staple')\n",
    "]"
   ]
  },
  {
   "cell_type": "code",
   "execution_count": 7,
   "metadata": {},
   "outputs": [],
   "source": [
    "# Variables to construct the copy command. \n",
    "# Fill iin with your backup server ip/username, the proto (scp/SFTP), and the default_vrf.\n",
    "# If no default VRF is needed, you may comment that line out.\n",
    "bkup_host = \"10.18.188.188\"\n",
    "bkup_user = \"bkup\"\n",
    "proto_schema = \"sftp\"\n",
    "bkup_source_file = \"startup-config\"\n",
    "default_vrf = \"vrf management\""
   ]
  },
  {
   "cell_type": "code",
   "execution_count": 20,
   "metadata": {},
   "outputs": [
    {
     "name": "stdout",
     "output_type": "stream",
     "text": [
      "Connecting to N7K1-Labcore01.\n",
      "Copying startup-config to startup-config_N7K1-Labcore01_1562616975.779048-TESTING \n",
      "Success!\n",
      "\n",
      "\n",
      "Connecting to N7K2-Labcore02.\n",
      "Copying startup-config to startup-config_N7K2-Labcore02_1562616975.779048-TESTING \n",
      "Success!\n",
      "\n",
      "\n",
      "Connecting to N7K1-ACILab01.\n",
      "Copying startup-config to startup-config_N7K1-ACILab01_1562616975.779048-TESTING \n",
      "Success!\n",
      "\n",
      "\n",
      "Connecting to N7K1-ACILab02.\n",
      "Copying startup-config to startup-config_N7K1-ACILab02_1562616975.779048-TESTING \n",
      "Success!\n",
      "\n",
      "\n",
      "Connecting to IPN1.\n",
      "Copying startup-config to startup-config_IPN1_1562616975.779048-TESTING \n",
      "Success!\n",
      "\n",
      "\n",
      "Connecting to IPN2.\n",
      "Copying startup-config to startup-config_IPN2_1562616975.779048-TESTING \n",
      "Success!\n",
      "\n",
      "\n",
      "Connecting to MSITE1.\n",
      "Copying startup-config to startup-config_MSITE1_1562616975.779048-TESTING \n",
      "Success!\n",
      "\n",
      "\n",
      "Connecting to MSITE2.\n",
      "Copying startup-config to startup-config_MSITE2_1562616975.779048-TESTING \n",
      "Something's fucky.\n",
      "HTTP Status: 401\n",
      "Womp womp.\n"
     ]
    }
   ],
   "source": [
    "# The main bit. \n",
    "# It loops over each device above, extracts the info and constructs the copy command \n",
    "# for each device, and finally creates the full JSON payload for the NX-API and sends it\n",
    "# along with Basic HTTP Auth headers (*sigh*).\n",
    "\n",
    "for device in devices:\n",
    "        hostname = device[0]\n",
    "        ip = device[1]\n",
    "        username = device[2]\n",
    "        password = device[3]\n",
    "        #print(hostname + \" \" + ip + \" \" + username + \" \" + password)\n",
    "        bkup_path = \"/home/bkup/n7k/\" + hostname + \"/\"\n",
    "        bkup_dest_file = bkup_source_file + \"_\" + hostname + \"_\" + today + \"-TESTING \"\n",
    "        input_cmd = \"copy \" + bkup_source_file + \" \" + proto_schema + \"://\" + bkup_user + \"@\" + bkup_host + bkup_path + bkup_dest_file + default_vrf\n",
    "        #print(input_cmd)\n",
    "        bkup_payload = {\n",
    "            \"ins_api\": {\n",
    "            \"version\": \"1.2\",\n",
    "            \"type\": \"cli_conf\",\n",
    "            \"chunk\": \"0\",\n",
    "            \"sid\": \"1\",\n",
    "            \"input\": input_cmd,\n",
    "            \"output_format\": \"json\"\n",
    "            }\n",
    "        }\n",
    "        \n",
    "\n",
    "        auth = HTTPBasicAuth(username, password)\n",
    "        \n",
    "        nx_url = \"http://\" + ip + \"/ins\"\n",
    "        print(\"Connecting to \" + hostname + \".\")\n",
    "        print(\"Copying startup-config to \" + bkup_dest_file)\n",
    "        r = requests.post(nx_url, auth=auth, json=bkup_payload)\n",
    "        \n",
    "        # We can test for failure here and do something more if desired.\n",
    "        if r.status_code == 200:\n",
    "            print(\"Success!\\n\\n\")\n",
    "        else:\n",
    "            print(\"Something's fucky.\")\n",
    "            print(\"HTTP Status: \" + str(r.status_code))\n",
    "            print(\"Womp womp.\")"
   ]
  },
  {
   "cell_type": "code",
   "execution_count": 15,
   "metadata": {},
   "outputs": [
    {
     "ename": "SyntaxError",
     "evalue": "unexpected character after line continuation character (<ipython-input-11-0db0a2461cbe>, line 1)",
     "output_type": "error",
     "traceback": [
      "\u001b[0;36m  File \u001b[0;32m\"<ipython-input-11-0db0a2461cbe>\"\u001b[0;36m, line \u001b[0;32m1\u001b[0m\n\u001b[0;31m    print(\"Success!\"\\n\\n)\u001b[0m\n\u001b[0m                         ^\u001b[0m\n\u001b[0;31mSyntaxError\u001b[0m\u001b[0;31m:\u001b[0m unexpected character after line continuation character\n"
     ]
    }
   ],
   "source": [
    "# Jupyter notebook provides a stack trace if the sys.exit is triggered above.\n",
    "#%tb"
   ]
  },
  {
   "cell_type": "code",
   "execution_count": 15,
   "metadata": {},
   "outputs": [
    {
     "data": {
      "text/plain": [
       "{'Server': 'nginx/1.4.5', 'Date': 'Mon, 08 Jul 2019 17:40:09 GMT', 'Content-Type': 'text/json', 'Transfer-Encoding': 'chunked', 'Connection': 'keep-alive', 'Set-Cookie': 'nxapi_auth=admin:156260820189115991'}"
      ]
     },
     "execution_count": 15,
     "metadata": {},
     "output_type": "execute_result"
    }
   ],
   "source": [
    "# Here's an example of the response headers provided by the N7k. \n",
    "# Note the Cookie is pretty simple compared to ACI.\n",
    "#r.headers"
   ]
  },
  {
   "cell_type": "code",
   "execution_count": 12,
   "metadata": {},
   "outputs": [
    {
     "name": "stdout",
     "output_type": "stream",
     "text": [
      "Success!\n",
      "\n",
      "\n"
     ]
    }
   ],
   "source": []
  },
  {
   "cell_type": "code",
   "execution_count": null,
   "metadata": {},
   "outputs": [],
   "source": []
  }
 ],
 "metadata": {
  "kernelspec": {
   "display_name": "Python 3",
   "language": "python",
   "name": "python3"
  },
  "language_info": {
   "codemirror_mode": {
    "name": "ipython",
    "version": 3
   },
   "file_extension": ".py",
   "mimetype": "text/x-python",
   "name": "python",
   "nbconvert_exporter": "python",
   "pygments_lexer": "ipython3",
   "version": "3.7.1"
  }
 },
 "nbformat": 4,
 "nbformat_minor": 2
}
