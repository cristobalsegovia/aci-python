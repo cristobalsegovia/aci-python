{
 "cells": [
  {
   "cell_type": "markdown",
   "metadata": {},
   "source": [
    "# Ops Check\n",
    "## A Python script to gather data on the ACI fabric's operational state."
   ]
  },
  {
   "cell_type": "markdown",
   "metadata": {},
   "source": [
    "Overview:\n",
    "The script will carry out API calls necessary to gather important info-at-a-glance, then print to console/display.\n",
    "\n",
    "Flow: \n",
    "1. Authenticate with config.py or interactively.\n",
    "2. Gather:\n",
    "   - Fabric Health Score\n",
    "   - Global Endpoints\n",
    "   - Tenant Endpoints by EPG\n",
    "3. Print report from the above information."
   ]
  },
  {
   "cell_type": "code",
   "execution_count": 24,
   "metadata": {},
   "outputs": [],
   "source": [
    "# Import needed modules\n",
    "import requests\n",
    "import json\n",
    "import pandas as pd"
   ]
  },
  {
   "cell_type": "code",
   "execution_count": 25,
   "metadata": {},
   "outputs": [],
   "source": [
    "# Grab credentials from config.py file in same directory.\n",
    "# TO DO: Test variables, and prompt for interactive entry if empty.\n",
    "from config import controller, username, password"
   ]
  },
  {
   "cell_type": "code",
   "execution_count": 26,
   "metadata": {},
   "outputs": [],
   "source": [
    "# Set some variables to construct our login URLs\n",
    "base_url = \"https://\" + str(controller) + \"/api/\"\n",
    "auth_bit = \"aaaLogin.json\"\n",
    "\n",
    "auth_url = base_url + auth_bit\n",
    "#auth_url"
   ]
  },
  {
   "cell_type": "code",
   "execution_count": 27,
   "metadata": {},
   "outputs": [],
   "source": [
    "# JSON data constructed from user/pass above.\n",
    "auth_data = {\n",
    "  \"aaaUser\":{\n",
    "    \"attributes\":{\n",
    "      \"name\":username,\n",
    "      \"pwd\":password\n",
    "    }\n",
    "  }\n",
    "}"
   ]
  },
  {
   "cell_type": "code",
   "execution_count": 28,
   "metadata": {},
   "outputs": [],
   "source": [
    "# Comment or delete this line if you want to see SSL certificate warnings (eg, self-signed, untrusted, etc)\n",
    "requests.packages.urllib3.disable_warnings() "
   ]
  },
  {
   "cell_type": "code",
   "execution_count": 29,
   "metadata": {},
   "outputs": [
    {
     "data": {
      "text/plain": [
       "<Response [200]>"
      ]
     },
     "execution_count": 29,
     "metadata": {},
     "output_type": "execute_result"
    }
   ],
   "source": [
    "# Initiate a session with the APIC\n",
    "s = requests.session()\n",
    "s.post(auth_url, json=auth_data, verify=False)"
   ]
  },
  {
   "cell_type": "code",
   "execution_count": 30,
   "metadata": {},
   "outputs": [],
   "source": [
    "# Set up our class/object URI variables\n",
    "# Global Endpoints Class\n",
    "global_ep=\"node/class/fvCEp.json\"\n",
    "\n",
    "# Tenant Endpoints by EPG\n",
    "tenant_endpoints = \"node/class/fvAEPg.json\"\n",
    "c_string = \"?rsp-subtree=children\"\n",
    "tenant_endpoints_url = base_url + tenant_endpoints + c_string\n",
    "\n",
    "\n",
    "# Health Score / Summary Classes\n",
    "health = \"node/mo/topology/HDfabricOverallHealth5min-0.json\"\n",
    "info = \"node/mo/info.json\"\n",
    "fault = \"node/class/faultSummary.json\"\n",
    "\n",
    "global_ep_url = base_url + global_ep\n",
    "health_url = base_url + health\n",
    "info_url = base_url + info\n",
    "fault_url = base_url + fault"
   ]
  },
  {
   "cell_type": "code",
   "execution_count": 31,
   "metadata": {},
   "outputs": [],
   "source": [
    "def get_endpoints(url):\n",
    "    s_response = s.get(url, verify=False)\n",
    "    s_global_ep = s_response.json()\n",
    "    tenant_list = []\n",
    "    epg_list = []\n",
    "    ep_list = []\n",
    "    ip_list = []\n",
    "    mac_list = []\n",
    "    encap_list = []\n",
    "\n",
    "    object_list = s_global_ep['imdata']\n",
    "    for object in object_list:\n",
    "        #print(object)\n",
    "        dn = object['fvCEp']['attributes']['dn']\n",
    "        split_dn = dn.split(\"/\")\n",
    "        tenant_list.append(split_dn[1])\n",
    "        epg_list.append(split_dn[-2])\n",
    "        ep_list.append(split_dn[-1])\n",
    "        ip_list.append(object['fvCEp']['attributes']['ip'])\n",
    "        mac_list.append(object['fvCEp']['attributes']['mac'])\n",
    "        encap_list.append(object['fvCEp']['attributes']['encap'])\n",
    "    list_of_global_ep = zip(tenant_list, epg_list, ep_list, ip_list, mac_list, encap_list)\n",
    "    df_input = list(list_of_global_ep)\n",
    "    df = pd.DataFrame(df_input, columns=(\"Tenant\",\"EPG or VRF/L3out\",\"Endpoint\",\"IP\",\"MAC Addy\",\"Encap\"))\n",
    "    ep = df[['Tenant','Endpoint']]\n",
    "    grouped_df = ep.groupby(['Tenant']).count()\n",
    "    return grouped_df, df"
   ]
  },
  {
   "cell_type": "code",
   "execution_count": 32,
   "metadata": {},
   "outputs": [],
   "source": [
    "# Get Global Endpoints \n",
    "global_ep_summary, global_endpoints = get_endpoints(global_ep_url)"
   ]
  },
  {
   "cell_type": "code",
   "execution_count": 33,
   "metadata": {},
   "outputs": [],
   "source": [
    "def get_tenant_endpoints(url):\n",
    "    epg_response = s.get(tenant_endpoints_url, verify=False)\n",
    "    epg_json = epg_response.json()\n",
    "    epg_objects_list = epg_json['imdata']\n",
    "    tenant_list = []\n",
    "    ap_list = []\n",
    "    epg_list = []\n",
    "    endpoint_list = []\n",
    "    ip_list = []\n",
    "    mac_list = []\n",
    "    encap_list = []\n",
    "    for epg_object in epg_objects_list:\n",
    "        dn = epg_object['fvAEPg']['attributes']['dn']\n",
    "        split_dn = dn.split(\"/\")\n",
    "        tenant = split_dn[1]\n",
    "        ap = split_dn[2]\n",
    "        epg = split_dn[-1]\n",
    "        children_list = epg_object['fvAEPg']['children']\n",
    "        endpoint = None\n",
    "        ip = None\n",
    "        mac = None\n",
    "        encap = None\n",
    "        for child in children_list:\n",
    "            if \"fvCEp\" in child:\n",
    "                endpoint = child['fvCEp']['attributes']['name']\n",
    "                ip = child['fvCEp']['attributes']['ip']\n",
    "                mac = child['fvCEp']['attributes']['mac']\n",
    "                encap = child['fvCEp']['attributes']['encap']\n",
    "        tenant_list.append(tenant)\n",
    "        ap_list.append(ap)\n",
    "        epg_list.append(epg)\n",
    "        endpoint_list.append(endpoint)\n",
    "        ip_list.append(ip)\n",
    "        mac_list.append(mac)\n",
    "        encap_list.append(encap)\n",
    "    tn_ep_list = zip(tenant_list, ap_list, epg_list, endpoint_list, ip_list, mac_list, encap_list)\n",
    "    df_input = list(tn_ep_list)\n",
    "    df = pd.DataFrame(df_input, columns=(\"Tenant\",\"AP\",\"EPG\",\"Endpoint\",\"IP\",\"MAC Addy\",\"Encap\"))\n",
    "    df.fillna(value=pd.np.nan, inplace=True)\n",
    "    sorted_df = df.sort_values(by=['Endpoint'], ascending=False)\n",
    "    grouped_df = df.groupby(['Tenant']).agg({'EPG':'count','Endpoint':'count'})\n",
    "    return grouped_df, sorted_df"
   ]
  },
  {
   "cell_type": "code",
   "execution_count": 34,
   "metadata": {},
   "outputs": [],
   "source": [
    "# Get Endpoints summary by tenant, thenget list of all tenant endpoints, \n",
    "# including EPGs with no endpoints. \n",
    "tenant_endpoints_summary, tenant_endpoints = get_tenant_endpoints(tenant_endpoints_url)"
   ]
  },
  {
   "cell_type": "code",
   "execution_count": 39,
   "metadata": {},
   "outputs": [],
   "source": [
    "# Returns Five Minute Health Score, Summary of Faults, and Table of Faults\n",
    "def get_healthcheck(health_url, fault_url):\n",
    "    # get ACI Fabric Health Score, Five Minute Average\n",
    "    s_response = s.get(health_url, verify=False)\n",
    "    s_health_data = s_response.json()\n",
    "    health_score = s_health_data['imdata'][0]\n",
    "    five_min_avg = health_score['fabricOverallHealthHist5min']['attributes']['healthAvg']\n",
    "    # Get ACI faults\n",
    "    s_response = s.get(fault_url, verify=False)\n",
    "    s_fault = s_response.json()\n",
    "    descr_list = []\n",
    "    severity_list = []\n",
    "    code_list = []\n",
    "    type_list = []\n",
    "    dn_list = []\n",
    "    cause_list = []\n",
    "    object_list = s_fault['imdata']\n",
    "    for object in object_list:\n",
    "        #print(object)\n",
    "        dn_list.append(object['faultSummary']['attributes']['dn'])\n",
    "        descr_list.append(object['faultSummary']['attributes']['descr'])\n",
    "        severity_list.append(object['faultSummary']['attributes']['severity'])\n",
    "        code_list.append(object['faultSummary']['attributes']['code'])\n",
    "        type_list.append(object['faultSummary']['attributes']['type'])\n",
    "        cause_list.append(object['faultSummary']['attributes']['cause'])\n",
    "    list_of_objects = zip(code_list,severity_list,descr_list,cause_list,type_list,dn_list)\n",
    "    df_input = list(list_of_objects)\n",
    "    df = pd.DataFrame(df_input, columns=(\"Code\",\"Severity\",\"Description\",\"Cause\",\"Type\",\"DN\"))\n",
    "    summary_df = df.groupby(['Severity', 'Type']).agg({'Cause':'count'})\n",
    "    return five_min_avg, summary_df, df"
   ]
  },
  {
   "cell_type": "code",
   "execution_count": 40,
   "metadata": {},
   "outputs": [],
   "source": [
    "score, fault_summary, fault_list = get_healthcheck(health_url, fault_url)"
   ]
  },
  {
   "cell_type": "code",
   "execution_count": null,
   "metadata": {},
   "outputs": [],
   "source": []
  },
  {
   "cell_type": "markdown",
   "metadata": {},
   "source": []
  }
 ],
 "metadata": {
  "kernelspec": {
   "display_name": "Python 3",
   "language": "python",
   "name": "python3"
  },
  "language_info": {
   "codemirror_mode": {
    "name": "ipython",
    "version": 3
   },
   "file_extension": ".py",
   "mimetype": "text/x-python",
   "name": "python",
   "nbconvert_exporter": "python",
   "pygments_lexer": "ipython3",
   "version": "3.7.1"
  }
 },
 "nbformat": 4,
 "nbformat_minor": 2
}
