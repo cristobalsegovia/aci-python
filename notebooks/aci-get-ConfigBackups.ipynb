{
 "cells": [
  {
   "cell_type": "markdown",
   "metadata": {},
   "source": [
    "# Unofficial ACI Guide\n",
    "## Python 3 - Get ConfigBackups Example"
   ]
  },
  {
   "cell_type": "markdown",
   "metadata": {},
   "source": [
    "This is a simple Python example demonstrating how to list all ConfigBackups in a fabric.  \n",
    "This is boilerplate. Feel free to use in your own stuff."
   ]
  },
  {
   "cell_type": "code",
   "execution_count": 5,
   "metadata": {},
   "outputs": [],
   "source": [
    "import requests\n",
    "import json"
   ]
  },
  {
   "cell_type": "code",
   "execution_count": 6,
   "metadata": {},
   "outputs": [],
   "source": [
    "# Put your credentials in the config.py file.\n",
    "\n",
    "from config import controller, username, password\n",
    "base_url = \"https://\" + str(controller) + \"/api/\"\n",
    "auth_bit = \"aaaLogin.json\"\n",
    "auth_url = base_url + auth_bit\n",
    "auth_data = {\n",
    "  \"aaaUser\":{\n",
    "    \"attributes\":{\n",
    "      \"name\":username,\n",
    "      \"pwd\":password\n",
    "    }\n",
    "  }\n",
    "}"
   ]
  },
  {
   "cell_type": "code",
   "execution_count": 7,
   "metadata": {},
   "outputs": [
    {
     "data": {
      "text/plain": [
       "<Response [200]>"
      ]
     },
     "execution_count": 7,
     "metadata": {},
     "output_type": "execute_result"
    }
   ],
   "source": [
    "# Construct the Request\n",
    "requests.packages.urllib3.disable_warnings() \n",
    "s = requests.session()\n",
    "s.post(auth_url, json=auth_data, verify=False)"
   ]
  },
  {
   "cell_type": "code",
   "execution_count": 8,
   "metadata": {},
   "outputs": [],
   "source": [
    "# Set up our class URL\n",
    "ConfigBackup_class=\"node/class/configExportP.json\"\n",
    "ConfigBackup_url = base_url + ConfigBackup_class"
   ]
  },
  {
   "cell_type": "code",
   "execution_count": 9,
   "metadata": {},
   "outputs": [],
   "source": [
    "# Query CLass for objects\n",
    "ConfigBackups = s.get(ConfigBackup_url, verify=False)\n",
    "s_out = ConfigBackups.json()"
   ]
  },
  {
   "cell_type": "code",
   "execution_count": 10,
   "metadata": {},
   "outputs": [],
   "source": [
    "# Uncomment to print full output.\n",
    "#print(json.dumps(s_out, indent=4, sort_keys=True))"
   ]
  },
  {
   "cell_type": "code",
   "execution_count": 11,
   "metadata": {},
   "outputs": [],
   "source": [
    "# Let's get all our ConfigBackups now.\n",
    "# Start with an empty list.\n",
    "ConfigBackup_list = []\n",
    "count = 0\n",
    "\n"
   ]
  },
  {
   "cell_type": "code",
   "execution_count": 12,
   "metadata": {},
   "outputs": [],
   "source": [
    "ConfigBackup_out_list = s_out['imdata']\n",
    "\n",
    "for ConfigBackup in ConfigBackup_out_list:\n",
    "   # print(ConfigBackup)\n",
    "    dn = ConfigBackup['configExportP']['attributes']['dn']\n",
    "    #print(dn)\n",
    "    split_dn = dn.split(\"/\")\n",
    "    ConfigBackup_list.append(dn)\n",
    "    count = count + 1"
   ]
  },
  {
   "cell_type": "code",
   "execution_count": 13,
   "metadata": {},
   "outputs": [
    {
     "name": "stdout",
     "output_type": "stream",
     "text": [
      "\n",
      "ConfigBackups in the Fabric: \n",
      "====================\n",
      "uni/fabric/configexp-DailyAutoBackup\n",
      "uni/fabric/configexp-defaultOneTime\n",
      "uni/fabric/configexp-ConfigExport\n",
      "uni/fabric/configexp-ConfigBackupEncrypted\n",
      "uni/fabric/configexp-DailyBackupEncrypted\n",
      "uni/fabric/configexp-defaultAuto\n",
      "uni/fabric/configexp-JW_2\n",
      "====================\n",
      "\n",
      "There are 7 Config Backup Policies\n"
     ]
    }
   ],
   "source": [
    "print(\"\\nConfigBackups in the Fabric: \")\n",
    "print('====================')\n",
    "[print(ConfigBackup) for ConfigBackup in ConfigBackup_list]\n",
    "print('====================')\n",
    "print('\\nThere are', count, 'Config Backup Policies')"
   ]
  },
  {
   "cell_type": "code",
   "execution_count": null,
   "metadata": {},
   "outputs": [],
   "source": []
  }
 ],
 "metadata": {
  "kernelspec": {
   "display_name": "Python 3",
   "language": "python",
   "name": "python3"
  },
  "language_info": {
   "codemirror_mode": {
    "name": "ipython",
    "version": 3
   },
   "file_extension": ".py",
   "mimetype": "text/x-python",
   "name": "python",
   "nbconvert_exporter": "python",
   "pygments_lexer": "ipython3",
   "version": "3.7.1"
  }
 },
 "nbformat": 4,
 "nbformat_minor": 2
}
