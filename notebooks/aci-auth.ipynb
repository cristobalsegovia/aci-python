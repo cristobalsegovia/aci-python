{
 "cells": [
  {
   "cell_type": "markdown",
   "metadata": {},
   "source": [
    "# Unofficial ACI Guide\n",
    "\n",
    "## Python 3 Authentication Example"
   ]
  },
  {
   "cell_type": "markdown",
   "metadata": {},
   "source": [
    "This is a simple Python example demonstrating authentication.  \n",
    "No Cisco ACI-related toolkits, SDKs, or bindings were harmed in the creation of this example."
   ]
  },
  {
   "cell_type": "code",
   "execution_count": 5,
   "metadata": {},
   "outputs": [],
   "source": [
    "import requests\n",
    "import json"
   ]
  },
  {
   "cell_type": "markdown",
   "metadata": {},
   "source": [
    "Enter your controller hostname/IP and user credentials below.  \n",
    "You probably don't want to do this while someone watches over your shoulder.  \n",
    "Some examples for reading user info from a config file and prompted are also included."
   ]
  },
  {
   "cell_type": "code",
   "execution_count": 6,
   "metadata": {},
   "outputs": [],
   "source": [
    "# Variables to construct our URLs.\n",
    "# Configure username, password, and controller.\n",
    "# You can use inline, a separate config file, or prompted on the command-line.\n",
    "# Just uncomment which one you wish to use.\n",
    "\n",
    "# Inline:\n",
    "#controller = \"wabac-machine.mr-peabody.com\"\n",
    "#username = \"sherman\"\n",
    "#password = \"and-away-we-go!\"\n",
    "\n",
    "# From a config.py file:\n",
    "from config import controller, username, password \n",
    "\n",
    "# Prompted for user/pass on the command line:\n",
    "#controller = input('Controller hostname or IP address: ')\n",
    "#username = input('Username: ')\n",
    "#password = input('Password: ')\n",
    "\n",
    "base_url = \"https://\" + str(controller) + \"/api/\"\n",
    "auth_bit = \"aaaLogin.json\"\n",
    "auth_url = base_url + auth_bit"
   ]
  },
  {
   "cell_type": "code",
   "execution_count": 7,
   "metadata": {},
   "outputs": [],
   "source": [
    "# JSON data constructed from user/pass above.\n",
    "\n",
    "auth_data = {\n",
    "  \"aaaUser\":{\n",
    "    \"attributes\":{\n",
    "      \"name\":username,\n",
    "      \"pwd\":password\n",
    "    }\n",
    "  }\n",
    "}"
   ]
  },
  {
   "cell_type": "markdown",
   "metadata": {},
   "source": [
    "### WARNING! PASSWORDS PRINTED BELOW! "
   ]
  },
  {
   "cell_type": "code",
   "execution_count": 9,
   "metadata": {},
   "outputs": [],
   "source": [
    "# Delete or comment out the print statment below to avoid this.\n",
    "# Or, don't run this cell. It's just informational to demostrate \n",
    "# what the combined string looks like.\n",
    "\n",
    "# Here's the assembled auth URL and the data we need to POST to it. \n",
    "#print(\"Auth URL: \" + auth_url + \"\\n\" + \"Auth Data: \" + str(auth_data) + \"\\n\")"
   ]
  },
  {
   "cell_type": "markdown",
   "metadata": {},
   "source": [
    "## Construct the Request"
   ]
  },
  {
   "cell_type": "code",
   "execution_count": 13,
   "metadata": {},
   "outputs": [
    {
     "name": "stdout",
     "output_type": "stream",
     "text": [
      "Server responsded with 200\n"
     ]
    },
    {
     "name": "stderr",
     "output_type": "stream",
     "text": [
      "/anaconda2/envs/PythonData/lib/python3.6/site-packages/urllib3/connectionpool.py:857: InsecureRequestWarning: Unverified HTTPS request is being made. Adding certificate verification is strongly advised. See: https://urllib3.readthedocs.io/en/latest/advanced-usage.html#ssl-warnings\n",
      "  InsecureRequestWarning)\n"
     ]
    }
   ],
   "source": [
    "# \"requests.post\" sends an HTTP POST to auth_url shown above.\n",
    "# \"json=auth_data\" encodes the payload auth_data as json\n",
    "# \"verify=False\" means we will not try to validate the self-signed SSL ccertificate our controller uses\n",
    "\n",
    "r = requests.post(auth_url, json=auth_data, verify=False)\n",
    "\n",
    "# This prints the HTTP response, such as 200, 403, 404, 500, etc.\n",
    "# You could use this for error trapping.\n",
    "print(\"Server responsded with \" + str(r.status_code))"
   ]
  },
  {
   "cell_type": "code",
   "execution_count": 14,
   "metadata": {},
   "outputs": [],
   "source": [
    "# We're taking the response, r, and running the json() method to decode JSON \n",
    "# into native Python data structures, like list and dictionaries. We'll store\n",
    "# that into a variable called \"r_json\" to work with.\n",
    "r_json = r.json()"
   ]
  },
  {
   "cell_type": "code",
   "execution_count": 15,
   "metadata": {},
   "outputs": [
    {
     "data": {
      "text/plain": [
       "{'totalCount': '1',\n",
       " 'imdata': [{'aaaLogin': {'attributes': {'token': 'dIwGAAAAAAAAAAAAAAAAAJA8mHDjahqU4dPrVHCS7IFIb9ELpOrH+09z+waSfk8RrMxFIQx2x0bUbN1S5I8N911PyvdzjbEQpnP9FQGsMz5U7Nv7GxnTmSHsYYHH5rD4BY+q0I7NpyPI0ERnFOU3pqT8FJ2nUJFskhAtOekyum+f/E1Eh/sEHMO0VbAoTrQxCLZEqwaMPUdefkXFqgsf0xE1+n6bYqadq61lv3UC3hjC0tHV6hBCpwAxWwqInf0E',\n",
       "     'siteFingerprint': '2hlEKPs8VI2HTh7E',\n",
       "     'refreshTimeoutSeconds': '3600',\n",
       "     'maximumLifetimeSeconds': '86400',\n",
       "     'guiIdleTimeoutSeconds': '3600',\n",
       "     'restTimeoutSeconds': '90',\n",
       "     'creationTime': '1551387608',\n",
       "     'firstLoginTime': '1551387608',\n",
       "     'userName': 'admin',\n",
       "     'remoteUser': 'false',\n",
       "     'unixUserId': '15374',\n",
       "     'sessionId': '16fs3up8StaGozM+mQxEMA==',\n",
       "     'lastName': '',\n",
       "     'firstName': '',\n",
       "     'changePassword': 'no',\n",
       "     'version': '4.0(3d)',\n",
       "     'buildTime': 'Thu Feb 07 16:20:39 PST 2019',\n",
       "     'node': 'topology/pod-1/node-1'},\n",
       "    'children': [{'aaaUserDomain': {'attributes': {'name': 'common',\n",
       "        'rolesR': 'vmm-connectivity,vmm-security,vmm-policy,vmm-ep,vmm-protocol-ops,tenant-qos,tenant-security,tenant-network-profile,tenant-epg,tenant-connectivity-l1,tenant-connectivity-l2,tenant-connectivity-l3,tenant-connectivity-mgmt,tenant-connectivity-util,tenant-protocol-l1,tenant-protocol-l2,tenant-protocol-l3,tenant-protocol-mgmt,tenant-protocol-util,tenant-protocol-ops,tenant-ext-connectivity-l1,tenant-ext-connectivity-l2,tenant-ext-connectivity-l3,tenant-ext-connectivity-mgmt,tenant-ext-connectivity-util,tenant-ext-protocol-l1,tenant-ext-protocol-l2,tenant-ext-protocol-l3,tenant-ext-protocol-mgmt,tenant-ext-protocol-util,fabric-connectivity-l1,fabric-connectivity-l2,fabric-connectivity-l3,fabric-connectivity-mgmt,fabric-connectivity-util,fabric-protocol-l1,fabric-protocol-l2,fabric-protocol-l3,fabric-protocol-mgmt,fabric-protocol-util,fabric-protocol-ops,fabric-equipment,access-connectivity-l1,access-connectivity-l2,access-connectivity-l3,access-connectivity-mgmt,access-connectivity-util,access-protocol-l1,access-protocol-l2,access-protocol-l3,access-protocol-mgmt,access-protocol-util,access-protocol-ops,access-equipment,access-qos,ops,nw-svc-devshare,nw-svc-policy,nw-svc-device',\n",
       "        'rolesW': ''},\n",
       "       'children': [{'aaaReadRoles': {'attributes': {},\n",
       "          'children': [{'role': {'attributes': {'name': 'read-all'}}}]}},\n",
       "        {'aaaWriteRoles': {'attributes': {}}}]}},\n",
       "     {'aaaUserDomain': {'attributes': {'name': 'all',\n",
       "        'rolesR': 'admin',\n",
       "        'rolesW': 'admin'},\n",
       "       'children': [{'aaaReadRoles': {'attributes': {}}},\n",
       "        {'aaaWriteRoles': {'attributes': {},\n",
       "          'children': [{'role': {'attributes': {'name': 'admin'}}}]}}]}},\n",
       "     {'DnDomainMapEntry': {'attributes': {'dn': 'uni/tn-infra',\n",
       "        'readPrivileges': 'admin',\n",
       "        'writePrivileges': 'admin'}}},\n",
       "     {'DnDomainMapEntry': {'attributes': {'dn': 'uni/tn-mgmt',\n",
       "        'readPrivileges': 'admin',\n",
       "        'writePrivileges': 'admin'}}},\n",
       "     {'DnDomainMapEntry': {'attributes': {'dn': 'uni/tn-common',\n",
       "        'readPrivileges': 'admin,vmm-connectivity,vmm-security,vmm-policy,vmm-ep,vmm-protocol-ops,tenant-qos,tenant-security,tenant-network-profile,tenant-epg,tenant-connectivity-l1,tenant-connectivity-l2,tenant-connectivity-l3,tenant-connectivity-mgmt,tenant-connectivity-util,tenant-protocol-l1,tenant-protocol-l2,tenant-protocol-l3,tenant-protocol-mgmt,tenant-protocol-util,tenant-protocol-ops,tenant-ext-connectivity-l1,tenant-ext-connectivity-l2,tenant-ext-connectivity-l3,tenant-ext-connectivity-mgmt,tenant-ext-connectivity-util,tenant-ext-protocol-l1,tenant-ext-protocol-l2,tenant-ext-protocol-l3,tenant-ext-protocol-mgmt,tenant-ext-protocol-util,fabric-connectivity-l1,fabric-connectivity-l2,fabric-connectivity-l3,fabric-connectivity-mgmt,fabric-connectivity-util,fabric-protocol-l1,fabric-protocol-l2,fabric-protocol-l3,fabric-protocol-mgmt,fabric-protocol-util,fabric-protocol-ops,fabric-equipment,access-connectivity-l1,access-connectivity-l2,access-connectivity-l3,access-connectivity-mgmt,access-connectivity-util,access-protocol-l1,access-protocol-l2,access-protocol-l3,access-protocol-mgmt,access-protocol-util,access-protocol-ops,access-equipment,access-qos,ops,nw-svc-devshare,nw-svc-policy,nw-svc-device',\n",
       "        'writePrivileges': 'admin'}}},\n",
       "     {'ReadOnlySubtrees': {'attributes': {'count': '1',\n",
       "        'description': \"List of subtree DNs derived from RBAC domains assigned to this user (domain 'all' privileges do not require RBAC rules to grant access and are not shown below)\"},\n",
       "       'children': [{'RbacRule': {'attributes': {'subtreeDn': 'uni/tn-common',\n",
       "           'domain': 'common'}}}]}}]}}]}"
      ]
     },
     "execution_count": 15,
     "metadata": {},
     "output_type": "execute_result"
    }
   ],
   "source": [
    "# The output is a single dictionary with two keys (\"imdata\" and \"totalCount\"), and a whole lotta stuff.\n",
    "r_json"
   ]
  },
  {
   "cell_type": "code",
   "execution_count": 16,
   "metadata": {},
   "outputs": [
    {
     "name": "stdout",
     "output_type": "stream",
     "text": [
      "{\n",
      "    \"imdata\": [\n",
      "        {\n",
      "            \"aaaLogin\": {\n",
      "                \"attributes\": {\n",
      "                    \"buildTime\": \"Thu Feb 07 16:20:39 PST 2019\",\n",
      "                    \"changePassword\": \"no\",\n",
      "                    \"creationTime\": \"1551387608\",\n",
      "                    \"firstLoginTime\": \"1551387608\",\n",
      "                    \"firstName\": \"\",\n",
      "                    \"guiIdleTimeoutSeconds\": \"3600\",\n",
      "                    \"lastName\": \"\",\n",
      "                    \"maximumLifetimeSeconds\": \"86400\",\n",
      "                    \"node\": \"topology/pod-1/node-1\",\n",
      "                    \"refreshTimeoutSeconds\": \"3600\",\n",
      "                    \"remoteUser\": \"false\",\n",
      "                    \"restTimeoutSeconds\": \"90\",\n",
      "                    \"sessionId\": \"16fs3up8StaGozM+mQxEMA==\",\n",
      "                    \"siteFingerprint\": \"2hlEKPs8VI2HTh7E\",\n",
      "                    \"token\": \"dIwGAAAAAAAAAAAAAAAAAJA8mHDjahqU4dPrVHCS7IFIb9ELpOrH+09z+waSfk8RrMxFIQx2x0bUbN1S5I8N911PyvdzjbEQpnP9FQGsMz5U7Nv7GxnTmSHsYYHH5rD4BY+q0I7NpyPI0ERnFOU3pqT8FJ2nUJFskhAtOekyum+f/E1Eh/sEHMO0VbAoTrQxCLZEqwaMPUdefkXFqgsf0xE1+n6bYqadq61lv3UC3hjC0tHV6hBCpwAxWwqInf0E\",\n",
      "                    \"unixUserId\": \"15374\",\n",
      "                    \"userName\": \"admin\",\n",
      "                    \"version\": \"4.0(3d)\"\n",
      "                },\n",
      "                \"children\": [\n",
      "                    {\n",
      "                        \"aaaUserDomain\": {\n",
      "                            \"attributes\": {\n",
      "                                \"name\": \"common\",\n",
      "                                \"rolesR\": \"vmm-connectivity,vmm-security,vmm-policy,vmm-ep,vmm-protocol-ops,tenant-qos,tenant-security,tenant-network-profile,tenant-epg,tenant-connectivity-l1,tenant-connectivity-l2,tenant-connectivity-l3,tenant-connectivity-mgmt,tenant-connectivity-util,tenant-protocol-l1,tenant-protocol-l2,tenant-protocol-l3,tenant-protocol-mgmt,tenant-protocol-util,tenant-protocol-ops,tenant-ext-connectivity-l1,tenant-ext-connectivity-l2,tenant-ext-connectivity-l3,tenant-ext-connectivity-mgmt,tenant-ext-connectivity-util,tenant-ext-protocol-l1,tenant-ext-protocol-l2,tenant-ext-protocol-l3,tenant-ext-protocol-mgmt,tenant-ext-protocol-util,fabric-connectivity-l1,fabric-connectivity-l2,fabric-connectivity-l3,fabric-connectivity-mgmt,fabric-connectivity-util,fabric-protocol-l1,fabric-protocol-l2,fabric-protocol-l3,fabric-protocol-mgmt,fabric-protocol-util,fabric-protocol-ops,fabric-equipment,access-connectivity-l1,access-connectivity-l2,access-connectivity-l3,access-connectivity-mgmt,access-connectivity-util,access-protocol-l1,access-protocol-l2,access-protocol-l3,access-protocol-mgmt,access-protocol-util,access-protocol-ops,access-equipment,access-qos,ops,nw-svc-devshare,nw-svc-policy,nw-svc-device\",\n",
      "                                \"rolesW\": \"\"\n",
      "                            },\n",
      "                            \"children\": [\n",
      "                                {\n",
      "                                    \"aaaReadRoles\": {\n",
      "                                        \"attributes\": {},\n",
      "                                        \"children\": [\n",
      "                                            {\n",
      "                                                \"role\": {\n",
      "                                                    \"attributes\": {\n",
      "                                                        \"name\": \"read-all\"\n",
      "                                                    }\n",
      "                                                }\n",
      "                                            }\n",
      "                                        ]\n",
      "                                    }\n",
      "                                },\n",
      "                                {\n",
      "                                    \"aaaWriteRoles\": {\n",
      "                                        \"attributes\": {}\n",
      "                                    }\n",
      "                                }\n",
      "                            ]\n",
      "                        }\n",
      "                    },\n",
      "                    {\n",
      "                        \"aaaUserDomain\": {\n",
      "                            \"attributes\": {\n",
      "                                \"name\": \"all\",\n",
      "                                \"rolesR\": \"admin\",\n",
      "                                \"rolesW\": \"admin\"\n",
      "                            },\n",
      "                            \"children\": [\n",
      "                                {\n",
      "                                    \"aaaReadRoles\": {\n",
      "                                        \"attributes\": {}\n",
      "                                    }\n",
      "                                },\n",
      "                                {\n",
      "                                    \"aaaWriteRoles\": {\n",
      "                                        \"attributes\": {},\n",
      "                                        \"children\": [\n",
      "                                            {\n",
      "                                                \"role\": {\n",
      "                                                    \"attributes\": {\n",
      "                                                        \"name\": \"admin\"\n",
      "                                                    }\n",
      "                                                }\n",
      "                                            }\n",
      "                                        ]\n",
      "                                    }\n",
      "                                }\n",
      "                            ]\n",
      "                        }\n",
      "                    },\n",
      "                    {\n",
      "                        \"DnDomainMapEntry\": {\n",
      "                            \"attributes\": {\n",
      "                                \"dn\": \"uni/tn-infra\",\n",
      "                                \"readPrivileges\": \"admin\",\n",
      "                                \"writePrivileges\": \"admin\"\n",
      "                            }\n",
      "                        }\n",
      "                    },\n",
      "                    {\n",
      "                        \"DnDomainMapEntry\": {\n",
      "                            \"attributes\": {\n",
      "                                \"dn\": \"uni/tn-mgmt\",\n",
      "                                \"readPrivileges\": \"admin\",\n",
      "                                \"writePrivileges\": \"admin\"\n",
      "                            }\n",
      "                        }\n",
      "                    },\n",
      "                    {\n",
      "                        \"DnDomainMapEntry\": {\n",
      "                            \"attributes\": {\n",
      "                                \"dn\": \"uni/tn-common\",\n",
      "                                \"readPrivileges\": \"admin,vmm-connectivity,vmm-security,vmm-policy,vmm-ep,vmm-protocol-ops,tenant-qos,tenant-security,tenant-network-profile,tenant-epg,tenant-connectivity-l1,tenant-connectivity-l2,tenant-connectivity-l3,tenant-connectivity-mgmt,tenant-connectivity-util,tenant-protocol-l1,tenant-protocol-l2,tenant-protocol-l3,tenant-protocol-mgmt,tenant-protocol-util,tenant-protocol-ops,tenant-ext-connectivity-l1,tenant-ext-connectivity-l2,tenant-ext-connectivity-l3,tenant-ext-connectivity-mgmt,tenant-ext-connectivity-util,tenant-ext-protocol-l1,tenant-ext-protocol-l2,tenant-ext-protocol-l3,tenant-ext-protocol-mgmt,tenant-ext-protocol-util,fabric-connectivity-l1,fabric-connectivity-l2,fabric-connectivity-l3,fabric-connectivity-mgmt,fabric-connectivity-util,fabric-protocol-l1,fabric-protocol-l2,fabric-protocol-l3,fabric-protocol-mgmt,fabric-protocol-util,fabric-protocol-ops,fabric-equipment,access-connectivity-l1,access-connectivity-l2,access-connectivity-l3,access-connectivity-mgmt,access-connectivity-util,access-protocol-l1,access-protocol-l2,access-protocol-l3,access-protocol-mgmt,access-protocol-util,access-protocol-ops,access-equipment,access-qos,ops,nw-svc-devshare,nw-svc-policy,nw-svc-device\",\n",
      "                                \"writePrivileges\": \"admin\"\n",
      "                            }\n",
      "                        }\n",
      "                    },\n",
      "                    {\n",
      "                        \"ReadOnlySubtrees\": {\n",
      "                            \"attributes\": {\n",
      "                                \"count\": \"1\",\n",
      "                                \"description\": \"List of subtree DNs derived from RBAC domains assigned to this user (domain 'all' privileges do not require RBAC rules to grant access and are not shown below)\"\n",
      "                            },\n",
      "                            \"children\": [\n",
      "                                {\n",
      "                                    \"RbacRule\": {\n",
      "                                        \"attributes\": {\n",
      "                                            \"domain\": \"common\",\n",
      "                                            \"subtreeDn\": \"uni/tn-common\"\n",
      "                                        }\n",
      "                                    }\n",
      "                                }\n",
      "                            ]\n",
      "                        }\n",
      "                    }\n",
      "                ]\n",
      "            }\n",
      "        }\n",
      "    ],\n",
      "    \"totalCount\": \"1\"\n",
      "}\n"
     ]
    }
   ],
   "source": [
    "# Pretty Print, pretty please?\n",
    "print(json.dumps(r_json, indent=4, sort_keys=True))\n",
    "\n",
    "# The output is easier to visualize now. We see we have two dictionaries; one is called \n",
    "# \"totalCount\" and can be used to cross-check the number of objects returned. \n",
    "# The other is \"imdata\", whose value is a list of objects (in this case, a single object \n",
    "# called aaaLogin, matching that totalCount above). The aaaLogin object includes attributes\n",
    "# and child objcets with their attributes."
   ]
  },
  {
   "cell_type": "markdown",
   "metadata": {},
   "source": [
    "## Tokens and Cookies"
   ]
  },
  {
   "cell_type": "code",
   "execution_count": 17,
   "metadata": {},
   "outputs": [
    {
     "name": "stdout",
     "output_type": "stream",
     "text": [
      "IrwDAAAAAAAAAAAAAAAAAE0ZnEMtmq0mymgjdI/DyKiQvW7YE6XC4DuOeOnvwtomDTDs0+ClkMLS1kmfXZoS8EwvitIZhwZ/nZAMyGlEdnlmYSaIuu1wNx2re1nZ+5Uws45h7Sxu+YZI2vnoYcfdymDaWe+51SGGWkplKHcCEx0PbVnoZ+3c2BaY1HsFljowp/0e0L18ONoQTXmEacsBRYA7blH1yIti8H6wU+OL0VhuRZaaXws6dGtWIXAO4k+2\n"
     ]
    }
   ],
   "source": [
    "# We can extract the session token from the response body.\n",
    "# We need to reference the dictionary key \"imdata\",\n",
    "# whose value is a list with one element \"aaaLogin\", which happens to be a dictionary itself.\n",
    "# The value of the aaaLogin dictionary key includes a set of atttributes (more dictionaries!)\n",
    "# and child objects for MOAR dictionaries!\n",
    "#\n",
    "# You can traverse this mess by referencing the r_json object/variable, and then using\n",
    "# each of the dictionary keys and list elements to get to the exact key/value pair we need.\n",
    "#\n",
    "# For example:\n",
    "# r_json -> imdata (dict key) -> first object in list (list element \"0\") -> aaaLogin object (dict key) ->\n",
    "#    attributes (dict key) -> token (dict key) -> Value of that token\n",
    "\n",
    "\n",
    "token = r_json[\"imdata\"][0][\"aaaLogin\"][\"attributes\"][\"token\"]\n",
    "print(token)"
   ]
  },
  {
   "cell_type": "code",
   "execution_count": 28,
   "metadata": {},
   "outputs": [
    {
     "data": {
      "text/plain": [
       "{'Server': 'Cisco APIC', 'Date': 'Mon, 25 Feb 2019 19:26:59 GMT', 'Content-Type': 'application/json', 'Content-Length': '4259', 'Connection': 'keep-alive', 'Set-Cookie': 'APIC-cookie=CGwFAAAAAAAAAAAAAAAAABTzTQQDkckm+FwiLTWlzJzj1UA7w+I4QN5irxC8Wj8XJOUK0LmFTAj4MnGJt9B0ZAbrBT3j0L1y9cOzlS71FdbWkwk2F3odOwl7EoyUUbuZaMcHyvEWY1NcbbH9+WK6Par3l/MNzsWPXmeOMbyGvZCZxRIskNcWVim/xLXwNcsrVSD5uFZTZ2dE9s7okcdT3MJiz5IWIUtyF/Q7fEmPtrVibzeam5Nm6F+hDfAoS0yL; path=/; HttpOnly; HttpOnly; Secure', 'Access-Control-Allow-Headers': 'Origin, X-Requested-With, Content-Type, Accept, devcookie, APIC-challenge', 'Access-Control-Allow-Methods': 'POST,GET,OPTIONS,DELETE', 'X-Frame-Options': 'SAMEORIGIN', 'Strict-Transport-Security': 'max-age=31536000; includeSubdomains', 'Cache-Control': 'no-cache=\"Set-Cookie, Set-Cookie2\"', 'Client-Cert-Enabled': 'false', 'Access-Control-Allow-Origin': 'http://127.0.0.1:8000', 'Access-Control-Allow-Credentials': 'true'}"
      ]
     },
     "execution_count": 28,
     "metadata": {},
     "output_type": "execute_result"
    }
   ],
   "source": [
    "# We can also view the HTTP headers from the initial response.\n",
    "# HTTP headers are captured as a single dictionary with each header key/value\n",
    "# mapping to a dictionary key/value.\n",
    "r.headers"
   ]
  },
  {
   "cell_type": "code",
   "execution_count": 18,
   "metadata": {},
   "outputs": [
    {
     "data": {
      "text/plain": [
       "'APIC-cookie=IrwDAAAAAAAAAAAAAAAAAE0ZnEMtmq0mymgjdI/DyKiQvW7YE6XC4DuOeOnvwtomDTDs0+ClkMLS1kmfXZoS8EwvitIZhwZ/nZAMyGlEdnlmYSaIuu1wNx2re1nZ+5Uws45h7Sxu+YZI2vnoYcfdymDaWe+51SGGWkplKHcCEx0PbVnoZ+3c2BaY1HsFljowp/0e0L18ONoQTXmEacsBRYA7blH1yIti8H6wU+OL0VhuRZaaXws6dGtWIXAO4k+2; path=/; HttpOnly; HttpOnly; Secure'"
      ]
     },
     "execution_count": 18,
     "metadata": {},
     "output_type": "execute_result"
    }
   ],
   "source": [
    "# The HTTP headers include the token as a cookie.\n",
    "# We can extract the HTTP header directly, which is formatted like:\n",
    "# Set-Cookie: APIC-cookie=[token]\n",
    "# Show the cookie in the HTTP headers\n",
    "cookie_header = r.headers['Set-Cookie']\n",
    "cookie_header"
   ]
  },
  {
   "cell_type": "code",
   "execution_count": 19,
   "metadata": {},
   "outputs": [
    {
     "data": {
      "text/plain": [
       "'IrwDAAAAAAAAAAAAAAAAAE0ZnEMtmq0mymgjdI/DyKiQvW7YE6XC4DuOeOnvwtomDTDs0+ClkMLS1kmfXZoS8EwvitIZhwZ/nZAMyGlEdnlmYSaIuu1wNx2re1nZ+5Uws45h7Sxu+YZI2vnoYcfdymDaWe+51SGGWkplKHcCEx0PbVnoZ+3c2BaY1HsFljowp/0e0L18ONoQTXmEacsBRYA7blH1yIti8H6wU+OL0VhuRZaaXws6dGtWIXAO4k+2'"
      ]
     },
     "execution_count": 19,
     "metadata": {},
     "output_type": "execute_result"
    }
   ],
   "source": [
    "# The requests module also can extract the cookie directly, by searching for the header key (\"Set-Cookie\"), \n",
    "# and reading its cookie value \"APIC-cookie=[token]\". This is a key=value pair, so this extracts the cookie value\n",
    "# which happily matches the session token above. \n",
    "\n",
    "# Accessing the cookie directly\n",
    "cookie = r.cookies['APIC-cookie']\n",
    "cookie"
   ]
  },
  {
   "cell_type": "code",
   "execution_count": 20,
   "metadata": {},
   "outputs": [
    {
     "name": "stdout",
     "output_type": "stream",
     "text": [
      "Using cookie header: \n",
      "{'APIC-cookie': 'IrwDAAAAAAAAAAAAAAAAAE0ZnEMtmq0mymgjdI/DyKiQvW7YE6XC4DuOeOnvwtomDTDs0+ClkMLS1kmfXZoS8EwvitIZhwZ/nZAMyGlEdnlmYSaIuu1wNx2re1nZ+5Uws45h7Sxu+YZI2vnoYcfdymDaWe+51SGGWkplKHcCEx0PbVnoZ+3c2BaY1HsFljowp/0e0L18ONoQTXmEacsBRYA7blH1yIti8H6wU+OL0VhuRZaaXws6dGtWIXAO4k+2'}\n",
      "\n",
      "Using token: \n",
      "{'APIC-cookie': 'IrwDAAAAAAAAAAAAAAAAAE0ZnEMtmq0mymgjdI/DyKiQvW7YE6XC4DuOeOnvwtomDTDs0+ClkMLS1kmfXZoS8EwvitIZhwZ/nZAMyGlEdnlmYSaIuu1wNx2re1nZ+5Uws45h7Sxu+YZI2vnoYcfdymDaWe+51SGGWkplKHcCEx0PbVnoZ+3c2BaY1HsFljowp/0e0L18ONoQTXmEacsBRYA7blH1yIti8H6wU+OL0VhuRZaaXws6dGtWIXAO4k+2'}\n"
     ]
    }
   ],
   "source": [
    "# In order to send the token with subsequent requests, we'll need to send the cookie back as an HTTP header.\n",
    "# The requests module will asssemble a cookie from a dictionary \"key:value\" pair. \n",
    "# We could also pass multiple cookies as a dictionary with multiple key:value pairs, like so:\n",
    "# cookies = {'Cookie1': some_value, 'Cookie2': some_other_value}\n",
    "# Of course, multiple cookies are contained in a cookie jar, right? Even if there's only one cookie left!\n",
    "cookie_jar = {'APIC-cookie': cookie}\n",
    "cookie_jar\n",
    "\n",
    "# We could also use that session token above, if we wanted to, since we know the APIC requires the cookie \n",
    "# to be in the format \"APIC-cookie\".\n",
    "token_cookie_jar = {'APIC-cookie': token}\n",
    "token_cookie_jar\n",
    "print(\"Using cookie header: \" + \"\\n\" + str(cookie_jar) + \"\\n\\n\" + \"Using token: \" + \"\\n\" + str(token_cookie_jar))"
   ]
  },
  {
   "cell_type": "code",
   "execution_count": 21,
   "metadata": {},
   "outputs": [
    {
     "name": "stderr",
     "output_type": "stream",
     "text": [
      "/anaconda2/envs/aci/lib/python3.7/site-packages/urllib3/connectionpool.py:847: InsecureRequestWarning: Unverified HTTPS request is being made. Adding certificate verification is strongly advised. See: https://urllib3.readthedocs.io/en/latest/advanced-usage.html#ssl-warnings\n",
      "  InsecureRequestWarning)\n"
     ]
    },
    {
     "data": {
      "text/plain": [
       "{'totalCount': '8',\n",
       " 'imdata': [{'fvCEp': {'attributes': {'annotation': '',\n",
       "     'childAction': '',\n",
       "     'contName': '',\n",
       "     'dn': 'uni/tn-COAST/ctx-COAST_vrf/cep-00:DE:FB:79:8D:43',\n",
       "     'encap': 'vlan-222',\n",
       "     'extMngdBy': '',\n",
       "     'id': '0',\n",
       "     'idepdn': '',\n",
       "     'ip': '192.168.50.12',\n",
       "     'lcC': 'learned',\n",
       "     'lcOwn': 'local',\n",
       "     'mac': '00:DE:FB:79:8D:43',\n",
       "     'mcastAddr': 'not-applicable',\n",
       "     'modTs': '2019-02-15T11:58:25.443-06:00',\n",
       "     'monPolDn': 'uni/tn-common/monepg-default',\n",
       "     'name': '00:DE:FB:79:8D:43',\n",
       "     'nameAlias': '',\n",
       "     'status': '',\n",
       "     'uid': '0',\n",
       "     'uuid': '',\n",
       "     'vmmSrc': ''}}},\n",
       "  {'fvCEp': {'attributes': {'annotation': '',\n",
       "     'childAction': '',\n",
       "     'contName': '',\n",
       "     'dn': 'uni/tn-COAST/ctx-COAST_vrf/cep-00:DE:FB:79:8B:C3',\n",
       "     'encap': 'vlan-50',\n",
       "     'extMngdBy': '',\n",
       "     'id': '0',\n",
       "     'idepdn': '',\n",
       "     'ip': '192.168.50.11',\n",
       "     'lcC': 'learned',\n",
       "     'lcOwn': 'local',\n",
       "     'mac': '00:DE:FB:79:8B:C3',\n",
       "     'mcastAddr': 'not-applicable',\n",
       "     'modTs': '2019-02-15T11:34:31.824-06:00',\n",
       "     'monPolDn': 'uni/tn-common/monepg-default',\n",
       "     'name': '00:DE:FB:79:8B:C3',\n",
       "     'nameAlias': '',\n",
       "     'status': '',\n",
       "     'uid': '0',\n",
       "     'uuid': '',\n",
       "     'vmmSrc': ''}}},\n",
       "  {'fvCEp': {'attributes': {'annotation': '',\n",
       "     'childAction': '',\n",
       "     'contName': '',\n",
       "     'dn': 'uni/tn-COAST/ctx-COAST_vrf/cep-00:22:BD:F8:19:FF',\n",
       "     'encap': 'vlan-50',\n",
       "     'extMngdBy': '',\n",
       "     'id': '0',\n",
       "     'idepdn': '',\n",
       "     'ip': '192.168.50.1',\n",
       "     'lcC': '',\n",
       "     'lcOwn': 'local',\n",
       "     'mac': '00:22:BD:F8:19:FF',\n",
       "     'mcastAddr': 'not-applicable',\n",
       "     'modTs': '2019-02-15T11:58:25.443-06:00',\n",
       "     'monPolDn': 'uni/tn-common/monepg-default',\n",
       "     'name': '00:22:BD:F8:19:FF',\n",
       "     'nameAlias': '',\n",
       "     'status': '',\n",
       "     'uid': '0',\n",
       "     'uuid': '',\n",
       "     'vmmSrc': ''}}},\n",
       "  {'fvCEp': {'attributes': {'annotation': '',\n",
       "     'childAction': '',\n",
       "     'contName': '',\n",
       "     'dn': 'uni/tn-COAST/ctx-COAST_vrf/cep-50:0F:80:42:05:AF',\n",
       "     'encap': 'vlan-50',\n",
       "     'extMngdBy': '',\n",
       "     'id': '0',\n",
       "     'idepdn': '',\n",
       "     'ip': '192.168.50.2',\n",
       "     'lcC': '',\n",
       "     'lcOwn': 'local',\n",
       "     'mac': '50:0F:80:42:05:AF',\n",
       "     'mcastAddr': 'not-applicable',\n",
       "     'modTs': '2019-02-11T09:59:57.314-06:00',\n",
       "     'monPolDn': 'uni/tn-common/monepg-default',\n",
       "     'name': '50:0F:80:42:05:AF',\n",
       "     'nameAlias': '',\n",
       "     'status': '',\n",
       "     'uid': '0',\n",
       "     'uuid': '',\n",
       "     'vmmSrc': ''}}},\n",
       "  {'fvCEp': {'attributes': {'annotation': '',\n",
       "     'childAction': '',\n",
       "     'contName': '',\n",
       "     'dn': 'uni/tn-COAST/ap-app1/epg-epg1/cep-00:50:56:93:88:78',\n",
       "     'encap': 'vlan-101',\n",
       "     'extMngdBy': '',\n",
       "     'id': '0',\n",
       "     'idepdn': '',\n",
       "     'ip': '101.1.1.101',\n",
       "     'lcC': 'learned',\n",
       "     'lcOwn': 'local',\n",
       "     'mac': '00:50:56:93:88:78',\n",
       "     'mcastAddr': 'not-applicable',\n",
       "     'modTs': '2019-02-12T08:36:21.569-06:00',\n",
       "     'monPolDn': 'uni/tn-common/monepg-default',\n",
       "     'name': '00:50:56:93:88:78',\n",
       "     'nameAlias': '',\n",
       "     'status': '',\n",
       "     'uid': '0',\n",
       "     'uuid': '',\n",
       "     'vmmSrc': ''}}},\n",
       "  {'fvCEp': {'attributes': {'annotation': '',\n",
       "     'childAction': '',\n",
       "     'contName': '',\n",
       "     'dn': 'uni/tn-COAST/ctx-COAST_vrf/cep-00:00:00:00:00:00',\n",
       "     'encap': 'vlan-50',\n",
       "     'extMngdBy': '',\n",
       "     'id': '0',\n",
       "     'idepdn': '',\n",
       "     'ip': '100.64.3.1',\n",
       "     'lcC': '',\n",
       "     'lcOwn': 'local',\n",
       "     'mac': '00:00:00:00:00:00',\n",
       "     'mcastAddr': 'not-applicable',\n",
       "     'modTs': '2019-02-15T10:55:37.601-06:00',\n",
       "     'monPolDn': 'uni/tn-common/monepg-default',\n",
       "     'name': '00:00:00:00:00:00',\n",
       "     'nameAlias': '',\n",
       "     'status': '',\n",
       "     'uid': '0',\n",
       "     'uuid': '',\n",
       "     'vmmSrc': ''}}},\n",
       "  {'fvCEp': {'attributes': {'annotation': '',\n",
       "     'childAction': '',\n",
       "     'contName': '',\n",
       "     'dn': 'uni/tn-COAST/LDevInst-[uni/tn-COAST/lDevVip-PBR_DEV]-ctx-COAST_vrf/G-PBR_DEVctxCOAST_vrf-N-pbr-C-1arm/cep-00:DE:FB:79:8B:C3',\n",
       "     'encap': 'vlan-223',\n",
       "     'extMngdBy': '',\n",
       "     'id': '0',\n",
       "     'idepdn': '',\n",
       "     'ip': '100.64.4.1',\n",
       "     'lcC': 'learned',\n",
       "     'lcOwn': 'local',\n",
       "     'mac': '00:DE:FB:79:8B:C3',\n",
       "     'mcastAddr': 'not-applicable',\n",
       "     'modTs': '2019-02-21T09:35:28.830-06:00',\n",
       "     'monPolDn': 'uni/tn-common/monepg-default',\n",
       "     'name': '00:DE:FB:79:8B:C3',\n",
       "     'nameAlias': '',\n",
       "     'status': '',\n",
       "     'uid': '0',\n",
       "     'uuid': '',\n",
       "     'vmmSrc': ''}}},\n",
       "  {'fvCEp': {'attributes': {'annotation': '',\n",
       "     'childAction': '',\n",
       "     'contName': '',\n",
       "     'dn': 'uni/tn-COAST/LDevInst-[uni/tn-COAST/lDevVip-PBR_DEV]-ctx-COAST_vrf/G-PBR_DEVctxCOAST_vrf-N-pbr-C-1arm/cep-00:DE:FB:79:8D:43',\n",
       "     'encap': 'vlan-223',\n",
       "     'extMngdBy': '',\n",
       "     'id': '0',\n",
       "     'idepdn': '',\n",
       "     'ip': '100.64.4.3',\n",
       "     'lcC': 'learned',\n",
       "     'lcOwn': 'local',\n",
       "     'mac': '00:DE:FB:79:8D:43',\n",
       "     'mcastAddr': 'not-applicable',\n",
       "     'modTs': '2019-02-21T09:54:09.015-06:00',\n",
       "     'monPolDn': 'uni/tn-common/monepg-default',\n",
       "     'name': '00:DE:FB:79:8D:43',\n",
       "     'nameAlias': '',\n",
       "     'status': '',\n",
       "     'uid': '0',\n",
       "     'uuid': '',\n",
       "     'vmmSrc': ''}}}]}"
      ]
     },
     "execution_count": 21,
     "metadata": {},
     "output_type": "execute_result"
    }
   ],
   "source": [
    "# Now we can construct an authenticated GET using the token or cookie we've extracted and assembled. \n",
    "# How about getting all endpoints in the system?\n",
    "ep_url = base_url + \"node/class/fvCEp.json\"\n",
    "response = requests.get(ep_url, cookies=cookie_jar, verify=False)\n",
    "out = response.json()\n",
    "out"
   ]
  },
  {
   "cell_type": "code",
   "execution_count": 22,
   "metadata": {},
   "outputs": [
    {
     "name": "stdout",
     "output_type": "stream",
     "text": [
      "Total Count: 8 objects.\n",
      "Total Count: 8 fvCEp list elements.\n"
     ]
    }
   ],
   "source": [
    "# Note the \"totalCount\" object, and how it matches the number fvCEp objects in the imdata list returned...\n",
    "# Print the value of the totalCount dictionary key.\n",
    "print(\"Total Count: \" + out[\"totalCount\"] + \" objects.\")\n",
    "\n",
    "# The imdata key has a list value, so we'll count the number of list elements using len()\n",
    "count_of_fvCEp = len(out['imdata'])\n",
    "print(\"Total Count: \" + str(count_of_fvCEp) + \" fvCEp list elements.\")\n",
    "\n",
    "# If those numbers don't match, either the APIC has a problem or you do."
   ]
  },
  {
   "cell_type": "markdown",
   "metadata": {},
   "source": [
    "## Sessions"
   ]
  },
  {
   "cell_type": "code",
   "execution_count": 23,
   "metadata": {},
   "outputs": [
    {
     "name": "stdout",
     "output_type": "stream",
     "text": [
      "Auth URL: https://10.18.188.101/api/aaaLogin.json\n",
      "{'aaaUser': {'attributes': {'name': 'sherman', 'pwd': 'and-away-we-go!'}}}\n",
      "\n",
      "Endpoints URL: https://10.18.188.101/api/node/class/fvCEp.json\n"
     ]
    }
   ],
   "source": [
    "# If you don't want to parse and pass token on each request, \n",
    "# just use requests session object which will retain persistent data (like cookies) for you.\n",
    "# http://docs.python-requests.org/en/master/user/advanced/\n",
    "\n",
    "# Sessions will also keep the TCP connection open for subsequent requests. \n",
    "\n",
    "# WARNING! PASSWORDS PRINTED BELOW! \n",
    "# Delete or comment out the print statment below to avoid this.\n",
    "# Or, don't run this cell. It's just informational.\n",
    "\n",
    "# Here's the assembled auth URL and the data we need to POST to it. \n",
    "print(\"Auth URL: \" + auth_url + \"\\n\" + str(auth_data) + \"\\n\")\n",
    "\n",
    "# The GET request for endpoints:\n",
    "print(\"Endpoints URL: \" + ep_url)"
   ]
  },
  {
   "cell_type": "code",
   "execution_count": 24,
   "metadata": {},
   "outputs": [
    {
     "name": "stderr",
     "output_type": "stream",
     "text": [
      "/anaconda2/envs/aci/lib/python3.7/site-packages/urllib3/connectionpool.py:847: InsecureRequestWarning: Unverified HTTPS request is being made. Adding certificate verification is strongly advised. See: https://urllib3.readthedocs.io/en/latest/advanced-usage.html#ssl-warnings\n",
      "  InsecureRequestWarning)\n"
     ]
    },
    {
     "data": {
      "text/plain": [
       "<Response [200]>"
      ]
     },
     "execution_count": 24,
     "metadata": {},
     "output_type": "execute_result"
    }
   ],
   "source": [
    "# Create a session object, s, and then POST the auth data just like the earlier example. \n",
    "# We don't need to create a new request object since the session will persist that data in the session object.\n",
    "s = requests.session()\n",
    "s.post(auth_url, json=auth_data, verify=False)"
   ]
  },
  {
   "cell_type": "code",
   "execution_count": 25,
   "metadata": {},
   "outputs": [
    {
     "name": "stderr",
     "output_type": "stream",
     "text": [
      "/anaconda2/envs/aci/lib/python3.7/site-packages/urllib3/connectionpool.py:847: InsecureRequestWarning: Unverified HTTPS request is being made. Adding certificate verification is strongly advised. See: https://urllib3.readthedocs.io/en/latest/advanced-usage.html#ssl-warnings\n",
      "  InsecureRequestWarning)\n"
     ]
    }
   ],
   "source": [
    "# Note the lack of cookie headers from the requests object above:\n",
    "# response = requests.get(ep_url, cookies=cookie_jar, verify=False)\n",
    "session_response = s.get(ep_url, verify=False)"
   ]
  },
  {
   "cell_type": "code",
   "execution_count": 26,
   "metadata": {},
   "outputs": [],
   "source": [
    "s_out = session_response.json()"
   ]
  },
  {
   "cell_type": "code",
   "execution_count": 27,
   "metadata": {},
   "outputs": [
    {
     "name": "stdout",
     "output_type": "stream",
     "text": [
      "Total Count: 8 objects.\n",
      "Total Count: 8 fvCEp list elements.\n"
     ]
    }
   ],
   "source": [
    "print(\"Total Count: \" + s_out[\"totalCount\"] + \" objects.\")\n",
    "\n",
    "count_of_fvCEp = len(s_out['imdata'])\n",
    "print(\"Total Count: \" + str(count_of_fvCEp) + \" fvCEp list elements.\")"
   ]
  },
  {
   "cell_type": "code",
   "execution_count": null,
   "metadata": {},
   "outputs": [],
   "source": []
  }
 ],
 "metadata": {
  "kernelspec": {
   "display_name": "Python 3",
   "language": "python",
   "name": "python3"
  },
  "language_info": {
   "codemirror_mode": {
    "name": "ipython",
    "version": 3
   },
   "file_extension": ".py",
   "mimetype": "text/x-python",
   "name": "python",
   "nbconvert_exporter": "python",
   "pygments_lexer": "ipython3",
   "version": "3.7.1"
  }
 },
 "nbformat": 4,
 "nbformat_minor": 2
}
