{
 "cells": [
  {
   "cell_type": "markdown",
   "metadata": {},
   "source": [
    "# Unofficial ACI Guide\n",
    "## Python 3 - Get PortChanPGs Example"
   ]
  },
  {
   "cell_type": "markdown",
   "metadata": {},
   "source": [
    "This is a simple Python example demonstrating how to list all PortChanPGs in a fabric.  \n",
    "This is boilerplate. Feel free to use in your own stuff."
   ]
  },
  {
   "cell_type": "code",
   "execution_count": 3,
   "metadata": {},
   "outputs": [],
   "source": [
    "import requests\n",
    "import json"
   ]
  },
  {
   "cell_type": "code",
   "execution_count": 4,
   "metadata": {},
   "outputs": [],
   "source": [
    "# Put your credentials in the config.py file.\n",
    "\n",
    "from config import controller, username, password\n",
    "base_url = \"https://\" + str(controller) + \"/api/\"\n",
    "auth_bit = \"aaaLogin.json\"\n",
    "auth_url = base_url + auth_bit\n",
    "auth_data = {\n",
    "  \"aaaUser\":{\n",
    "    \"attributes\":{\n",
    "      \"name\":username,\n",
    "      \"pwd\":password\n",
    "    }\n",
    "  }\n",
    "}"
   ]
  },
  {
   "cell_type": "code",
   "execution_count": 5,
   "metadata": {},
   "outputs": [
    {
     "data": {
      "text/plain": [
       "<Response [200]>"
      ]
     },
     "execution_count": 5,
     "metadata": {},
     "output_type": "execute_result"
    }
   ],
   "source": [
    "# Construct the Request\n",
    "requests.packages.urllib3.disable_warnings() \n",
    "s = requests.session()\n",
    "s.post(auth_url, json=auth_data, verify=False)"
   ]
  },
  {
   "cell_type": "code",
   "execution_count": 6,
   "metadata": {},
   "outputs": [],
   "source": [
    "\n",
    "PortChanPG_class=\"node/class/infraAccBndlGrp.json\"\n",
    "PortChanPG_url = base_url + PortChanPG_class"
   ]
  },
  {
   "cell_type": "code",
   "execution_count": 7,
   "metadata": {},
   "outputs": [],
   "source": [
    "\n",
    "PortChanPGs = s.get(PortChanPG_url, verify=False)\n",
    "s_out = PortChanPGs.json()"
   ]
  },
  {
   "cell_type": "code",
   "execution_count": 8,
   "metadata": {},
   "outputs": [],
   "source": [
    "# Let's get all our PortChanPGs now.\n",
    "# Start with an empty list.\n",
    "PortChanPG_list = []\n",
    "count = 0\n",
    "\n",
    "PortChanPG_out_list = s_out['imdata']\n",
    "\n",
    "for PortChanPG in PortChanPG_out_list:\n",
    "   # print(PortChanPG)\n",
    "    dn = PortChanPG['infraAccBndlGrp']['attributes']['dn']\n",
    "    #print(dn)\n",
    "    split_dn = dn.split(\"/\")\n",
    "    PortChanPG_list.append(dn)\n",
    "    count = count + 1"
   ]
  },
  {
   "cell_type": "code",
   "execution_count": 9,
   "metadata": {},
   "outputs": [
    {
     "name": "stdout",
     "output_type": "stream",
     "text": [
      "\n",
      "PortChanPGs in the Fabric: \n",
      "====================\n",
      "uni/infra/funcprof/accbundle-ACILab01_VPC\n",
      "uni/infra/funcprof/accbundle-LabCore02_VPC\n",
      "uni/infra/funcprof/accbundle-LabCore01_VPC\n",
      "uni/infra/funcprof/accbundle-JW_VPC_POL_GRP\n",
      "uni/infra/funcprof/accbundle-PC_PG\n",
      "uni/infra/funcprof/accbundle-TD_ACILab01_VPC\n",
      "====================\n",
      "\n",
      "There are 6 Port Channel Policy Groups\n"
     ]
    }
   ],
   "source": [
    "print(\"\\nPortChanPGs in the Fabric: \")\n",
    "print('====================')\n",
    "[print(PortChanPG) for PortChanPG in PortChanPG_list]\n",
    "print('====================')\n",
    "print('\\nThere are', count, 'Port Channel Policy Groups')"
   ]
  }
 ],
 "metadata": {
  "kernelspec": {
   "display_name": "Python 3",
   "language": "python",
   "name": "python3"
  },
  "language_info": {
   "codemirror_mode": {
    "name": "ipython",
    "version": 3
   },
   "file_extension": ".py",
   "mimetype": "text/x-python",
   "name": "python",
   "nbconvert_exporter": "python",
   "pygments_lexer": "ipython3",
   "version": "3.7.1"
  }
 },
 "nbformat": 4,
 "nbformat_minor": 2
}
