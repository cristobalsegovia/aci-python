{
 "cells": [
  {
   "cell_type": "markdown",
   "metadata": {},
   "source": [
    "# Unofficial ACI Guide\n",
    "\n",
    "## Python 3 Healthcheck Example"
   ]
  },
  {
   "cell_type": "markdown",
   "metadata": {},
   "source": [
    "This is a simple Python example demonstrating how to obtain Healthcheck information."
   ]
  },
  {
   "cell_type": "code",
   "execution_count": 1,
   "metadata": {
    "scrolled": true
   },
   "outputs": [],
   "source": [
    "import requests\n",
    "import json\n",
    "import pandas as pd"
   ]
  },
  {
   "cell_type": "markdown",
   "metadata": {},
   "source": [
    "We'll read the auth info from config.py. \n",
    "Just edit that file to include your controller IP/hostname, username, and password."
   ]
  },
  {
   "cell_type": "code",
   "execution_count": 2,
   "metadata": {},
   "outputs": [],
   "source": [
    "from config import controller, username, password"
   ]
  },
  {
   "cell_type": "code",
   "execution_count": 3,
   "metadata": {
    "scrolled": true
   },
   "outputs": [
    {
     "data": {
      "text/plain": [
       "'https://10.18.188.101/api/aaaLogin.json'"
      ]
     },
     "execution_count": 3,
     "metadata": {},
     "output_type": "execute_result"
    }
   ],
   "source": [
    "# Set some variables to construct our login URLs\n",
    "\n",
    "base_url = \"https://\" + str(controller) + \"/api/\"\n",
    "auth_bit = \"aaaLogin.json\"\n",
    "\n",
    "auth_url = base_url + auth_bit\n",
    "auth_url"
   ]
  },
  {
   "cell_type": "code",
   "execution_count": 4,
   "metadata": {
    "scrolled": true
   },
   "outputs": [],
   "source": [
    "# JSON auth data \n",
    "auth_data = {\n",
    "  \"aaaUser\":{\n",
    "    \"attributes\":{\n",
    "      \"name\":username,\n",
    "      \"pwd\":password\n",
    "    }\n",
    "  }\n",
    "}"
   ]
  },
  {
   "cell_type": "markdown",
   "metadata": {},
   "source": [
    "## Construct the Request"
   ]
  },
  {
   "cell_type": "code",
   "execution_count": 5,
   "metadata": {},
   "outputs": [],
   "source": [
    "# Uncomment this to suppress certificate warnings.\n",
    "requests.packages.urllib3.disable_warnings() "
   ]
  },
  {
   "cell_type": "code",
   "execution_count": 6,
   "metadata": {
    "scrolled": true
   },
   "outputs": [
    {
     "data": {
      "text/plain": [
       "<Response [200]>"
      ]
     },
     "execution_count": 6,
     "metadata": {},
     "output_type": "execute_result"
    }
   ],
   "source": [
    "# We use verify=False to allow self-signed certificates. \n",
    "# Change to \"verify=True\" or just remove verify=False if you use an internal CA or a valid chain cert.\n",
    "s = requests.session()\n",
    "s.post(auth_url, json=auth_data, verify=False)"
   ]
  },
  {
   "cell_type": "markdown",
   "metadata": {},
   "source": [
    "Fault Summary:\n",
    "https://10.18.188.101/api/node/class/faultSummary.json?query-target-filter=and(not(wcard(polUni.dn, \"__ui_\")),and())&order-by=faultSummary.severity|desc&page=0&page-size=100```\n",
    " \n",
    "Health Score: \n",
    "https://10.18.188.101/api/node/mo/topology/HDfabricOverallHealth5min-0.json\n",
    "\n"
   ]
  },
  {
   "cell_type": "code",
   "execution_count": 7,
   "metadata": {
    "scrolled": true
   },
   "outputs": [],
   "source": [
    "#https://apic-ip-address/api/node/mo/topology/HDfabricOverallHealth5min-0.json\n",
    "# What's the URL?\n",
    "health = \"node/mo/topology/HDfabricOverallHealth5min-0.json\"\n",
    "info = \"node/mo/info.json\"\n",
    "fault = \"node/class/faultSummary.json\"\n",
    "health_url = base_url + health\n",
    "info_url = base_url + info\n",
    "fault_url = base_url + fault"
   ]
  },
  {
   "cell_type": "code",
   "execution_count": 33,
   "metadata": {
    "scrolled": true
   },
   "outputs": [],
   "source": [
    "s_response = s.get(health_url, verify=False)\n",
    "s_health_data = s_response.json()"
   ]
  },
  {
   "cell_type": "code",
   "execution_count": 34,
   "metadata": {},
   "outputs": [
    {
     "data": {
      "text/plain": [
       "{'totalCount': '1',\n",
       " 'imdata': [{'fabricOverallHealthHist5min': {'attributes': {'childAction': '',\n",
       "     'cnt': '30',\n",
       "     'dn': 'topology/HDfabricOverallHealth5min-0',\n",
       "     'healthAvg': '95',\n",
       "     'healthMax': '95',\n",
       "     'healthMin': '95',\n",
       "     'healthSpct': '0',\n",
       "     'healthThr': '',\n",
       "     'healthTr': '0',\n",
       "     'index': '0',\n",
       "     'lastCollOffset': '300',\n",
       "     'repIntvEnd': '2019-05-02T14:14:02.142-05:00',\n",
       "     'repIntvStart': '2019-05-02T14:09:02.037-05:00',\n",
       "     'status': ''}}}]}"
      ]
     },
     "execution_count": 34,
     "metadata": {},
     "output_type": "execute_result"
    }
   ],
   "source": [
    "s_health_data"
   ]
  },
  {
   "cell_type": "code",
   "execution_count": 37,
   "metadata": {},
   "outputs": [
    {
     "data": {
      "text/plain": [
       "{'fabricOverallHealthHist5min': {'attributes': {'childAction': '',\n",
       "   'cnt': '30',\n",
       "   'dn': 'topology/HDfabricOverallHealth5min-0',\n",
       "   'healthAvg': '95',\n",
       "   'healthMax': '95',\n",
       "   'healthMin': '95',\n",
       "   'healthSpct': '0',\n",
       "   'healthThr': '',\n",
       "   'healthTr': '0',\n",
       "   'index': '0',\n",
       "   'lastCollOffset': '300',\n",
       "   'repIntvEnd': '2019-05-02T14:14:02.142-05:00',\n",
       "   'repIntvStart': '2019-05-02T14:09:02.037-05:00',\n",
       "   'status': ''}}}"
      ]
     },
     "execution_count": 37,
     "metadata": {},
     "output_type": "execute_result"
    }
   ],
   "source": [
    "health_score = s_health_data['imdata'][0]\n",
    "health_score"
   ]
  },
  {
   "cell_type": "code",
   "execution_count": 42,
   "metadata": {},
   "outputs": [],
   "source": [
    "health_score['fabricOverallHealthHist5min']['attributes']\n",
    "five_min_avg = health_score['fabricOverallHealthHist5min']['attributes']['healthAvg']\n",
    "five_min_max = health_score['fabricOverallHealthHist5min']['attributes']['healthMax']\n",
    "five_min_min = health_score['fabricOverallHealthHist5min']['attributes']['healthMin']"
   ]
  },
  {
   "cell_type": "code",
   "execution_count": 29,
   "metadata": {},
   "outputs": [],
   "source": [
    "s_response = s.get(fault_url, verify=False)\n",
    "s_fault = s_response.json()"
   ]
  },
  {
   "cell_type": "code",
   "execution_count": 9,
   "metadata": {
    "scrolled": false
   },
   "outputs": [],
   "source": [
    "# Let's print out formatted JSON response for easy viewing\n",
    "#print(json.dumps(s_ep, indent=4, sort_keys=True))"
   ]
  },
  {
   "cell_type": "code",
   "execution_count": 12,
   "metadata": {},
   "outputs": [],
   "source": [
    "#object_list = s_fault['imdata']"
   ]
  },
  {
   "cell_type": "code",
   "execution_count": 13,
   "metadata": {},
   "outputs": [],
   "source": [
    "#object_list[0]"
   ]
  },
  {
   "cell_type": "code",
   "execution_count": 14,
   "metadata": {},
   "outputs": [],
   "source": [
    "#dn = object_list[0]['faultSummary']['attributes']['dn']\n",
    "#descr = object_list[0]['faultSummary']['attributes']['descr']\n",
    "#severity = object_list[0]['faultSummary']['attributes']['severity']\n",
    "#code = object_list[0]['faultSummary']['attributes']['code']\n",
    "#type = object_list[0]['faultSummary']['attributes']['type']"
   ]
  },
  {
   "cell_type": "code",
   "execution_count": 15,
   "metadata": {
    "scrolled": true
   },
   "outputs": [],
   "source": [
    "# Set up some empty lists for tenant, endpoint group, endpoint, IP address, MAC address, and encapsulation. \n",
    "descr_list = []\n",
    "severity_list = []\n",
    "code_list = []\n",
    "type_list = []\n",
    "dn_list = []\n",
    "cause_list = []\n",
    "\n",
    "# The imdata dictionary key has a single value which is a list of objects\n",
    "# that we'll extract into \"object_list\" for easier ereferenece... \n",
    "object_list = s_fault['imdata']\n",
    "\n",
    "# ...and iterate over it to retrieve the dictionary values we want.\n",
    "# This is a bit simpler than accessing each element directly like we did above. \n",
    "# We're printing the object on each iteration for convenience.\n",
    "\n",
    "for object in object_list:\n",
    "    #print(object)\n",
    "    dn_list.append(object['faultSummary']['attributes']['dn'])\n",
    "    descr_list.append(object['faultSummary']['attributes']['descr'])\n",
    "    severity_list.append(object['faultSummary']['attributes']['severity'])\n",
    "    code_list.append(object['faultSummary']['attributes']['code'])\n",
    "    type_list.append(object['faultSummary']['attributes']['type'])\n",
    "    cause_list.append(object['faultSummary']['attributes']['cause'])"
   ]
  },
  {
   "cell_type": "code",
   "execution_count": 16,
   "metadata": {
    "scrolled": true
   },
   "outputs": [],
   "source": [
    "# Let's take our list and zip them up.\n",
    "list_of_objects = zip(code_list,severity_list,descr_list,cause_list,type_list,dn_list)"
   ]
  },
  {
   "cell_type": "code",
   "execution_count": 17,
   "metadata": {
    "scrolled": true
   },
   "outputs": [],
   "source": [
    "# Convert to list of tuples and stuff it into a Pandas dataframe...\n",
    "df_input = list(list_of_objects)\n",
    "df = pd.DataFrame(df_input, columns=(\"Code\",\"Severity\",\"Description\",\"Cause\",\"Type\",\"DN\"))\n",
    "# Note, if you change the column order in the dataframe, be sure to change order of \n",
    "# lists zipped into list_of_ep above."
   ]
  },
  {
   "cell_type": "code",
   "execution_count": 18,
   "metadata": {
    "scrolled": false
   },
   "outputs": [
    {
     "data": {
      "text/html": [
       "<div>\n",
       "<style scoped>\n",
       "    .dataframe tbody tr th:only-of-type {\n",
       "        vertical-align: middle;\n",
       "    }\n",
       "\n",
       "    .dataframe tbody tr th {\n",
       "        vertical-align: top;\n",
       "    }\n",
       "\n",
       "    .dataframe thead th {\n",
       "        text-align: right;\n",
       "    }\n",
       "</style>\n",
       "<table border=\"1\" class=\"dataframe\">\n",
       "  <thead>\n",
       "    <tr style=\"text-align: right;\">\n",
       "      <th></th>\n",
       "      <th>Code</th>\n",
       "      <th>Severity</th>\n",
       "      <th>Description</th>\n",
       "      <th>Cause</th>\n",
       "      <th>Type</th>\n",
       "      <th>DN</th>\n",
       "    </tr>\n",
       "  </thead>\n",
       "  <tbody>\n",
       "    <tr>\n",
       "      <th>0</th>\n",
       "      <td>F0103</td>\n",
       "      <td>major</td>\n",
       "      <td>This fault occurs when a physical interface on...</td>\n",
       "      <td>port-down</td>\n",
       "      <td>operational</td>\n",
       "      <td>fltcode-F0103</td>\n",
       "    </tr>\n",
       "    <tr>\n",
       "      <th>1</th>\n",
       "      <td>F2543</td>\n",
       "      <td>major</td>\n",
       "      <td>This fault is raised when there are DHCP issues</td>\n",
       "      <td>invalid-configuration</td>\n",
       "      <td>operational</td>\n",
       "      <td>fltcode-F2543</td>\n",
       "    </tr>\n",
       "    <tr>\n",
       "      <th>2</th>\n",
       "      <td>F0756</td>\n",
       "      <td>minor</td>\n",
       "      <td>This fault occurs when a configured target of ...</td>\n",
       "      <td>resolution-failed</td>\n",
       "      <td>config</td>\n",
       "      <td>fltcode-F0756</td>\n",
       "    </tr>\n",
       "    <tr>\n",
       "      <th>3</th>\n",
       "      <td>F2650</td>\n",
       "      <td>minor</td>\n",
       "      <td>Plugin has failed to start.</td>\n",
       "      <td>failed-to-start</td>\n",
       "      <td>operational</td>\n",
       "      <td>fltcode-F2650</td>\n",
       "    </tr>\n",
       "    <tr>\n",
       "      <th>4</th>\n",
       "      <td>F0053</td>\n",
       "      <td>minor</td>\n",
       "      <td>This fault occurs when a configuration export/...</td>\n",
       "      <td>configuration-failed</td>\n",
       "      <td>config</td>\n",
       "      <td>fltcode-F0053</td>\n",
       "    </tr>\n",
       "    <tr>\n",
       "      <th>5</th>\n",
       "      <td>F1322</td>\n",
       "      <td>warning</td>\n",
       "      <td>This fault occurs when a fan fails</td>\n",
       "      <td>equipment-fan-failed</td>\n",
       "      <td>operational</td>\n",
       "      <td>fltcode-F1322</td>\n",
       "    </tr>\n",
       "    <tr>\n",
       "      <th>6</th>\n",
       "      <td>F1040</td>\n",
       "      <td>warning</td>\n",
       "      <td>The object refers to an object that was not fo...</td>\n",
       "      <td>resolution-failed</td>\n",
       "      <td>config</td>\n",
       "      <td>fltcode-F1040</td>\n",
       "    </tr>\n",
       "    <tr>\n",
       "      <th>7</th>\n",
       "      <td>F3057</td>\n",
       "      <td>warning</td>\n",
       "      <td>This fault is raised when APIC Controller prod...</td>\n",
       "      <td>product-not-registered</td>\n",
       "      <td>config</td>\n",
       "      <td>fltcode-F3057</td>\n",
       "    </tr>\n",
       "    <tr>\n",
       "      <th>8</th>\n",
       "      <td>F3062</td>\n",
       "      <td>major</td>\n",
       "      <td>This fault is raised when product license eval...</td>\n",
       "      <td>evaluation-period-expired</td>\n",
       "      <td>config</td>\n",
       "      <td>fltcode-F3062</td>\n",
       "    </tr>\n",
       "    <tr>\n",
       "      <th>9</th>\n",
       "      <td>F2740</td>\n",
       "      <td>warning</td>\n",
       "      <td>This fault occurs when port speed is configure...</td>\n",
       "      <td>invalid-port-speed-configured</td>\n",
       "      <td>communications</td>\n",
       "      <td>fltcode-F2740</td>\n",
       "    </tr>\n",
       "    <tr>\n",
       "      <th>10</th>\n",
       "      <td>F0413</td>\n",
       "      <td>minor</td>\n",
       "      <td>This fault occurs when the the psu is missing</td>\n",
       "      <td>equipment-psu-missing</td>\n",
       "      <td>environmental</td>\n",
       "      <td>fltcode-F0413</td>\n",
       "    </tr>\n",
       "    <tr>\n",
       "      <th>11</th>\n",
       "      <td>F1527</td>\n",
       "      <td>warning</td>\n",
       "      <td>This fault occurs when the utilization of stor...</td>\n",
       "      <td>equipment-full</td>\n",
       "      <td>operational</td>\n",
       "      <td>fltcode-F1527</td>\n",
       "    </tr>\n",
       "    <tr>\n",
       "      <th>12</th>\n",
       "      <td>F1480</td>\n",
       "      <td>major</td>\n",
       "      <td>This fault occurs when a software upgrade fail...</td>\n",
       "      <td>upgrade-failed</td>\n",
       "      <td>operational</td>\n",
       "      <td>fltcode-F1480</td>\n",
       "    </tr>\n",
       "    <tr>\n",
       "      <th>13</th>\n",
       "      <td>F1296</td>\n",
       "      <td>major</td>\n",
       "      <td>This fault occurs when vpc interface goes down...</td>\n",
       "      <td>interface-vpc-down</td>\n",
       "      <td>communications</td>\n",
       "      <td>fltcode-F1296</td>\n",
       "    </tr>\n",
       "    <tr>\n",
       "      <th>14</th>\n",
       "      <td>F1298</td>\n",
       "      <td>minor</td>\n",
       "      <td>: This fault occurs when deliverying EPg polic...</td>\n",
       "      <td>configuration-failed</td>\n",
       "      <td>config</td>\n",
       "      <td>fltcode-F1298</td>\n",
       "    </tr>\n",
       "    <tr>\n",
       "      <th>15</th>\n",
       "      <td>F0546</td>\n",
       "      <td>warning</td>\n",
       "      <td>This fault occurs when a port goes down</td>\n",
       "      <td>interface-physical-down</td>\n",
       "      <td>communications</td>\n",
       "      <td>fltcode-F0546</td>\n",
       "    </tr>\n",
       "    <tr>\n",
       "      <th>16</th>\n",
       "      <td>F0467</td>\n",
       "      <td>minor</td>\n",
       "      <td>This fault occurs when an End Point Group is i...</td>\n",
       "      <td>configuration-failed</td>\n",
       "      <td>config</td>\n",
       "      <td>fltcode-F0467</td>\n",
       "    </tr>\n",
       "    <tr>\n",
       "      <th>17</th>\n",
       "      <td>F0887</td>\n",
       "      <td>warning</td>\n",
       "      <td>The object refers to an object that was not fo...</td>\n",
       "      <td>resolution-failed</td>\n",
       "      <td>config</td>\n",
       "      <td>fltcode-F0887</td>\n",
       "    </tr>\n",
       "    <tr>\n",
       "      <th>18</th>\n",
       "      <td>F0981</td>\n",
       "      <td>warning</td>\n",
       "      <td>The object refers to an object that was not fo...</td>\n",
       "      <td>resolution-failed</td>\n",
       "      <td>config</td>\n",
       "      <td>fltcode-F0981</td>\n",
       "    </tr>\n",
       "    <tr>\n",
       "      <th>19</th>\n",
       "      <td>F0956</td>\n",
       "      <td>warning</td>\n",
       "      <td>The object refers to an object that was not fo...</td>\n",
       "      <td>resolution-failed</td>\n",
       "      <td>config</td>\n",
       "      <td>fltcode-F0956</td>\n",
       "    </tr>\n",
       "    <tr>\n",
       "      <th>20</th>\n",
       "      <td>F1003</td>\n",
       "      <td>warning</td>\n",
       "      <td>The object refers to an object that was not fo...</td>\n",
       "      <td>resolution-failed</td>\n",
       "      <td>config</td>\n",
       "      <td>fltcode-F1003</td>\n",
       "    </tr>\n",
       "    <tr>\n",
       "      <th>21</th>\n",
       "      <td>F2111</td>\n",
       "      <td>warning</td>\n",
       "      <td>The object refers to an object that was not fo...</td>\n",
       "      <td>resolution-failed</td>\n",
       "      <td>config</td>\n",
       "      <td>fltcode-F2111</td>\n",
       "    </tr>\n",
       "    <tr>\n",
       "      <th>22</th>\n",
       "      <td>F1123</td>\n",
       "      <td>warning</td>\n",
       "      <td>The object refers to an object that was not fo...</td>\n",
       "      <td>resolution-failed</td>\n",
       "      <td>config</td>\n",
       "      <td>fltcode-F1123</td>\n",
       "    </tr>\n",
       "  </tbody>\n",
       "</table>\n",
       "</div>"
      ],
      "text/plain": [
       "     Code Severity                                        Description  \\\n",
       "0   F0103    major  This fault occurs when a physical interface on...   \n",
       "1   F2543    major    This fault is raised when there are DHCP issues   \n",
       "2   F0756    minor  This fault occurs when a configured target of ...   \n",
       "3   F2650    minor                        Plugin has failed to start.   \n",
       "4   F0053    minor  This fault occurs when a configuration export/...   \n",
       "5   F1322  warning                 This fault occurs when a fan fails   \n",
       "6   F1040  warning  The object refers to an object that was not fo...   \n",
       "7   F3057  warning  This fault is raised when APIC Controller prod...   \n",
       "8   F3062    major  This fault is raised when product license eval...   \n",
       "9   F2740  warning  This fault occurs when port speed is configure...   \n",
       "10  F0413    minor      This fault occurs when the the psu is missing   \n",
       "11  F1527  warning  This fault occurs when the utilization of stor...   \n",
       "12  F1480    major  This fault occurs when a software upgrade fail...   \n",
       "13  F1296    major  This fault occurs when vpc interface goes down...   \n",
       "14  F1298    minor  : This fault occurs when deliverying EPg polic...   \n",
       "15  F0546  warning            This fault occurs when a port goes down   \n",
       "16  F0467    minor  This fault occurs when an End Point Group is i...   \n",
       "17  F0887  warning  The object refers to an object that was not fo...   \n",
       "18  F0981  warning  The object refers to an object that was not fo...   \n",
       "19  F0956  warning  The object refers to an object that was not fo...   \n",
       "20  F1003  warning  The object refers to an object that was not fo...   \n",
       "21  F2111  warning  The object refers to an object that was not fo...   \n",
       "22  F1123  warning  The object refers to an object that was not fo...   \n",
       "\n",
       "                            Cause            Type             DN  \n",
       "0                       port-down     operational  fltcode-F0103  \n",
       "1           invalid-configuration     operational  fltcode-F2543  \n",
       "2               resolution-failed          config  fltcode-F0756  \n",
       "3                 failed-to-start     operational  fltcode-F2650  \n",
       "4            configuration-failed          config  fltcode-F0053  \n",
       "5            equipment-fan-failed     operational  fltcode-F1322  \n",
       "6               resolution-failed          config  fltcode-F1040  \n",
       "7          product-not-registered          config  fltcode-F3057  \n",
       "8       evaluation-period-expired          config  fltcode-F3062  \n",
       "9   invalid-port-speed-configured  communications  fltcode-F2740  \n",
       "10          equipment-psu-missing   environmental  fltcode-F0413  \n",
       "11                 equipment-full     operational  fltcode-F1527  \n",
       "12                 upgrade-failed     operational  fltcode-F1480  \n",
       "13             interface-vpc-down  communications  fltcode-F1296  \n",
       "14           configuration-failed          config  fltcode-F1298  \n",
       "15        interface-physical-down  communications  fltcode-F0546  \n",
       "16           configuration-failed          config  fltcode-F0467  \n",
       "17              resolution-failed          config  fltcode-F0887  \n",
       "18              resolution-failed          config  fltcode-F0981  \n",
       "19              resolution-failed          config  fltcode-F0956  \n",
       "20              resolution-failed          config  fltcode-F1003  \n",
       "21              resolution-failed          config  fltcode-F2111  \n",
       "22              resolution-failed          config  fltcode-F1123  "
      ]
     },
     "execution_count": 18,
     "metadata": {},
     "output_type": "execute_result"
    }
   ],
   "source": [
    "# Print the dataframe in Jupyter.\n",
    "df\n",
    "\n",
    "# Use this to print in a standalone script.\n",
    "#print(df)"
   ]
  },
  {
   "cell_type": "code",
   "execution_count": 28,
   "metadata": {
    "scrolled": true
   },
   "outputs": [
    {
     "data": {
      "text/html": [
       "<div>\n",
       "<style scoped>\n",
       "    .dataframe tbody tr th:only-of-type {\n",
       "        vertical-align: middle;\n",
       "    }\n",
       "\n",
       "    .dataframe tbody tr th {\n",
       "        vertical-align: top;\n",
       "    }\n",
       "\n",
       "    .dataframe thead th {\n",
       "        text-align: right;\n",
       "    }\n",
       "</style>\n",
       "<table border=\"1\" class=\"dataframe\">\n",
       "  <thead>\n",
       "    <tr style=\"text-align: right;\">\n",
       "      <th></th>\n",
       "      <th></th>\n",
       "      <th>Cause</th>\n",
       "    </tr>\n",
       "    <tr>\n",
       "      <th>Severity</th>\n",
       "      <th>Type</th>\n",
       "      <th></th>\n",
       "    </tr>\n",
       "  </thead>\n",
       "  <tbody>\n",
       "    <tr>\n",
       "      <th rowspan=\"3\" valign=\"top\">major</th>\n",
       "      <th>communications</th>\n",
       "      <td>1</td>\n",
       "    </tr>\n",
       "    <tr>\n",
       "      <th>config</th>\n",
       "      <td>1</td>\n",
       "    </tr>\n",
       "    <tr>\n",
       "      <th>operational</th>\n",
       "      <td>3</td>\n",
       "    </tr>\n",
       "    <tr>\n",
       "      <th rowspan=\"3\" valign=\"top\">minor</th>\n",
       "      <th>config</th>\n",
       "      <td>4</td>\n",
       "    </tr>\n",
       "    <tr>\n",
       "      <th>environmental</th>\n",
       "      <td>1</td>\n",
       "    </tr>\n",
       "    <tr>\n",
       "      <th>operational</th>\n",
       "      <td>1</td>\n",
       "    </tr>\n",
       "    <tr>\n",
       "      <th rowspan=\"3\" valign=\"top\">warning</th>\n",
       "      <th>communications</th>\n",
       "      <td>2</td>\n",
       "    </tr>\n",
       "    <tr>\n",
       "      <th>config</th>\n",
       "      <td>8</td>\n",
       "    </tr>\n",
       "    <tr>\n",
       "      <th>operational</th>\n",
       "      <td>2</td>\n",
       "    </tr>\n",
       "  </tbody>\n",
       "</table>\n",
       "</div>"
      ],
      "text/plain": [
       "                         Cause\n",
       "Severity Type                 \n",
       "major    communications      1\n",
       "         config              1\n",
       "         operational         3\n",
       "minor    config              4\n",
       "         environmental       1\n",
       "         operational         1\n",
       "warning  communications      2\n",
       "         config              8\n",
       "         operational         2"
      ]
     },
     "execution_count": 28,
     "metadata": {},
     "output_type": "execute_result"
    }
   ],
   "source": [
    "# Let's extract just the tenants and endpoints, create a groupby object, \n",
    "# then count the number of endpoints per tenant.\n",
    "#new_df = df[['Severity','Type']]\n",
    "summary_df = df.groupby(['Severity', 'Type']).agg({'Cause':'count'})\n",
    "summary_df\n",
    "\n",
    "# Use this to print in a standalone script.\n",
    "#print(summary_df)"
   ]
  },
  {
   "cell_type": "code",
   "execution_count": null,
   "metadata": {
    "scrolled": true
   },
   "outputs": [],
   "source": []
  }
 ],
 "metadata": {
  "kernelspec": {
   "display_name": "Python 3",
   "language": "python",
   "name": "python3"
  },
  "language_info": {
   "codemirror_mode": {
    "name": "ipython",
    "version": 3
   },
   "file_extension": ".py",
   "mimetype": "text/x-python",
   "name": "python",
   "nbconvert_exporter": "python",
   "pygments_lexer": "ipython3",
   "version": "3.7.1"
  }
 },
 "nbformat": 4,
 "nbformat_minor": 2
}
