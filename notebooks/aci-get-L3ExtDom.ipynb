{
 "cells": [
  {
   "cell_type": "code",
   "execution_count": 1,
   "metadata": {},
   "outputs": [],
   "source": [
    "# Unofficial ACI Guide\n",
    "# Python 3 - Get L3ExtDoms Example"
   ]
  },
  {
   "cell_type": "code",
   "execution_count": 2,
   "metadata": {},
   "outputs": [],
   "source": [
    "# This is a simple Python example demonstrating how to list all L3ExtDoms in a fabric.  \n",
    "# This is boilerplate. Feel free to use in your own stuff."
   ]
  },
  {
   "cell_type": "code",
   "execution_count": 3,
   "metadata": {},
   "outputs": [],
   "source": [
    "import requests\n",
    "import json"
   ]
  },
  {
   "cell_type": "code",
   "execution_count": 4,
   "metadata": {},
   "outputs": [],
   "source": [
    "# Put your credentials in the config.py file.\n",
    "\n",
    "from config import controller, username, password\n",
    "base_url = \"https://\" + str(controller) + \"/api/\"\n",
    "auth_bit = \"aaaLogin.json\"\n",
    "auth_url = base_url + auth_bit\n",
    "auth_data = {\n",
    "  \"aaaUser\":{\n",
    "    \"attributes\":{\n",
    "      \"name\":username,\n",
    "      \"pwd\":password\n",
    "    }\n",
    "  }\n",
    "}"
   ]
  },
  {
   "cell_type": "code",
   "execution_count": 5,
   "metadata": {},
   "outputs": [
    {
     "data": {
      "text/plain": [
       "<Response [200]>"
      ]
     },
     "execution_count": 5,
     "metadata": {},
     "output_type": "execute_result"
    }
   ],
   "source": [
    "# ## Construct the Request\n",
    "requests.packages.urllib3.disable_warnings() \n",
    "s = requests.session()\n",
    "s.post(auth_url, json=auth_data, verify=False)"
   ]
  },
  {
   "cell_type": "code",
   "execution_count": 6,
   "metadata": {},
   "outputs": [],
   "source": [
    "\n",
    "L3ExtDom_class=\"node/class/l3extDomP.json\"\n",
    "L3ExtDom_url = base_url + L3ExtDom_class"
   ]
  },
  {
   "cell_type": "code",
   "execution_count": 7,
   "metadata": {},
   "outputs": [],
   "source": [
    "\n",
    "L3ExtDoms = s.get(L3ExtDom_url, verify=False)\n",
    "s_out = L3ExtDoms.json()"
   ]
  },
  {
   "cell_type": "code",
   "execution_count": 8,
   "metadata": {},
   "outputs": [],
   "source": [
    "# Let's get all our L3ExtDoms now.\n",
    "# Start with an empty list.\n",
    "L3ExtDom_list = []\n",
    "count = 0"
   ]
  },
  {
   "cell_type": "code",
   "execution_count": 9,
   "metadata": {},
   "outputs": [],
   "source": [
    "L3ExtDom_out_list = s_out['imdata']\n",
    "\n",
    "for L3ExtDom in L3ExtDom_out_list:\n",
    "   # print(L3ExtDom)\n",
    "    dn = L3ExtDom['l3extDomP']['attributes']['dn']\n",
    "    #print(dn)\n",
    "    split_dn = dn.split(\"/\")\n",
    "    L3ExtDom_list.append(dn)\n",
    "    count = count + 1"
   ]
  },
  {
   "cell_type": "code",
   "execution_count": 10,
   "metadata": {},
   "outputs": [
    {
     "name": "stdout",
     "output_type": "stream",
     "text": [
      "\n",
      "L3ExtDoms in the Fabric: \n",
      "====================\n",
      "uni/l3dom-COAST_L3ExtDom\n",
      "uni/l3dom-MultIPod_L3_Extdom\n",
      "uni/l3dom-JW_L3out\n",
      "uni/l3dom-TD_L3ExtDom\n",
      "====================\n",
      "\n",
      "There are 4 L3 External Domains\n"
     ]
    }
   ],
   "source": [
    "print(\"\\nL3ExtDoms in the Fabric: \")\n",
    "print('====================')\n",
    "[print(l3) for l3 in L3ExtDom_list]\n",
    "print('====================')\n",
    "print('\\nThere are', count, 'L3 External Domains')"
   ]
  }
 ],
 "metadata": {
  "kernelspec": {
   "display_name": "Python 3",
   "language": "python",
   "name": "python3"
  },
  "language_info": {
   "codemirror_mode": {
    "name": "ipython",
    "version": 3
   },
   "file_extension": ".py",
   "mimetype": "text/x-python",
   "name": "python",
   "nbconvert_exporter": "python",
   "pygments_lexer": "ipython3",
   "version": "3.7.1"
  }
 },
 "nbformat": 4,
 "nbformat_minor": 2
}
