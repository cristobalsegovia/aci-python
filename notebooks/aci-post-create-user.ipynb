{
 "cells": [
  {
   "cell_type": "markdown",
   "metadata": {},
   "source": [
    "# ACI Create New User"
   ]
  },
  {
   "cell_type": "markdown",
   "metadata": {},
   "source": [
    "This example shows how to create a new controller user."
   ]
  },
  {
   "cell_type": "markdown",
   "metadata": {},
   "source": [
    "We need to follow a workflow to gather the info needed for the POST request.\n",
    "Additionally, each input needs to be validated before posting, else we need to capture server responses and handle them correctly. "
   ]
  },
  {
   "cell_type": "markdown",
   "metadata": {},
   "source": [
    "Things we should do before requesting input:\n",
    " - Get all users from APIC.\n",
    " - Get all roles from APIC.\n",
    " - Get all security domains from APIC.\n",
    "\n",
    "When we take input, we can then present a list of roles and domains to select from, rather than allowing free-form typing."
   ]
  },
  {
   "cell_type": "code",
   "execution_count": 1,
   "metadata": {},
   "outputs": [],
   "source": [
    "# Set up all the modules we need.\n",
    "import requests\n",
    "import json\n",
    "import pandas as pd\n",
    "import os\n",
    "import getpass\n",
    "import sys"
   ]
  },
  {
   "cell_type": "code",
   "execution_count": 7,
   "metadata": {},
   "outputs": [],
   "source": [
    "def get_info():\n",
    "    # Read controller host/IP and auth credentials from a config file, if available. \n",
    "    # Test for config.py and import the variables.\n",
    "    # Check if the variable is imported; if not, prompt for input.\n",
    "    if os.path.isfile('./config.py'):\n",
    "        from config import controller, username, password\n",
    "\n",
    "    try:\n",
    "        controller\n",
    "    except NameError:\n",
    "        controller = input(\"Controller Hostname/IP: \")\n",
    "\n",
    "    try:\n",
    "        username\n",
    "    except NameError:\n",
    "        username = input(\"APIC Username: \")\n",
    "    \n",
    "    try: \n",
    "        password \n",
    "    except NameError:\n",
    "        password = getpass.getpass(\"APIC Password: \")\n",
    "\n",
    "    return controller, username, password"
   ]
  },
  {
   "cell_type": "code",
   "execution_count": 8,
   "metadata": {},
   "outputs": [],
   "source": [
    "controller, username, password = get_info()"
   ]
  },
  {
   "cell_type": "code",
   "execution_count": 4,
   "metadata": {},
   "outputs": [
    {
     "name": "stdout",
     "output_type": "stream",
     "text": [
      "Controller: 10.18.188.101\n",
      "Username: api-andrew\n",
      "Password: b1n2m3v4c5x6z7^^\n"
     ]
    }
   ],
   "source": [
    "print(\"Controller: \" + controller)\n",
    "print(\"Username: \" + username)\n",
    "print(\"Password: \" + password)"
   ]
  },
  {
   "cell_type": "code",
   "execution_count": 27,
   "metadata": {},
   "outputs": [],
   "source": [
    "def auth(controller, username, password):\n",
    "    # Shhh! We don't want self-signed cert warnings.\n",
    "    requests.packages.urllib3.disable_warnings() \n",
    "    # Set up the request and pass the authentication data as JSON\n",
    "    s = requests.session()\n",
    "    response = s.post(auth_url, json=auth_data, verify=False)\n",
    "    return response.status_code\n",
    "    #s.status_code"
   ]
  },
  {
   "cell_type": "code",
   "execution_count": 23,
   "metadata": {},
   "outputs": [
    {
     "name": "stdout",
     "output_type": "stream",
     "text": [
      "https://10.18.188.101/api/aaaLogin.json\n",
      "{'aaaUser': {'attributes': {'name': 'api-andrew', 'pwd': 'b1n2m3v4c5x6z7^^'}}}\n"
     ]
    }
   ],
   "source": [
    "# Set up our URL\n",
    "base_url = \"https://\" + str(controller) + \"/api/\"\n",
    "auth_class = \"aaaLogin.json\"\n",
    "auth_url = base_url + auth_class\n",
    "    # Setup auth data as a dictionary \n",
    "auth_data = {\n",
    "    \"aaaUser\":{\n",
    "        \"attributes\":{\n",
    "            \"name\":username,\n",
    "            \"pwd\":password\n",
    "        }\n",
    "    }\n",
    "}\n",
    "print(auth_url)\n",
    "print(auth_data)"
   ]
  },
  {
   "cell_type": "code",
   "execution_count": 31,
   "metadata": {},
   "outputs": [
    {
     "ename": "TypeError",
     "evalue": "int() argument must be a string, a bytes-like object or a number, not 'Response'",
     "output_type": "error",
     "traceback": [
      "\u001b[0;31m---------------------------------------------------------------------------\u001b[0m",
      "\u001b[0;31mTypeError\u001b[0m                                 Traceback (most recent call last)",
      "\u001b[0;32m<ipython-input-31-1f540fd96dd2>\u001b[0m in \u001b[0;36m<module>\u001b[0;34m\u001b[0m\n\u001b[1;32m      1\u001b[0m \u001b[0mreponse\u001b[0m \u001b[0;34m=\u001b[0m \u001b[0mauth\u001b[0m\u001b[0;34m(\u001b[0m\u001b[0mcontroller\u001b[0m\u001b[0;34m,\u001b[0m \u001b[0musername\u001b[0m\u001b[0;34m,\u001b[0m \u001b[0mpassword\u001b[0m\u001b[0;34m)\u001b[0m\u001b[0;34m\u001b[0m\u001b[0;34m\u001b[0m\u001b[0m\n\u001b[0;32m----> 2\u001b[0;31m \u001b[0mprint\u001b[0m\u001b[0;34m(\u001b[0m\u001b[0mint\u001b[0m\u001b[0;34m(\u001b[0m\u001b[0mresponse\u001b[0m\u001b[0;34m)\u001b[0m\u001b[0;34m)\u001b[0m\u001b[0;34m\u001b[0m\u001b[0;34m\u001b[0m\u001b[0m\n\u001b[0m",
      "\u001b[0;31mTypeError\u001b[0m: int() argument must be a string, a bytes-like object or a number, not 'Response'"
     ]
    }
   ],
   "source": [
    "reponse = auth(controller, username, password)\n",
    "print(response)"
   ]
  },
  {
   "cell_type": "code",
   "execution_count": 30,
   "metadata": {},
   "outputs": [
    {
     "name": "stdout",
     "output_type": "stream",
     "text": [
      "Didn't authenticate.\n",
      "HTTP Status: <Response [200]>\n"
     ]
    }
   ],
   "source": [
    "if response != 200:\n",
    "    print(\"Didn't authenticate.\")\n",
    "    print(\"HTTP Status: \" + str(response))\n"
   ]
  },
  {
   "cell_type": "code",
   "execution_count": 86,
   "metadata": {},
   "outputs": [
    {
     "name": "stdout",
     "output_type": "stream",
     "text": [
      "https://10.18.188.101/api/node/mo/uni/userext.json?rsp-subtree=children?rsp-subtree=children?rsp-subtree=children?rsp-subtree=children\n",
      "https://10.18.188.101/api/node/mo/uni/userext.json\n"
     ]
    }
   ],
   "source": [
    "# Set up our user class URLs.\n",
    "# We set up one for GETting data (inlcuding child objects)\n",
    "# and one for POSTing data.\n",
    "\n",
    "qstring = \"?rsp-subtree=children\"\n",
    "# Construct the user post URL\n",
    "user_class=\"node/mo/uni/userext.json\"\n",
    "post_user_url = base_url + user_class\n",
    "get_user_url = get_user_url + qstring\n",
    "print(get_user_url)\n",
    "print(post_user_url)"
   ]
  },
  {
   "cell_type": "code",
   "execution_count": 87,
   "metadata": {},
   "outputs": [],
   "source": [
    "def get_users():\n",
    "    users = s.get(get_user_url, verify=False)\n",
    "    users = users.json()\n",
    "    print(json.dumps(users, indent=4, sort_keys=True))\n",
    "    dn = users['imdata'][0]['aaaUserEp']['attributes']['dn']\n",
    "    name_list = []\n",
    "    firstname_list = []\n",
    "    lastname_list = []\n",
    "    status_list = []\n",
    "    phone_list = []\n",
    "    users_list = users['imdata'][0]['aaaUserEp']['children']\n",
    "    for user in users_list:\n",
    "        if \"aaaUser\" in user: \n",
    "            #print(user)\n",
    "            rn = user['aaaUser']['attributes']['rn']\n",
    "            name = user['aaaUser']['attributes']['name']  \n",
    "            firstname = user['aaaUser']['attributes']['firstName']\n",
    "            lastname = user['aaaUser']['attributes']['lastName']\n",
    "            status = user['aaaUser']['attributes']['accountStatus']\n",
    "            phone = user['aaaUser']['attributes']['phone']\n",
    "            name_list.append(name)\n",
    "            firstname_list.append(firstname)\n",
    "            lastname_list.append(lastname)\n",
    "            phone_list.append(phone)\n",
    "            status_list.append(status)\n",
    "    zlist = zip(status_list, name_list, firstname_list, lastname_list, phone_list, rn_list)\n",
    "    df_input = list(zlist)\n",
    "    df = pd.DataFrame(df_input, columns=(\"Status\",\"User Name\",\"First Name\",\"Last Name\",\"Phone\",\"RN\"))"
   ]
  },
  {
   "cell_type": "code",
   "execution_count": 88,
   "metadata": {},
   "outputs": [],
   "source": [
    "def get_roles():\n",
    "    roles = [1, 2, 3]\n",
    "    return roles"
   ]
  },
  {
   "cell_type": "code",
   "execution_count": 89,
   "metadata": {},
   "outputs": [],
   "source": [
    "def get_domains():\n",
    "    domains = [1,2,3]\n",
    "    return domains"
   ]
  },
  {
   "cell_type": "code",
   "execution_count": 90,
   "metadata": {},
   "outputs": [],
   "source": [
    "def get_new_user():\n",
    "    os.system('cls' if os.name == 'nt' else 'clear')\n",
    "    prompt = input(\"Add New User? (y/N)\")\n",
    "    if prompt.lower() in ('n', 'N'):\n",
    "        sys.exit()\n",
    "    elif prompt.lower() in ('y', 'Y'):\n",
    "        get_user_input()\n",
    "    else:\n",
    "        get_new_user()"
   ]
  },
  {
   "cell_type": "code",
   "execution_count": 92,
   "metadata": {},
   "outputs": [],
   "source": [
    "def get_user_input():\n",
    "    print(\"There's no error checking here.\") \n",
    "    print(\"Just stop/re-run the program if you mistype anything.\")\n",
    "    user = input(\"Username: \")\n",
    "    print(\"Password needs three of the following: \")\n",
    "    print(\" - lower case letter\")\n",
    "    print(\" - upper case letter\")\n",
    "    print(\" - number\")\n",
    "    print(\" - symbol\")\n",
    "    print(\" \")\n",
    "    password1 = getpass.getpass(\"Password: \")\n",
    "    password2 = getpass.getpass(\"Re-enter Password: \")\n",
    "    if password1 != password2:\n",
    "        print(\"Passwords are not the same. DO OVER!\")\n",
    "        sys.exit()\n",
    "\n",
    "    firstname = input(\"[Optional] First Name: \")\n",
    "    lastname = input(\"[Optional] Last Name: \")\n",
    "    phone = input(\"[Optional] Phone: \")\n",
    "    email = input(\"[Optional] Email: \")\n",
    "    print(\"Enter security domains, with a [Y]es or [N]o: \")\n",
    "    domain_all = input(\"Security Domain - All?  (y/n): \")\n",
    "  \n",
    "    if domain_all.lower() in ('y','Y','Yes','YES'):\n",
    "        domain_all_priv = input(\"[R]ead or [W]rite: \")\n",
    "\n",
    "    domain_common = input(\"Security Domain - Common? (y/n): \")\n",
    "    if domain_common.lower() in ('y','Y','Yes','YES'):\n",
    "        domain_common_priv = input(\"[R]ead or [W]rite: \")\n",
    "\n",
    "    domain_mgmt = input(\"Security Domain - Mgmt? (y/n): \")\n",
    "    if domain_mgmt.lower() in ('y','Y','Yes','YES'):\n",
    "        domain_mgmt_priv = input(\"[R]ead or [W]rite: \")\n",
    "\n",
    "    expires = input(\"Expires? [y/n]\")\n",
    "    activate = input(\"Activate User? [y/n]\")\n",
    "    "
   ]
  },
  {
   "cell_type": "code",
   "execution_count": 93,
   "metadata": {},
   "outputs": [
    {
     "data": {
      "text/plain": [
       "[1, 2, 3]"
      ]
     },
     "execution_count": 93,
     "metadata": {},
     "output_type": "execute_result"
    }
   ],
   "source": [
    "get_roles()"
   ]
  },
  {
   "cell_type": "code",
   "execution_count": 95,
   "metadata": {},
   "outputs": [
    {
     "data": {
      "text/plain": [
       "[1, 2, 3]"
      ]
     },
     "execution_count": 95,
     "metadata": {},
     "output_type": "execute_result"
    }
   ],
   "source": [
    "get_domains()"
   ]
  },
  {
   "cell_type": "code",
   "execution_count": 96,
   "metadata": {},
   "outputs": [
    {
     "name": "stdout",
     "output_type": "stream",
     "text": [
      "{\n",
      "    \"imdata\": [\n",
      "        {\n",
      "            \"error\": {\n",
      "                \"attributes\": {\n",
      "                    \"code\": \"8\",\n",
      "                    \"text\": \"rsp-subtree argument is incorrect (possible options: _no_|children|full)\"\n",
      "                }\n",
      "            }\n",
      "        }\n",
      "    ],\n",
      "    \"totalCount\": \"1\"\n",
      "}\n"
     ]
    },
    {
     "ename": "KeyError",
     "evalue": "'aaaUserEp'",
     "output_type": "error",
     "traceback": [
      "\u001b[0;31m---------------------------------------------------------------------------\u001b[0m",
      "\u001b[0;31mKeyError\u001b[0m                                  Traceback (most recent call last)",
      "\u001b[0;32m<ipython-input-96-2ba5a99356df>\u001b[0m in \u001b[0;36m<module>\u001b[0;34m\u001b[0m\n\u001b[0;32m----> 1\u001b[0;31m \u001b[0mget_users\u001b[0m\u001b[0;34m(\u001b[0m\u001b[0;34m)\u001b[0m\u001b[0;34m\u001b[0m\u001b[0;34m\u001b[0m\u001b[0m\n\u001b[0m",
      "\u001b[0;32m<ipython-input-87-47985b8dc7da>\u001b[0m in \u001b[0;36mget_users\u001b[0;34m()\u001b[0m\n\u001b[1;32m      3\u001b[0m     \u001b[0musers\u001b[0m \u001b[0;34m=\u001b[0m \u001b[0musers\u001b[0m\u001b[0;34m.\u001b[0m\u001b[0mjson\u001b[0m\u001b[0;34m(\u001b[0m\u001b[0;34m)\u001b[0m\u001b[0;34m\u001b[0m\u001b[0;34m\u001b[0m\u001b[0m\n\u001b[1;32m      4\u001b[0m     \u001b[0mprint\u001b[0m\u001b[0;34m(\u001b[0m\u001b[0mjson\u001b[0m\u001b[0;34m.\u001b[0m\u001b[0mdumps\u001b[0m\u001b[0;34m(\u001b[0m\u001b[0musers\u001b[0m\u001b[0;34m,\u001b[0m \u001b[0mindent\u001b[0m\u001b[0;34m=\u001b[0m\u001b[0;36m4\u001b[0m\u001b[0;34m,\u001b[0m \u001b[0msort_keys\u001b[0m\u001b[0;34m=\u001b[0m\u001b[0;32mTrue\u001b[0m\u001b[0;34m)\u001b[0m\u001b[0;34m)\u001b[0m\u001b[0;34m\u001b[0m\u001b[0;34m\u001b[0m\u001b[0m\n\u001b[0;32m----> 5\u001b[0;31m     \u001b[0mdn\u001b[0m \u001b[0;34m=\u001b[0m \u001b[0musers\u001b[0m\u001b[0;34m[\u001b[0m\u001b[0;34m'imdata'\u001b[0m\u001b[0;34m]\u001b[0m\u001b[0;34m[\u001b[0m\u001b[0;36m0\u001b[0m\u001b[0;34m]\u001b[0m\u001b[0;34m[\u001b[0m\u001b[0;34m'aaaUserEp'\u001b[0m\u001b[0;34m]\u001b[0m\u001b[0;34m[\u001b[0m\u001b[0;34m'attributes'\u001b[0m\u001b[0;34m]\u001b[0m\u001b[0;34m[\u001b[0m\u001b[0;34m'dn'\u001b[0m\u001b[0;34m]\u001b[0m\u001b[0;34m\u001b[0m\u001b[0;34m\u001b[0m\u001b[0m\n\u001b[0m\u001b[1;32m      6\u001b[0m     \u001b[0mname_list\u001b[0m \u001b[0;34m=\u001b[0m \u001b[0;34m[\u001b[0m\u001b[0;34m]\u001b[0m\u001b[0;34m\u001b[0m\u001b[0;34m\u001b[0m\u001b[0m\n\u001b[1;32m      7\u001b[0m     \u001b[0mfirstname_list\u001b[0m \u001b[0;34m=\u001b[0m \u001b[0;34m[\u001b[0m\u001b[0;34m]\u001b[0m\u001b[0;34m\u001b[0m\u001b[0;34m\u001b[0m\u001b[0m\n",
      "\u001b[0;31mKeyError\u001b[0m: 'aaaUserEp'"
     ]
    }
   ],
   "source": [
    "get_users()"
   ]
  },
  {
   "cell_type": "code",
   "execution_count": 65,
   "metadata": {},
   "outputs": [
    {
     "name": "stdout",
     "output_type": "stream",
     "text": [
      "Add New User? (y/N)n\n"
     ]
    }
   ],
   "source": [
    "# Prompt for user info\n",
    "prompt = input(\"Add New User? (y/N)\")"
   ]
  },
  {
   "cell_type": "code",
   "execution_count": 40,
   "metadata": {},
   "outputs": [],
   "source": [
    "if prompt.lower() not in ('y', 'Y'):\n",
    "    sys.exit()"
   ]
  },
  {
   "cell_type": "code",
   "execution_count": 43,
   "metadata": {},
   "outputs": [
    {
     "name": "stdout",
     "output_type": "stream",
     "text": [
      "There's no error checking here.\n",
      "Just stop/re-run the program if you mistype anything.\n",
      "Username: schmuck\n",
      "Password: ········\n",
      "Re-enter Password: ········\n",
      "[Optional] First Name: Jody is\n",
      "[Optional] Last Name: a schmuck\n",
      "[Optional] Email: jody-da-schmuck@mailinator.com\n",
      "Enter security domains, with a [Y]es or [N]o: \n",
      "Security Domain - All?  (y/n): y\n",
      "[R]ead or [W]rite: w\n",
      "Security Domain - Common? (y/n): y\n",
      "[R]ead or [W]rite: w\n",
      "Security Domain - Mgmt? (y/n): y\n",
      "[R]ead or [W]rite: w\n",
      "Expires? [y/n]n\n",
      "Activate User? [y/n]y\n",
      "Username: schmuck\n",
      "Password: ***** \n",
      "First Name: schmuck\n",
      "Last Name: a schmuck\n",
      "Email: jody-da-schmuck@mailinator.com\n",
      "Security Domain - All: y\n",
      "Security Domain - All: w\n",
      "Security Domain - Common: y\n",
      "Security Domain - Common: w\n",
      "Security Domain - Mgmt: y\n",
      "Security Domain - Mgmt: w\n",
      "Expires: n\n",
      "Active: y\n"
     ]
    }
   ],
   "source": [
    "print(\"There's no error checking here.\") \n",
    "print(\"Just stop/re-run the program if you mistype anything.\")\n",
    "user = input(\"Username: \")\n",
    "print(\"Password needs three of the following: \")\n",
    "print(\" - lower case letter\")\n",
    "print(\" - upper case letter\")\n",
    "print(\" - number\")\n",
    "print(\" - symbol\")\n",
    "print(\" \")\n",
    "password1 = getpass.getpass(\"Password: \")\n",
    "password2 = getpass.getpass(\"Re-enter Password: \")\n",
    "if password1 != password2:\n",
    "    print(\"Passwords are not the same. DO OVER!\")\n",
    "    sys.exit()\n",
    "firstname = input(\"[Optional] First Name: \")\n",
    "lastname = input(\"[Optional] Last Name: \")\n",
    "phone = input(\"[Optional] Phone: \")\n",
    "email = input(\"[Optional] Email: \")\n",
    "print(\"Enter security domains, with a [Y]es or [N]o: \")\n",
    "domain_all = input(\"Security Domain - All?  (y/n): \")\n",
    "if domain_all.lower() in ('y','Y','Yes','YES'):\n",
    "    domain_all_priv = input(\"[R]ead or [W]rite: \")\n",
    "\n",
    "domain_common = input(\"Security Domain - Common? (y/n): \")\n",
    "if domain_common.lower() in ('y','Y','Yes','YES'):\n",
    "    domain_common_priv = input(\"[R]ead or [W]rite: \")\n",
    "\n",
    "domain_mgmt = input(\"Security Domain - Mgmt? (y/n): \")\n",
    "if domain_mgmt.lower() in ('y','Y','Yes','YES'):\n",
    "    domain_mgmt_priv = input(\"[R]ead or [W]rite: \")\n",
    "\n",
    "expires = input(\"Expires? [y/n]\")\n",
    "activate = input(\"Activate User? [y/n]\")\n",
    "\n",
    "\n"
   ]
  },
  {
   "cell_type": "code",
   "execution_count": 66,
   "metadata": {},
   "outputs": [
    {
     "name": "stdout",
     "output_type": "stream",
     "text": [
      "Username: admin\n",
      "Password: ***** \n",
      "First Name: admin\n",
      "Last Name: \n",
      "Email: jody-da-schmuck@mailinator.com\n",
      "Security Domain - All: y\n",
      "Security Domain - All: w\n",
      "Security Domain - Common: y\n",
      "Security Domain - Common: w\n",
      "Security Domain - Mgmt: y\n",
      "Security Domain - Mgmt: w\n",
      "Expires: n\n",
      "Active: y\n"
     ]
    }
   ],
   "source": [
    "print(\"Username: \" + str(user))\n",
    "print(\"Password: ***** \")\n",
    "print(\"First Name: \" + str(firstname))\n",
    "print(\"Last Name: \" + str(lastname))\n",
    "print(\"Email: \" + str(phone))\n",
    "print(\"Email: \" + str(email))\n",
    "print(\"Security Domain - All: \" + str(domain_all))\n",
    "print(\"Security Domain - All: \" + str(domain_all_priv))\n",
    "print(\"Security Domain - Common: \" + str(domain_common))\n",
    "print(\"Security Domain - Common: \" + str(domain_common_priv))\n",
    "print(\"Security Domain - Mgmt: \" + str(domain_mgmt))\n",
    "print(\"Security Domain - Mgmt: \" + str(domain_mgmt_priv))\n",
    "print(\"Expires: \" + str(expires))\n",
    "print(\"Active: \" + str(activate))"
   ]
  },
  {
   "cell_type": "code",
   "execution_count": null,
   "metadata": {},
   "outputs": [],
   "source": [
    "userext = \"uni/userext.json\""
   ]
  },
  {
   "cell_type": "markdown",
   "metadata": {},
   "source": [
    "## User POST Data\n",
    "```\n",
    "{\n",
    "            \"aaaUser\": {\n",
    "                \"attributes\": {\n",
    "                    \"name\": user,\n",
    "                    \"firstName\": firstname,\n",
    "                    \"lastName\": lastname,\n",
    "                    \"phone\": phone,\n",
    "                    \"email\": email,\n",
    "                },\n",
    "                \"children\": [{\n",
    "                    \"aaaUserCert\": {\n",
    "                        \"attributes\": {\n",
    "                            \"name\": \"userabc.crt\",\n",
    "                            \"data\": \"-----BEGIN CERTIFICATE-----\\nMIICjjCCAfegAwIBAgIJAMQnbE <snipped content> ==\\n-----END CERTIFICATE-----\",\n",
    "                        },\n",
    "                        \"children\": []\n",
    "                    },\n",
    "                    \"aaaUserDomain\": {\n",
    "                        \"attributes\": {\n",
    "                            \"name\": \"all\",\n",
    "                        },\n",
    "                        \"children\": [{\n",
    "                            \"aaaUserRole\": {\n",
    "                                \"attributes\": {\n",
    "                                    \"name\": \"aaa\",\n",
    "                                    \"privType\": \"writePriv\",\n",
    "                                },\n",
    "                                \"children\": []\n",
    "                            }\n",
    "                        }, {\n",
    "                            \"aaaUserRole\": {\n",
    "                                \"attributes\": {\n",
    "                                    \"name\": \"access-admin\",\n",
    "                                    \"privType\": \"writePriv\",\n",
    "                                },\n",
    "                                \"children\": []\n",
    "                            }\n",
    "                        }, {\n",
    "                            \"aaaUserRole\": {\n",
    "                                \"attributes\": {\n",
    "                                    \"name\": \"admin\",\n",
    "                                    \"privType\": \"writePriv\",\n",
    "                                },\n",
    "                                \"children\": []\n",
    "                            }\n",
    "                        }, {\n",
    "                            \"aaaUserRole\": {\n",
    "                                \"attributes\": {\n",
    "                                    \"name\": \"fabric-admin\",\n",
    "                                    \"privType\": \"writePriv\",\n",
    "                                },\n",
    "                                \"children\": []\n",
    "                            }\n",
    "                        }, {\n",
    "                            \"aaaUserRole\": {\n",
    "                                \"attributes\": {\n",
    "                                    \"name\": \"nw-svc-admin\",\n",
    "                                    \"privType\": \"writePriv\",\n",
    "                                },\n",
    "                                \"children\": []\n",
    "                            }\n",
    "                        }, {\n",
    "                            \"aaaUserRole\": {\n",
    "                                \"attributes\": {\n",
    "                                    \"name\": \"ops\",\n",
    "                                    \"privType\": \"writePriv\",\n",
    "                                },\n",
    "                                \"children\": []\n",
    "                            }\n",
    "                        }, {\n",
    "                            \"aaaUserRole\": {\n",
    "                                \"attributes\": {\n",
    "                                    \"name\": \"read-all\",\n",
    "                                    \"privType\": \"writePriv\",\n",
    "                                },\n",
    "                                \"children\": []\n",
    "                            }\n",
    "                        }, {\n",
    "                            \"aaaUserRole\": {\n",
    "                                \"attributes\": {\n",
    "                                    \"name\": \"tenant-admin\",\n",
    "                                    \"privType\": \"writePriv\",\n",
    "                                },\n",
    "                                \"children\": []\n",
    "                            }\n",
    "                        }, {\n",
    "                            \"aaaUserRole\": {\n",
    "                                \"attributes\": {\n",
    "                                    \"name\": \"tenant-ext-admin\",\n",
    "                                    \"privType\": \"writePriv\",\n",
    "                                },\n",
    "                                \"children\": []\n",
    "                            }\n",
    "                        }, {\n",
    "                            \"aaaUserRole\": {\n",
    "                                \"attributes\": {\n",
    "                                    \"name\": \"vmm-admin\",\n",
    "                                    \"privType\": \"writePriv\",\n",
    "                                },\n",
    "                                \"children\": []\n",
    "                            }\n",
    "                        }]\n",
    "                    }\n",
    "                }]\n",
    "            }\n",
    "        }\n",
    "```"
   ]
  },
  {
   "cell_type": "code",
   "execution_count": null,
   "metadata": {},
   "outputs": [],
   "source": []
  }
 ],
 "metadata": {
  "kernelspec": {
   "display_name": "Python 3",
   "language": "python",
   "name": "python3"
  },
  "language_info": {
   "codemirror_mode": {
    "name": "ipython",
    "version": 3
   },
   "file_extension": ".py",
   "mimetype": "text/x-python",
   "name": "python",
   "nbconvert_exporter": "python",
   "pygments_lexer": "ipython3",
   "version": "3.7.1"
  }
 },
 "nbformat": 4,
 "nbformat_minor": 2
}
