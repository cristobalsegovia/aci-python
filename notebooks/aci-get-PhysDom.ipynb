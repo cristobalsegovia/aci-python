{
 "cells": [
  {
   "cell_type": "code",
   "execution_count": 1,
   "metadata": {},
   "outputs": [],
   "source": [
    "# Unofficial ACI Guide\n",
    "# Python 3 - Get PhysDoms Example"
   ]
  },
  {
   "cell_type": "code",
   "execution_count": 2,
   "metadata": {},
   "outputs": [],
   "source": [
    "# This is a simple Python example demonstrating how to list all PhysDoms in a fabric.  \n",
    "# This is boilerplate. Feel free to use in your own stuff."
   ]
  },
  {
   "cell_type": "code",
   "execution_count": 3,
   "metadata": {},
   "outputs": [],
   "source": [
    "import requests\n",
    "import json"
   ]
  },
  {
   "cell_type": "code",
   "execution_count": 4,
   "metadata": {},
   "outputs": [],
   "source": [
    "# Put your credentials in the config.py file.\n",
    "\n",
    "from config import controller, username, password\n",
    "base_url = \"https://\" + str(controller) + \"/api/\"\n",
    "auth_bit = \"aaaLogin.json\"\n",
    "auth_url = base_url + auth_bit\n",
    "auth_data = {\n",
    "  \"aaaUser\":{\n",
    "    \"attributes\":{\n",
    "      \"name\":username,\n",
    "      \"pwd\":password\n",
    "    }\n",
    "  }\n",
    "}"
   ]
  },
  {
   "cell_type": "code",
   "execution_count": 5,
   "metadata": {},
   "outputs": [
    {
     "data": {
      "text/plain": [
       "<Response [200]>"
      ]
     },
     "execution_count": 5,
     "metadata": {},
     "output_type": "execute_result"
    }
   ],
   "source": [
    "# ## Construct the Request\n",
    "requests.packages.urllib3.disable_warnings() \n",
    "s = requests.session()\n",
    "s.post(auth_url, json=auth_data, verify=False)"
   ]
  },
  {
   "cell_type": "code",
   "execution_count": 6,
   "metadata": {},
   "outputs": [],
   "source": [
    "\n",
    "PhysDom_class=\"node/class/physDomP.json\"\n",
    "PhysDom_url = base_url + PhysDom_class"
   ]
  },
  {
   "cell_type": "code",
   "execution_count": 7,
   "metadata": {},
   "outputs": [],
   "source": [
    "\n",
    "PhysDoms = s.get(PhysDom_url, verify=False)\n",
    "s_out = PhysDoms.json()"
   ]
  },
  {
   "cell_type": "code",
   "execution_count": 8,
   "metadata": {},
   "outputs": [],
   "source": [
    "# Uncomment to print full output.\n",
    "#print(json.dumps(s_out, indent=4, sort_keys=True))\n"
   ]
  },
  {
   "cell_type": "code",
   "execution_count": 9,
   "metadata": {},
   "outputs": [],
   "source": [
    "# Let's get all our PhysDoms now.\n",
    "# Start with an empty list.\n",
    "PhysDom_list = []\n",
    "count = 0"
   ]
  },
  {
   "cell_type": "code",
   "execution_count": 10,
   "metadata": {},
   "outputs": [],
   "source": [
    "PhysDom_out_list = s_out['imdata']\n",
    "\n",
    "for PhysDom in PhysDom_out_list:\n",
    "   # print(PhysDom)\n",
    "    dn = PhysDom['physDomP']['attributes']['dn']\n",
    "    #print(dn)\n",
    "    split_dn = dn.split(\"/\")\n",
    "    PhysDom_list.append(dn)\n",
    "    count = count + 1"
   ]
  },
  {
   "cell_type": "code",
   "execution_count": 11,
   "metadata": {},
   "outputs": [
    {
     "name": "stdout",
     "output_type": "stream",
     "text": [
      "\n",
      "PhysDoms in the Fabric: \n",
      "====================\n",
      "uni/phys-COAST_PhysDom\n",
      "uni/phys-JW_Physical\n",
      "uni/phys-TD_PhysDom\n",
      "====================\n",
      "\n",
      "There are 3 PhysDoms\n"
     ]
    }
   ],
   "source": [
    "print(\"\\nPhysDoms in the Fabric: \")\n",
    "print('====================')\n",
    "[print(b) for b in PhysDom_list]\n",
    "print('====================')\n",
    "print('\\nThere are', count, 'PhysDoms')"
   ]
  }
 ],
 "metadata": {
  "kernelspec": {
   "display_name": "Python 3",
   "language": "python",
   "name": "python3"
  },
  "language_info": {
   "codemirror_mode": {
    "name": "ipython",
    "version": 3
   },
   "file_extension": ".py",
   "mimetype": "text/x-python",
   "name": "python",
   "nbconvert_exporter": "python",
   "pygments_lexer": "ipython3",
   "version": "3.7.1"
  }
 },
 "nbformat": 4,
 "nbformat_minor": 2
}
