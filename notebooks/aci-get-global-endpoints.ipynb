{
 "cells": [
  {
   "cell_type": "markdown",
   "metadata": {},
   "source": [
    "# Unofficial ACI Guide\n",
    "\n",
    "## Python 3 Get Global Endpoints Example"
   ]
  },
  {
   "cell_type": "markdown",
   "metadata": {},
   "source": [
    "This is a simple Python example demonstrating how to obtain Global Endpoints list.\n",
    "In the GUI, this is done through Fabric -> Inventory -> Topology -> Global End-Points."
   ]
  },
  {
   "cell_type": "code",
   "execution_count": 1,
   "metadata": {
    "scrolled": true
   },
   "outputs": [],
   "source": [
    "import requests\n",
    "import json\n",
    "import pandas as pd"
   ]
  },
  {
   "cell_type": "markdown",
   "metadata": {},
   "source": [
    "We'll read the auth info from config.py. \n",
    "Just edit that file to include your controller IP/hostname, username, and password."
   ]
  },
  {
   "cell_type": "code",
   "execution_count": 2,
   "metadata": {},
   "outputs": [],
   "source": [
    "from config import controller, username, password"
   ]
  },
  {
   "cell_type": "code",
   "execution_count": 17,
   "metadata": {
    "scrolled": true
   },
   "outputs": [],
   "source": [
    "# Set some variables to construct our login URLs\n",
    "\n",
    "base_url = \"https://\" + str(controller) + \"/api/\"\n",
    "auth_bit = \"aaaLogin.json\"\n",
    "\n",
    "auth_url = base_url + auth_bit\n",
    "auth_url"
   ]
  },
  {
   "cell_type": "code",
   "execution_count": 4,
   "metadata": {
    "scrolled": true
   },
   "outputs": [],
   "source": [
    "# JSON auth data \n",
    "auth_data = {\n",
    "  \"aaaUser\":{\n",
    "    \"attributes\":{\n",
    "      \"name\":username,\n",
    "      \"pwd\":password\n",
    "    }\n",
    "  }\n",
    "}"
   ]
  },
  {
   "cell_type": "markdown",
   "metadata": {},
   "source": [
    "## Construct the Request"
   ]
  },
  {
   "cell_type": "code",
   "execution_count": 5,
   "metadata": {},
   "outputs": [],
   "source": [
    "# Uncomment this to suppress certificate warnings.\n",
    "# requests.packages.urllib3.disable_warnings() "
   ]
  },
  {
   "cell_type": "code",
   "execution_count": 16,
   "metadata": {
    "scrolled": true
   },
   "outputs": [
    {
     "name": "stderr",
     "output_type": "stream",
     "text": [
      "/anaconda2/envs/aci/lib/python3.7/site-packages/urllib3/connectionpool.py:847: InsecureRequestWarning: Unverified HTTPS request is being made. Adding certificate verification is strongly advised. See: https://urllib3.readthedocs.io/en/latest/advanced-usage.html#ssl-warnings\n",
      "  InsecureRequestWarning)\n"
     ]
    },
    {
     "data": {
      "text/plain": [
       "<Response [200]>"
      ]
     },
     "execution_count": 16,
     "metadata": {},
     "output_type": "execute_result"
    }
   ],
   "source": [
    "# We use verify=False to allow self-signed certificates. \n",
    "# Change to \"verify=True\" or just remove verify=False if you use an internal CA or a valid chain cert.\n",
    "s = requests.session()\n",
    "s.post(auth_url, json=auth_data, verify=False)"
   ]
  },
  {
   "cell_type": "code",
   "execution_count": 7,
   "metadata": {
    "scrolled": true
   },
   "outputs": [
    {
     "data": {
      "text/plain": [
       "'https://10.18.188.101/api/node/class/fvCEp.json'"
      ]
     },
     "execution_count": 7,
     "metadata": {},
     "output_type": "execute_result"
    }
   ],
   "source": [
    "# https://apic-ip-address/api/node/class/fvCEp.xml\n",
    "# What's the endpoints URL?\n",
    "epo=\"node/class/fvCEp.json\"\n",
    "ep_url = base_url + epo\n",
    "ep_url"
   ]
  },
  {
   "cell_type": "code",
   "execution_count": 8,
   "metadata": {
    "scrolled": true
   },
   "outputs": [
    {
     "name": "stderr",
     "output_type": "stream",
     "text": [
      "/anaconda2/envs/aci/lib/python3.7/site-packages/urllib3/connectionpool.py:847: InsecureRequestWarning: Unverified HTTPS request is being made. Adding certificate verification is strongly advised. See: https://urllib3.readthedocs.io/en/latest/advanced-usage.html#ssl-warnings\n",
      "  InsecureRequestWarning)\n"
     ]
    }
   ],
   "source": [
    "s_response = s.get(ep_url, verify=False)\n",
    "s_ep = s_response.json()"
   ]
  },
  {
   "cell_type": "code",
   "execution_count": 18,
   "metadata": {
    "scrolled": false
   },
   "outputs": [
    {
     "name": "stdout",
     "output_type": "stream",
     "text": [
      "{\n",
      "    \"imdata\": [\n",
      "        {\n",
      "            \"fvCEp\": {\n",
      "                \"attributes\": {\n",
      "                    \"annotation\": \"\",\n",
      "                    \"childAction\": \"\",\n",
      "                    \"contName\": \"\",\n",
      "                    \"dn\": \"uni/tn-COAST/ctx-COAST_vrf/cep-00:DE:FB:79:8D:43\",\n",
      "                    \"encap\": \"vlan-222\",\n",
      "                    \"extMngdBy\": \"\",\n",
      "                    \"id\": \"0\",\n",
      "                    \"idepdn\": \"\",\n",
      "                    \"ip\": \"192.168.50.12\",\n",
      "                    \"lcC\": \"learned\",\n",
      "                    \"lcOwn\": \"local\",\n",
      "                    \"mac\": \"00:DE:FB:79:8D:43\",\n",
      "                    \"mcastAddr\": \"not-applicable\",\n",
      "                    \"modTs\": \"2019-02-28T15:15:23.544-05:00\",\n",
      "                    \"monPolDn\": \"uni/tn-common/monepg-default\",\n",
      "                    \"name\": \"00:DE:FB:79:8D:43\",\n",
      "                    \"nameAlias\": \"\",\n",
      "                    \"status\": \"\",\n",
      "                    \"uid\": \"0\",\n",
      "                    \"uuid\": \"\",\n",
      "                    \"vmmSrc\": \"\"\n",
      "                }\n",
      "            }\n",
      "        },\n",
      "        {\n",
      "            \"fvCEp\": {\n",
      "                \"attributes\": {\n",
      "                    \"annotation\": \"\",\n",
      "                    \"childAction\": \"\",\n",
      "                    \"contName\": \"\",\n",
      "                    \"dn\": \"uni/tn-COAST/ctx-COAST_vrf/cep-00:DE:FB:79:8B:C3\",\n",
      "                    \"encap\": \"vlan-50\",\n",
      "                    \"extMngdBy\": \"\",\n",
      "                    \"id\": \"0\",\n",
      "                    \"idepdn\": \"\",\n",
      "                    \"ip\": \"192.168.50.11\",\n",
      "                    \"lcC\": \"learned\",\n",
      "                    \"lcOwn\": \"local\",\n",
      "                    \"mac\": \"00:DE:FB:79:8B:C3\",\n",
      "                    \"mcastAddr\": \"not-applicable\",\n",
      "                    \"modTs\": \"2019-02-15T12:34:31.824-05:00\",\n",
      "                    \"monPolDn\": \"uni/tn-common/monepg-default\",\n",
      "                    \"name\": \"00:DE:FB:79:8B:C3\",\n",
      "                    \"nameAlias\": \"\",\n",
      "                    \"status\": \"\",\n",
      "                    \"uid\": \"0\",\n",
      "                    \"uuid\": \"\",\n",
      "                    \"vmmSrc\": \"\"\n",
      "                }\n",
      "            }\n",
      "        },\n",
      "        {\n",
      "            \"fvCEp\": {\n",
      "                \"attributes\": {\n",
      "                    \"annotation\": \"\",\n",
      "                    \"childAction\": \"\",\n",
      "                    \"contName\": \"\",\n",
      "                    \"dn\": \"uni/tn-COAST/ap-app1/epg-epg1b/cep-00:50:56:93:6C:74\",\n",
      "                    \"encap\": \"vlan-1102\",\n",
      "                    \"extMngdBy\": \"\",\n",
      "                    \"id\": \"0\",\n",
      "                    \"idepdn\": \"\",\n",
      "                    \"ip\": \"101.1.1.102\",\n",
      "                    \"lcC\": \"vmm\",\n",
      "                    \"lcOwn\": \"local\",\n",
      "                    \"mac\": \"00:50:56:93:6C:74\",\n",
      "                    \"mcastAddr\": \"not-applicable\",\n",
      "                    \"modTs\": \"2019-03-01T15:33:04.763-05:00\",\n",
      "                    \"monPolDn\": \"uni/tn-common/monepg-default\",\n",
      "                    \"name\": \"00:50:56:93:6C:74\",\n",
      "                    \"nameAlias\": \"\",\n",
      "                    \"status\": \"\",\n",
      "                    \"uid\": \"0\",\n",
      "                    \"uuid\": \"\",\n",
      "                    \"vmmSrc\": \"dvs\"\n",
      "                }\n",
      "            }\n",
      "        },\n",
      "        {\n",
      "            \"fvCEp\": {\n",
      "                \"attributes\": {\n",
      "                    \"annotation\": \"\",\n",
      "                    \"childAction\": \"\",\n",
      "                    \"contName\": \"\",\n",
      "                    \"dn\": \"uni/tn-COAST/ctx-COAST_vrf/cep-00:22:BD:F8:19:FF\",\n",
      "                    \"encap\": \"vlan-50\",\n",
      "                    \"extMngdBy\": \"\",\n",
      "                    \"id\": \"0\",\n",
      "                    \"idepdn\": \"\",\n",
      "                    \"ip\": \"192.168.50.1\",\n",
      "                    \"lcC\": \"\",\n",
      "                    \"lcOwn\": \"local\",\n",
      "                    \"mac\": \"00:22:BD:F8:19:FF\",\n",
      "                    \"mcastAddr\": \"not-applicable\",\n",
      "                    \"modTs\": \"2019-03-08T08:48:30.537-05:00\",\n",
      "                    \"monPolDn\": \"uni/tn-common/monepg-default\",\n",
      "                    \"name\": \"00:22:BD:F8:19:FF\",\n",
      "                    \"nameAlias\": \"\",\n",
      "                    \"status\": \"\",\n",
      "                    \"uid\": \"0\",\n",
      "                    \"uuid\": \"\",\n",
      "                    \"vmmSrc\": \"\"\n",
      "                }\n",
      "            }\n",
      "        },\n",
      "        {\n",
      "            \"fvCEp\": {\n",
      "                \"attributes\": {\n",
      "                    \"annotation\": \"\",\n",
      "                    \"childAction\": \"\",\n",
      "                    \"contName\": \"\",\n",
      "                    \"dn\": \"uni/tn-COAST/ctx-COAST_vrf/cep-00:00:00:00:00:00\",\n",
      "                    \"encap\": \"vlan-50\",\n",
      "                    \"extMngdBy\": \"\",\n",
      "                    \"id\": \"0\",\n",
      "                    \"idepdn\": \"\",\n",
      "                    \"ip\": \"100.64.3.1\",\n",
      "                    \"lcC\": \"\",\n",
      "                    \"lcOwn\": \"local\",\n",
      "                    \"mac\": \"00:00:00:00:00:00\",\n",
      "                    \"mcastAddr\": \"not-applicable\",\n",
      "                    \"modTs\": \"2019-03-08T08:48:30.537-05:00\",\n",
      "                    \"monPolDn\": \"uni/tn-common/monepg-default\",\n",
      "                    \"name\": \"00:00:00:00:00:00\",\n",
      "                    \"nameAlias\": \"\",\n",
      "                    \"status\": \"\",\n",
      "                    \"uid\": \"0\",\n",
      "                    \"uuid\": \"\",\n",
      "                    \"vmmSrc\": \"\"\n",
      "                }\n",
      "            }\n",
      "        },\n",
      "        {\n",
      "            \"fvCEp\": {\n",
      "                \"attributes\": {\n",
      "                    \"annotation\": \"\",\n",
      "                    \"childAction\": \"\",\n",
      "                    \"contName\": \"\",\n",
      "                    \"dn\": \"uni/tn-COAST/LDevInst-[uni/tn-COAST/lDevVip-PBR_DEV]-ctx-COAST_vrf/G-PBR_DEVctxCOAST_vrf-N-pbr-C-1arm/cep-00:DE:FB:79:8B:C3\",\n",
      "                    \"encap\": \"vlan-223\",\n",
      "                    \"extMngdBy\": \"\",\n",
      "                    \"id\": \"0\",\n",
      "                    \"idepdn\": \"\",\n",
      "                    \"ip\": \"100.64.4.1\",\n",
      "                    \"lcC\": \"learned\",\n",
      "                    \"lcOwn\": \"local\",\n",
      "                    \"mac\": \"00:DE:FB:79:8B:C3\",\n",
      "                    \"mcastAddr\": \"not-applicable\",\n",
      "                    \"modTs\": \"2019-03-13T13:55:30.930-05:00\",\n",
      "                    \"monPolDn\": \"uni/tn-common/monepg-default\",\n",
      "                    \"name\": \"00:DE:FB:79:8B:C3\",\n",
      "                    \"nameAlias\": \"\",\n",
      "                    \"status\": \"\",\n",
      "                    \"uid\": \"0\",\n",
      "                    \"uuid\": \"\",\n",
      "                    \"vmmSrc\": \"\"\n",
      "                }\n",
      "            }\n",
      "        }\n",
      "    ],\n",
      "    \"totalCount\": \"6\"\n",
      "}\n"
     ]
    }
   ],
   "source": [
    "# Let's print out formatted JSON response for easy viewing\n",
    "print(json.dumps(s_ep, indent=4, sort_keys=True))"
   ]
  },
  {
   "cell_type": "markdown",
   "metadata": {
    "scrolled": true
   },
   "source": [
    "Explanation of the output above:  \n",
    " - The imdata object is a dictionary key. Its value is a list of objects (list elements) returned from ACI.   \n",
    " - Each object (list element) can be referenced via the list index, starting with element 0.   \n",
    " - Each list element itself is a dictionary, with the key being the class name \"fvCEp\" and the value being a  dictionary with the key called \"attributes\", with the value being a dictionary of key/value pairs.    \n",
    " \n",
    "Confused yet? "
   ]
  },
  {
   "cell_type": "markdown",
   "metadata": {},
   "source": [
    "## Extract DN from each object (example)"
   ]
  },
  {
   "cell_type": "code",
   "execution_count": 10,
   "metadata": {},
   "outputs": [
    {
     "name": "stdout",
     "output_type": "stream",
     "text": [
      "DN: uni/tn-COAST/ctx-COAST_vrf/cep-00:DE:FB:79:8D:43\n",
      "Tenant: tn-COAST\n",
      "EPG or AP: ctx-COAST_vrf\n",
      "Endpoint: cep-00:DE:FB:79:8D:43\n",
      "Note: the 'EPG or AP' field may be an endpoint group or an application profile\n"
     ]
    }
   ],
   "source": [
    "# Using list element zero [0] for imdata, we'll extract the distinguished name.\n",
    "\n",
    "# How to split out the DN in each object.\n",
    "# s_ep has a dictionary key of 'imdata', which value is a list and we want element 0 in that list. \n",
    "# In element 0, we specify the dictionary key (fvCEp) to get the value, which is a dictionary names attributes, \n",
    "# so we specify that key to get the values, which are dictionaries. The dictionary key we want ther is \"dn\".\n",
    "# Phew!\n",
    "\n",
    "dn = s_ep['imdata'][0]['fvCEp']['attributes']['dn']\n",
    "\n",
    "# We'll split() the string using the forward slash as a separator; this creates a list from the string value, \n",
    "# and we'll assign it to split_dn. Now we can access each element in the DN as a separate list element.\n",
    "split_dn = dn.split(\"/\")\n",
    "universe = split_dn[0]\n",
    "tenant = split_dn[1]\n",
    "epg = split_dn[2]\n",
    "\n",
    "# The endpoint is always the last item in the list, which can be accessed as [-1]. \n",
    "# The second item could be referenced as -2, and so forth. \n",
    "# The reason we do this is because the third element ([2], since we start counting at zero)\n",
    "# may be an application profile, putting the EPG into element [3] or it may be a VRF which means \n",
    "# there is no application profile to contain the EPG, putting it at [2]. Crazy, right?\n",
    "# We'll ignore app profiles below and just worry about EPGs.\n",
    "\n",
    "ep = split_dn[-1]\n",
    "print(\"DN: \" + str(dn))\n",
    "print(\"Tenant: \" + str(tenant))\n",
    "print(\"EPG or AP: \" + str(epg))\n",
    "print(\"Endpoint: \" + str(ep))\n",
    "print(\"Note: the 'EPG or AP' field may be an endpoint group or an application profile\")"
   ]
  },
  {
   "cell_type": "markdown",
   "metadata": {},
   "source": [
    "## Extracting desired info from each object"
   ]
  },
  {
   "cell_type": "code",
   "execution_count": 11,
   "metadata": {
    "scrolled": true
   },
   "outputs": [
    {
     "name": "stdout",
     "output_type": "stream",
     "text": [
      "{'fvCEp': {'attributes': {'annotation': '', 'childAction': '', 'contName': '', 'dn': 'uni/tn-COAST/ctx-COAST_vrf/cep-00:DE:FB:79:8D:43', 'encap': 'vlan-222', 'extMngdBy': '', 'id': '0', 'idepdn': '', 'ip': '192.168.50.12', 'lcC': 'learned', 'lcOwn': 'local', 'mac': '00:DE:FB:79:8D:43', 'mcastAddr': 'not-applicable', 'modTs': '2019-02-28T15:15:23.544-05:00', 'monPolDn': 'uni/tn-common/monepg-default', 'name': '00:DE:FB:79:8D:43', 'nameAlias': '', 'status': '', 'uid': '0', 'uuid': '', 'vmmSrc': ''}}}\n",
      "{'fvCEp': {'attributes': {'annotation': '', 'childAction': '', 'contName': '', 'dn': 'uni/tn-COAST/ctx-COAST_vrf/cep-00:DE:FB:79:8B:C3', 'encap': 'vlan-50', 'extMngdBy': '', 'id': '0', 'idepdn': '', 'ip': '192.168.50.11', 'lcC': 'learned', 'lcOwn': 'local', 'mac': '00:DE:FB:79:8B:C3', 'mcastAddr': 'not-applicable', 'modTs': '2019-02-15T12:34:31.824-05:00', 'monPolDn': 'uni/tn-common/monepg-default', 'name': '00:DE:FB:79:8B:C3', 'nameAlias': '', 'status': '', 'uid': '0', 'uuid': '', 'vmmSrc': ''}}}\n",
      "{'fvCEp': {'attributes': {'annotation': '', 'childAction': '', 'contName': '', 'dn': 'uni/tn-COAST/ap-app1/epg-epg1b/cep-00:50:56:93:6C:74', 'encap': 'vlan-1102', 'extMngdBy': '', 'id': '0', 'idepdn': '', 'ip': '101.1.1.102', 'lcC': 'vmm', 'lcOwn': 'local', 'mac': '00:50:56:93:6C:74', 'mcastAddr': 'not-applicable', 'modTs': '2019-03-01T15:33:04.763-05:00', 'monPolDn': 'uni/tn-common/monepg-default', 'name': '00:50:56:93:6C:74', 'nameAlias': '', 'status': '', 'uid': '0', 'uuid': '', 'vmmSrc': 'dvs'}}}\n",
      "{'fvCEp': {'attributes': {'annotation': '', 'childAction': '', 'contName': '', 'dn': 'uni/tn-COAST/ctx-COAST_vrf/cep-00:22:BD:F8:19:FF', 'encap': 'vlan-50', 'extMngdBy': '', 'id': '0', 'idepdn': '', 'ip': '192.168.50.1', 'lcC': '', 'lcOwn': 'local', 'mac': '00:22:BD:F8:19:FF', 'mcastAddr': 'not-applicable', 'modTs': '2019-03-08T08:48:30.537-05:00', 'monPolDn': 'uni/tn-common/monepg-default', 'name': '00:22:BD:F8:19:FF', 'nameAlias': '', 'status': '', 'uid': '0', 'uuid': '', 'vmmSrc': ''}}}\n",
      "{'fvCEp': {'attributes': {'annotation': '', 'childAction': '', 'contName': '', 'dn': 'uni/tn-COAST/ctx-COAST_vrf/cep-00:00:00:00:00:00', 'encap': 'vlan-50', 'extMngdBy': '', 'id': '0', 'idepdn': '', 'ip': '100.64.3.1', 'lcC': '', 'lcOwn': 'local', 'mac': '00:00:00:00:00:00', 'mcastAddr': 'not-applicable', 'modTs': '2019-03-08T08:48:30.537-05:00', 'monPolDn': 'uni/tn-common/monepg-default', 'name': '00:00:00:00:00:00', 'nameAlias': '', 'status': '', 'uid': '0', 'uuid': '', 'vmmSrc': ''}}}\n",
      "{'fvCEp': {'attributes': {'annotation': '', 'childAction': '', 'contName': '', 'dn': 'uni/tn-COAST/LDevInst-[uni/tn-COAST/lDevVip-PBR_DEV]-ctx-COAST_vrf/G-PBR_DEVctxCOAST_vrf-N-pbr-C-1arm/cep-00:DE:FB:79:8B:C3', 'encap': 'vlan-223', 'extMngdBy': '', 'id': '0', 'idepdn': '', 'ip': '100.64.4.1', 'lcC': 'learned', 'lcOwn': 'local', 'mac': '00:DE:FB:79:8B:C3', 'mcastAddr': 'not-applicable', 'modTs': '2019-03-13T13:55:30.930-05:00', 'monPolDn': 'uni/tn-common/monepg-default', 'name': '00:DE:FB:79:8B:C3', 'nameAlias': '', 'status': '', 'uid': '0', 'uuid': '', 'vmmSrc': ''}}}\n"
     ]
    }
   ],
   "source": [
    "# Set up some empty lists for tenant, endpoint group, endpoint, IP address, MAC address, and encapsulation. \n",
    "tenant_list = []\n",
    "epg_list = []\n",
    "ep_list = []\n",
    "ip_list = []\n",
    "mac_list = []\n",
    "encap_list = []\n",
    "\n",
    "# The imdata dictionary key has a single value which is a list of objects\n",
    "# that we'll extract into \"object_list\" for easier ereferenece... \n",
    "object_list = s_ep['imdata']\n",
    "\n",
    "# ...and iterate over it to retrieve the dictionary values we want.\n",
    "# This is a bit simpler than accessing each element directly like we did above. \n",
    "# We're printing the object on each iteration for convenience.\n",
    "\n",
    "for object in object_list:\n",
    "    print(object)\n",
    "    #dn = object['fvCEp']['attributes']['dn']\n",
    "    dn = object['fvCEp']['attributes']['dn']\n",
    "    split_dn = dn.split(\"/\")\n",
    "    tenant_list.append(split_dn[1])\n",
    "    epg_list.append(split_dn[-2])\n",
    "    ep_list.append(split_dn[-1])\n",
    "    ip_list.append(object['fvCEp']['attributes']['ip'])\n",
    "    mac_list.append(object['fvCEp']['attributes']['mac'])\n",
    "    encap_list.append(object['fvCEp']['attributes']['encap'])\n"
   ]
  },
  {
   "cell_type": "code",
   "execution_count": 12,
   "metadata": {
    "scrolled": true
   },
   "outputs": [],
   "source": [
    "# Let's take our list and zip them up.\n",
    "list_of_ep = zip(tenant_list, epg_list, ep_list, ip_list, mac_list, encap_list)"
   ]
  },
  {
   "cell_type": "code",
   "execution_count": 13,
   "metadata": {
    "scrolled": true
   },
   "outputs": [],
   "source": [
    "# Convert to list of tuples and stuff it into a Pandas dataframe...\n",
    "df_input = list(list_of_ep)\n",
    "df = pd.DataFrame(df_input, columns=(\"Tenant\",\"EPG or VRF/L3out\",\"Endpoint\",\"IP\",\"MAC Addy\",\"Encap\"))\n",
    "# Note, if you change the column order in the dataframe, be sure to change order of \n",
    "# lists zipped into list_of_ep above."
   ]
  },
  {
   "cell_type": "code",
   "execution_count": 14,
   "metadata": {
    "scrolled": false
   },
   "outputs": [
    {
     "data": {
      "text/html": [
       "<div>\n",
       "<style scoped>\n",
       "    .dataframe tbody tr th:only-of-type {\n",
       "        vertical-align: middle;\n",
       "    }\n",
       "\n",
       "    .dataframe tbody tr th {\n",
       "        vertical-align: top;\n",
       "    }\n",
       "\n",
       "    .dataframe thead th {\n",
       "        text-align: right;\n",
       "    }\n",
       "</style>\n",
       "<table border=\"1\" class=\"dataframe\">\n",
       "  <thead>\n",
       "    <tr style=\"text-align: right;\">\n",
       "      <th></th>\n",
       "      <th>Tenant</th>\n",
       "      <th>EPG or VRF/L3out</th>\n",
       "      <th>Endpoint</th>\n",
       "      <th>IP</th>\n",
       "      <th>MAC Addy</th>\n",
       "      <th>Encap</th>\n",
       "    </tr>\n",
       "  </thead>\n",
       "  <tbody>\n",
       "    <tr>\n",
       "      <th>0</th>\n",
       "      <td>tn-COAST</td>\n",
       "      <td>ctx-COAST_vrf</td>\n",
       "      <td>cep-00:DE:FB:79:8D:43</td>\n",
       "      <td>192.168.50.12</td>\n",
       "      <td>00:DE:FB:79:8D:43</td>\n",
       "      <td>vlan-222</td>\n",
       "    </tr>\n",
       "    <tr>\n",
       "      <th>1</th>\n",
       "      <td>tn-COAST</td>\n",
       "      <td>ctx-COAST_vrf</td>\n",
       "      <td>cep-00:DE:FB:79:8B:C3</td>\n",
       "      <td>192.168.50.11</td>\n",
       "      <td>00:DE:FB:79:8B:C3</td>\n",
       "      <td>vlan-50</td>\n",
       "    </tr>\n",
       "    <tr>\n",
       "      <th>2</th>\n",
       "      <td>tn-COAST</td>\n",
       "      <td>epg-epg1b</td>\n",
       "      <td>cep-00:50:56:93:6C:74</td>\n",
       "      <td>101.1.1.102</td>\n",
       "      <td>00:50:56:93:6C:74</td>\n",
       "      <td>vlan-1102</td>\n",
       "    </tr>\n",
       "    <tr>\n",
       "      <th>3</th>\n",
       "      <td>tn-COAST</td>\n",
       "      <td>ctx-COAST_vrf</td>\n",
       "      <td>cep-00:22:BD:F8:19:FF</td>\n",
       "      <td>192.168.50.1</td>\n",
       "      <td>00:22:BD:F8:19:FF</td>\n",
       "      <td>vlan-50</td>\n",
       "    </tr>\n",
       "    <tr>\n",
       "      <th>4</th>\n",
       "      <td>tn-COAST</td>\n",
       "      <td>ctx-COAST_vrf</td>\n",
       "      <td>cep-00:00:00:00:00:00</td>\n",
       "      <td>100.64.3.1</td>\n",
       "      <td>00:00:00:00:00:00</td>\n",
       "      <td>vlan-50</td>\n",
       "    </tr>\n",
       "    <tr>\n",
       "      <th>5</th>\n",
       "      <td>tn-COAST</td>\n",
       "      <td>G-PBR_DEVctxCOAST_vrf-N-pbr-C-1arm</td>\n",
       "      <td>cep-00:DE:FB:79:8B:C3</td>\n",
       "      <td>100.64.4.1</td>\n",
       "      <td>00:DE:FB:79:8B:C3</td>\n",
       "      <td>vlan-223</td>\n",
       "    </tr>\n",
       "  </tbody>\n",
       "</table>\n",
       "</div>"
      ],
      "text/plain": [
       "     Tenant                    EPG or VRF/L3out               Endpoint  \\\n",
       "0  tn-COAST                       ctx-COAST_vrf  cep-00:DE:FB:79:8D:43   \n",
       "1  tn-COAST                       ctx-COAST_vrf  cep-00:DE:FB:79:8B:C3   \n",
       "2  tn-COAST                           epg-epg1b  cep-00:50:56:93:6C:74   \n",
       "3  tn-COAST                       ctx-COAST_vrf  cep-00:22:BD:F8:19:FF   \n",
       "4  tn-COAST                       ctx-COAST_vrf  cep-00:00:00:00:00:00   \n",
       "5  tn-COAST  G-PBR_DEVctxCOAST_vrf-N-pbr-C-1arm  cep-00:DE:FB:79:8B:C3   \n",
       "\n",
       "              IP           MAC Addy      Encap  \n",
       "0  192.168.50.12  00:DE:FB:79:8D:43   vlan-222  \n",
       "1  192.168.50.11  00:DE:FB:79:8B:C3    vlan-50  \n",
       "2    101.1.1.102  00:50:56:93:6C:74  vlan-1102  \n",
       "3   192.168.50.1  00:22:BD:F8:19:FF    vlan-50  \n",
       "4     100.64.3.1  00:00:00:00:00:00    vlan-50  \n",
       "5     100.64.4.1  00:DE:FB:79:8B:C3   vlan-223  "
      ]
     },
     "execution_count": 14,
     "metadata": {},
     "output_type": "execute_result"
    }
   ],
   "source": [
    "# Print the dataframe in Jupyter.\n",
    "df\n",
    "\n",
    "# Use this to print in a standalone script.\n",
    "#print(df)"
   ]
  },
  {
   "cell_type": "code",
   "execution_count": 15,
   "metadata": {
    "scrolled": true
   },
   "outputs": [
    {
     "data": {
      "text/html": [
       "<div>\n",
       "<style scoped>\n",
       "    .dataframe tbody tr th:only-of-type {\n",
       "        vertical-align: middle;\n",
       "    }\n",
       "\n",
       "    .dataframe tbody tr th {\n",
       "        vertical-align: top;\n",
       "    }\n",
       "\n",
       "    .dataframe thead th {\n",
       "        text-align: right;\n",
       "    }\n",
       "</style>\n",
       "<table border=\"1\" class=\"dataframe\">\n",
       "  <thead>\n",
       "    <tr style=\"text-align: right;\">\n",
       "      <th></th>\n",
       "      <th>Endpoint</th>\n",
       "    </tr>\n",
       "    <tr>\n",
       "      <th>Tenant</th>\n",
       "      <th></th>\n",
       "    </tr>\n",
       "  </thead>\n",
       "  <tbody>\n",
       "    <tr>\n",
       "      <th>tn-COAST</th>\n",
       "      <td>6</td>\n",
       "    </tr>\n",
       "  </tbody>\n",
       "</table>\n",
       "</div>"
      ],
      "text/plain": [
       "          Endpoint\n",
       "Tenant            \n",
       "tn-COAST         6"
      ]
     },
     "execution_count": 15,
     "metadata": {},
     "output_type": "execute_result"
    }
   ],
   "source": [
    "# Let's extract just the tenants and endpoints, create a groupby object, \n",
    "# then count the number of endpoints per tenant.\n",
    "ep = df[['Tenant','Endpoint']]\n",
    "grouped_df = ep.groupby(['Tenant']).count()\n",
    "grouped_df\n",
    "\n",
    "# Use this to print in a standalone script.\n",
    "#print(grouped_df)"
   ]
  },
  {
   "cell_type": "code",
   "execution_count": null,
   "metadata": {
    "scrolled": true
   },
   "outputs": [],
   "source": []
  }
 ],
 "metadata": {
  "kernelspec": {
   "display_name": "Python 3",
   "language": "python",
   "name": "python3"
  },
  "language_info": {
   "codemirror_mode": {
    "name": "ipython",
    "version": 3
   },
   "file_extension": ".py",
   "mimetype": "text/x-python",
   "name": "python",
   "nbconvert_exporter": "python",
   "pygments_lexer": "ipython3",
   "version": "3.7.1"
  }
 },
 "nbformat": 4,
 "nbformat_minor": 2
}
