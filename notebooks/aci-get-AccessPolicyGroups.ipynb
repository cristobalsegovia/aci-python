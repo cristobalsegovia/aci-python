{
 "cells": [
  {
   "cell_type": "markdown",
   "metadata": {},
   "source": [
    "# Unofficial ACI Guide\n",
    "\n",
    "## Python 3 - Get AccPGs Example"
   ]
  },
  {
   "cell_type": "markdown",
   "metadata": {},
   "source": [
    "This is a simple Python example demonstrating how to list all AccPGs in a fabric.  \n",
    "This is boilerplate. Feel free to use in your own stuff."
   ]
  },
  {
   "cell_type": "code",
   "execution_count": 1,
   "metadata": {},
   "outputs": [],
   "source": [
    "import requests\n",
    "import json\n",
    "import pandas as pd"
   ]
  },
  {
   "cell_type": "code",
   "execution_count": 2,
   "metadata": {},
   "outputs": [],
   "source": [
    "# Read credentials from the config.py file in the same directory.\n",
    "\n",
    "from config import controller, username, password\n",
    "base_url = \"https://\" + str(controller) + \"/api/\"\n",
    "auth_bit = \"aaaLogin.json\"\n",
    "auth_url = base_url + auth_bit\n",
    "auth_data = {\n",
    "  \"aaaUser\":{\n",
    "    \"attributes\":{\n",
    "      \"name\":username,\n",
    "      \"pwd\":password\n",
    "    }\n",
    "  }\n",
    "}"
   ]
  },
  {
   "cell_type": "code",
   "execution_count": 3,
   "metadata": {},
   "outputs": [
    {
     "data": {
      "text/plain": [
       "<Response [200]>"
      ]
     },
     "execution_count": 3,
     "metadata": {},
     "output_type": "execute_result"
    }
   ],
   "source": [
    " ## Construct the Request\n",
    "requests.packages.urllib3.disable_warnings() \n",
    "s = requests.session()\n",
    "s.post(auth_url, json=auth_data, verify=False)"
   ]
  },
  {
   "cell_type": "code",
   "execution_count": 4,
   "metadata": {},
   "outputs": [],
   "source": [
    "# Set up the AccPG class URL\n",
    "AccPG_class=\"node/class/infraAccPortGrp.json\"\n",
    "AccPG_url = base_url + AccPG_class"
   ]
  },
  {
   "cell_type": "code",
   "execution_count": 7,
   "metadata": {},
   "outputs": [],
   "source": [
    "#Query objects in AccPG class\n",
    "AccPGs = s.get(AccPG_url, verify=False)\n",
    "s_out = AccPGs.json()"
   ]
  },
  {
   "cell_type": "code",
   "execution_count": 8,
   "metadata": {},
   "outputs": [],
   "source": [
    "# Uncomment to print full output.\n",
    "#print(json.dumps(s_out, indent=4, sort_keys=True))"
   ]
  },
  {
   "cell_type": "code",
   "execution_count": 9,
   "metadata": {},
   "outputs": [],
   "source": [
    "# Let's get all our AccPGs now.\n",
    "# Start with an empty list.\n",
    "AccPG_list = []\n",
    "count = 0"
   ]
  },
  {
   "cell_type": "code",
   "execution_count": 10,
   "metadata": {},
   "outputs": [
    {
     "name": "stdout",
     "output_type": "stream",
     "text": [
      "\n",
      "AccPGs in the Fabric: \n",
      "====================\n",
      "uni/infra/funcprof/accportgrp-FI_A_AccPort\n",
      "uni/infra/funcprof/accportgrp-LabCore02_routed\n",
      "uni/infra/funcprof/accportgrp-LabCore01_routed\n",
      "uni/infra/funcprof/accportgrp-FI_B_AccPort\n",
      "uni/infra/funcprof/accportgrp-AccessPortGeneric_10G\n",
      "uni/infra/funcprof/accportgrp-TD_ACILab01_routed\n",
      "uni/infra/funcprof/accportgrp-UCS-C2_AccPort\n",
      "====================\n",
      "\n",
      "There are 7 Access Policy Groups\n"
     ]
    }
   ],
   "source": [
    "AccPG_out_list = s_out['imdata']\n",
    "\n",
    "for AccPG in AccPG_out_list:\n",
    "   # print(AccPG)\n",
    "    dn = AccPG['infraAccPortGrp']['attributes']['dn']\n",
    "    #print(dn)\n",
    "    split_dn = dn.split(\"/\")\n",
    "    AccPG_list.append(dn)\n",
    "    count = count + 1\n",
    "\n",
    "print(\"\\nAccPGs in the Fabric: \")\n",
    "print('====================')\n",
    "[print(accpg) for accpg in AccPG_list]\n",
    "print('====================')\n",
    "print('\\nThere are', count, 'Access Policy Groups')"
   ]
  },
  {
   "cell_type": "code",
   "execution_count": null,
   "metadata": {},
   "outputs": [],
   "source": []
  }
 ],
 "metadata": {
  "kernelspec": {
   "display_name": "Python 3",
   "language": "python",
   "name": "python3"
  },
  "language_info": {
   "codemirror_mode": {
    "name": "ipython",
    "version": 3
   },
   "file_extension": ".py",
   "mimetype": "text/x-python",
   "name": "python",
   "nbconvert_exporter": "python",
   "pygments_lexer": "ipython3",
   "version": "3.7.1"
  }
 },
 "nbformat": 4,
 "nbformat_minor": 2
}
