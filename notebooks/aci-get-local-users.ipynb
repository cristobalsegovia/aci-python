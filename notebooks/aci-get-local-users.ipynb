{
 "cells": [
  {
   "cell_type": "markdown",
   "metadata": {},
   "source": [
    "# Unofficial ACI Guide\n",
    "\n",
    "## Python 3 - Get APIC Users Example"
   ]
  },
  {
   "cell_type": "markdown",
   "metadata": {},
   "source": [
    "List local users on the APIC controller.  \n",
    "No Cisco ACI-related toolkits, SDKs, or bindings were harmed in the creation of this example."
   ]
  },
  {
   "cell_type": "code",
   "execution_count": null,
   "metadata": {},
   "outputs": [],
   "source": [
    "import requests\n",
    "import json\n",
    "import pandas as pd\n",
    "import os\n",
    "import getpass"
   ]
  },
  {
   "cell_type": "markdown",
   "metadata": {},
   "source": [
    "Enter your controller hostname/IP and user credentials in config.py.  \n",
    "If there is no config.py, we prompt for entries.  \n",
    "The getpass() function allows for shadow entries.  "
   ]
  },
  {
   "cell_type": "code",
   "execution_count": null,
   "metadata": {},
   "outputs": [],
   "source": [
    "if os.path.isfile('./config.py'):\n",
    "    from config import controller, username, password\n",
    "\n",
    "try:\n",
    "    controller\n",
    "except NameError:\n",
    "    controller = input(\"Controller Hostname/IP: \")\n",
    "\n",
    "try:\n",
    "    username\n",
    "except NameError:\n",
    "    username = input(\"APIC Username: \")\n",
    "    \n",
    "try: \n",
    "    password \n",
    "except NameError:\n",
    "    password = getpass.getpass(\"APIC Password: \")\n",
    "\n",
    "\n",
    "base_url = \"https://\" + str(controller) + \"/api/\"\n",
    "auth_bit = \"aaaLogin.json\"\n",
    "auth_url = base_url + auth_bit"
   ]
  },
  {
   "cell_type": "code",
   "execution_count": null,
   "metadata": {},
   "outputs": [],
   "source": [
    "# JSON auth data \n",
    "auth_data = {\n",
    "  \"aaaUser\":{\n",
    "    \"attributes\":{\n",
    "      \"name\":username,\n",
    "      \"pwd\":password\n",
    "    }\n",
    "  }\n",
    "}"
   ]
  },
  {
   "cell_type": "markdown",
   "metadata": {},
   "source": [
    "## Construct the Request"
   ]
  },
  {
   "cell_type": "code",
   "execution_count": null,
   "metadata": {},
   "outputs": [],
   "source": [
    "# We use verify=False to allow self-signed certs. \n",
    "# The disable_warnings() line prevents warning messages.\n",
    "requests.packages.urllib3.disable_warnings() \n",
    "s = requests.session()\n",
    "s.post(auth_url, json=auth_data, verify=False)"
   ]
  },
  {
   "cell_type": "code",
   "execution_count": null,
   "metadata": {},
   "outputs": [],
   "source": [
    "# Set up the URLs to query.\n",
    "qstring = \"?rsp-subtree=children\"\n",
    "# Construct the user post URL\n",
    "user_class=\"node/mo/uni/userext.json\"\n",
    "user_url = base_url + user_class + qstring\n",
    "user_url"
   ]
  },
  {
   "cell_type": "code",
   "execution_count": null,
   "metadata": {},
   "outputs": [],
   "source": [
    "# Initiate the request and get JSON.\n",
    "users = s.get(user_url, verify=False)\n",
    "users = users.json()"
   ]
  },
  {
   "cell_type": "code",
   "execution_count": null,
   "metadata": {},
   "outputs": [],
   "source": [
    "# Print as pretty as a dandelion\n",
    "print(json.dumps(users, indent=4, sort_keys=True))"
   ]
  },
  {
   "cell_type": "code",
   "execution_count": null,
   "metadata": {},
   "outputs": [],
   "source": [
    "#Grab the DN\n",
    "dn = users['imdata'][0]['aaaUserEp']['attributes']['dn']"
   ]
  },
  {
   "cell_type": "code",
   "execution_count": null,
   "metadata": {},
   "outputs": [],
   "source": [
    "# Set up empty lists\n",
    "name_list = []\n",
    "firstname_list = []\n",
    "lastname_list = []\n",
    "status_list = []\n",
    "phone_list = []\n",
    "rn_list = []"
   ]
  },
  {
   "cell_type": "code",
   "execution_count": null,
   "metadata": {},
   "outputs": [],
   "source": [
    "# Grab the user objects.\n",
    "users_list = users['imdata'][0]['aaaUserEp']['children']\n",
    "#users_list\n",
    "\n",
    "# in each object in \"users_list\", not all are users.\n",
    "# we test if the class name for the object is \"aaaUser\"\n",
    "# if so, we then grab the attributes key and read the value.\n",
    "# since the attributes value is a dictionary, we ask for the relevent key\n",
    "# and assign that value to the variable.\n",
    "# For example, the object class is aaaUser, there is { attributes: {some_dict} }\n",
    "# and some_dict has a list of key/values like rn:blah, name:blah, etc.\n",
    "\n",
    "for user in users_list:\n",
    "    if \"aaaUser\" in user: \n",
    "        #print(user)\n",
    "        rn = user['aaaUser']['attributes']['rn']\n",
    "        name = user['aaaUser']['attributes']['name']  \n",
    "        firstname = user['aaaUser']['attributes']['firstName']\n",
    "        lastname = user['aaaUser']['attributes']['lastName']\n",
    "        status = user['aaaUser']['attributes']['accountStatus']\n",
    "        phone = user['aaaUser']['attributes']['phone']\n",
    "        name_list.append(name)\n",
    "        rn_list.append(rn)\n",
    "        firstname_list.append(firstname)\n",
    "        lastname_list.append(lastname)\n",
    "        phone_list.append(phone)\n",
    "        status_list.append(status)"
   ]
  },
  {
   "cell_type": "code",
   "execution_count": null,
   "metadata": {},
   "outputs": [],
   "source": [
    "zlist = zip(status_list, name_list, firstname_list, lastname_list, phone_list, rn_list)"
   ]
  },
  {
   "cell_type": "code",
   "execution_count": null,
   "metadata": {},
   "outputs": [],
   "source": [
    "df_input = list(zlist)\n",
    "df = pd.DataFrame(df_input, columns=(\"Status\",\"User Name\",\"First Name\",\"Last Name\",\"Phone\",\"RN\"))"
   ]
  },
  {
   "cell_type": "code",
   "execution_count": null,
   "metadata": {},
   "outputs": [],
   "source": [
    "df"
   ]
  },
  {
   "cell_type": "code",
   "execution_count": null,
   "metadata": {},
   "outputs": [],
   "source": []
  }
 ],
 "metadata": {
  "kernelspec": {
   "display_name": "Python 3",
   "language": "python",
   "name": "python3"
  },
  "language_info": {
   "codemirror_mode": {
    "name": "ipython",
    "version": 3
   },
   "file_extension": ".py",
   "mimetype": "text/x-python",
   "name": "python",
   "nbconvert_exporter": "python",
   "pygments_lexer": "ipython3",
   "version": "3.7.1"
  }
 },
 "nbformat": 4,
 "nbformat_minor": 2
}
