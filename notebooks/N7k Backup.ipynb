{
 "cells": [
  {
   "cell_type": "markdown",
   "metadata": {},
   "source": [
    "# Simple Backup Script for NX-OS\n",
    "Requirements:\n",
    " - Must have SSH key generated on switch, and public key copied to backup server\n",
    " - Enable NXAPI and NXAPI-Sandbox on N7k\n",
    " \n",
    "Program Flow: \n",
    " - Script runs as a cron job once daily on backup server.\n",
    " - Script connects to switch via NXAPI.\n",
    " - Script issues command: copy startup-config sftp://10.18.188.188/home/bkup/n7k/[name]-[date]\n",
    "   - N7k copies startup-config to the backup server"
   ]
  },
  {
   "cell_type": "markdown",
   "metadata": {},
   "source": [
    "On Switch: \n",
    " - conf t\n",
    " - username admin keypair generate rsa\n",
    " - show username admin keypair"
   ]
  },
  {
   "cell_type": "code",
   "execution_count": 1,
   "metadata": {},
   "outputs": [],
   "source": [
    "import requests\n",
    "import json\n",
    "import sys\n",
    "from datetime import date"
   ]
  },
  {
   "cell_type": "code",
   "execution_count": 2,
   "metadata": {},
   "outputs": [],
   "source": [
    "## Variables\n",
    "today = str(date.today())"
   ]
  },
  {
   "cell_type": "code",
   "execution_count": 3,
   "metadata": {},
   "outputs": [],
   "source": [
    "switch_ip = \"10.18.188.137\"\n",
    "username = \"admin\"\n",
    "password = \"\""
   ]
  },
  {
   "cell_type": "code",
   "execution_count": 4,
   "metadata": {},
   "outputs": [],
   "source": [
    "from requests.auth import HTTPBasicAuth\n",
    "auth = HTTPBasicAuth(username, password)"
   ]
  },
  {
   "cell_type": "code",
   "execution_count": 5,
   "metadata": {},
   "outputs": [],
   "source": [
    "auth_url = \"http://\" + switch_ip + \"/ins\" "
   ]
  },
  {
   "cell_type": "code",
   "execution_count": 6,
   "metadata": {},
   "outputs": [
    {
     "name": "stdout",
     "output_type": "stream",
     "text": [
      "http://10.18.188.137/ins\n"
     ]
    }
   ],
   "source": [
    "print(auth_url)"
   ]
  },
  {
   "cell_type": "code",
   "execution_count": 7,
   "metadata": {},
   "outputs": [
    {
     "name": "stdout",
     "output_type": "stream",
     "text": [
      "<requests.auth.HTTPBasicAuth object at 0x10e67fd30>\n"
     ]
    }
   ],
   "source": [
    "print(auth)"
   ]
  },
  {
   "cell_type": "code",
   "execution_count": 8,
   "metadata": {},
   "outputs": [],
   "source": [
    "show_config_payload = {\n",
    "  \"ins_api\": {\n",
    "    \"version\": \"1.2\",\n",
    "    \"type\": \"cli_show\",\n",
    "    \"chunk\": \"0\",\n",
    "    \"sid\": \"1\",\n",
    "    \"input\": \"show running-config\",\n",
    "    \"output_format\": \"json\"\n",
    "  }\n",
    "}"
   ]
  },
  {
   "cell_type": "code",
   "execution_count": 22,
   "metadata": {},
   "outputs": [],
   "source": [
    "bkup_host = \"10.18.188.188\"\n",
    "bkup_user = \"bkup\"\n",
    "proto_schema = \"sftp\"\n",
    "bkup_device = \"labcore01\"\n",
    "bkup_path = \"/home/bkup/n7k/\"\n",
    "bkup_source_file = \"startup-config\"\n",
    "bkup_dest_file = bkup_source_file + \"_\" + bkup_device + \"_\" + today + \"-TESTING \"\n",
    "default_vrf = \"vrf management\"\n",
    "input_cmd = \"copy \" + bkup_source_file + \" \" + proto_schema + \"://\" + bkup_user + \"@\" + bkup_host + bkup_path + bkup_dest_file + default_vrf"
   ]
  },
  {
   "cell_type": "code",
   "execution_count": 23,
   "metadata": {},
   "outputs": [
    {
     "name": "stdout",
     "output_type": "stream",
     "text": [
      "copy startup-config sftp://bkup@10.18.188.188/home/bkup/n7k/startup-config_labcore01_2019-07-02-TESTING vrf management\n"
     ]
    }
   ],
   "source": [
    "print(input_cmd)"
   ]
  },
  {
   "cell_type": "code",
   "execution_count": 24,
   "metadata": {},
   "outputs": [],
   "source": [
    "bkup_payload = {\n",
    "  \"ins_api\": {\n",
    "    \"version\": \"1.2\",\n",
    "    \"type\": \"cli_conf\",\n",
    "    \"chunk\": \"0\",\n",
    "    \"sid\": \"1\",\n",
    "    \"input\": input_cmd,\n",
    "    \"output_format\": \"json\"\n",
    "  }\n",
    "}"
   ]
  },
  {
   "cell_type": "code",
   "execution_count": 25,
   "metadata": {},
   "outputs": [],
   "source": [
    "#r = requests.post(auth_url, json=auth_data, verify=False)\n",
    "r = requests.post(auth_url, auth=auth, json=bkup_payload)"
   ]
  },
  {
   "cell_type": "code",
   "execution_count": 26,
   "metadata": {},
   "outputs": [
    {
     "data": {
      "text/plain": [
       "200"
      ]
     },
     "execution_count": 26,
     "metadata": {},
     "output_type": "execute_result"
    }
   ],
   "source": [
    "r.status_code"
   ]
  },
  {
   "cell_type": "code",
   "execution_count": 27,
   "metadata": {},
   "outputs": [
    {
     "data": {
      "text/plain": [
       "{'Server': 'nginx/1.4.5', 'Date': 'Tue, 02 Jul 2019 20:22:49 GMT', 'Content-Type': 'text/json', 'Transfer-Encoding': 'chunked', 'Connection': 'keep-alive', 'Set-Cookie': 'nxapi_auth=admin:156209956203837432'}"
      ]
     },
     "execution_count": 27,
     "metadata": {},
     "output_type": "execute_result"
    }
   ],
   "source": [
    "r.headers"
   ]
  },
  {
   "cell_type": "code",
   "execution_count": 21,
   "metadata": {},
   "outputs": [],
   "source": [
    "#r.json\n",
    "xml = r.content"
   ]
  },
  {
   "cell_type": "code",
   "execution_count": 22,
   "metadata": {},
   "outputs": [],
   "source": [
    "r_json = r.json()"
   ]
  },
  {
   "cell_type": "code",
   "execution_count": 23,
   "metadata": {},
   "outputs": [
    {
     "data": {
      "text/plain": [
       "{'ins_api': {'sid': 'eoc',\n",
       "  'type': 'cli_conf',\n",
       "  'version': '1.2',\n",
       "  'outputs': {'output': {'code': '500',\n",
       "    'msg': 'Backend processing error',\n",
       "    'input': 'copy startup-config sftp://bkup@10.18.188.188/home/bkup/n7k/startup-config-2019-06-26'}}}}"
      ]
     },
     "execution_count": 23,
     "metadata": {},
     "output_type": "execute_result"
    }
   ],
   "source": [
    "r_json"
   ]
  },
  {
   "cell_type": "code",
   "execution_count": null,
   "metadata": {},
   "outputs": [],
   "source": []
  }
 ],
 "metadata": {
  "kernelspec": {
   "display_name": "Python 3",
   "language": "python",
   "name": "python3"
  },
  "language_info": {
   "codemirror_mode": {
    "name": "ipython",
    "version": 3
   },
   "file_extension": ".py",
   "mimetype": "text/x-python",
   "name": "python",
   "nbconvert_exporter": "python",
   "pygments_lexer": "ipython3",
   "version": "3.7.1"
  }
 },
 "nbformat": 4,
 "nbformat_minor": 2
}
