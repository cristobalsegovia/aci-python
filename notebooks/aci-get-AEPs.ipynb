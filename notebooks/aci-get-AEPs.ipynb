{
 "cells": [
  {
   "cell_type": "markdown",
   "metadata": {},
   "source": [
    "# Unofficial ACI Guide\n",
    "## Python 3 - Get AEPs Example"
   ]
  },
  {
   "cell_type": "markdown",
   "metadata": {},
   "source": [
    "This is a simple Python example demonstrating how to list all AEPs in a fabric.  \n",
    "This is boilerplate. Feel free to use in your own stuff."
   ]
  },
  {
   "cell_type": "code",
   "execution_count": 10,
   "metadata": {},
   "outputs": [],
   "source": [
    "import requests\n",
    "import json\n",
    "import pandas as pd\n",
    "import os"
   ]
  },
  {
   "cell_type": "code",
   "execution_count": 11,
   "metadata": {},
   "outputs": [],
   "source": [
    "# Read Credentials and Controller Hostname/IP from config.py file\n",
    "\n",
    "from config import controller, username, password\n",
    "base_url = \"https://\" + str(controller) + \"/api/\"\n",
    "auth_bit = \"aaaLogin.json\"\n",
    "auth_url = base_url + auth_bit\n",
    "auth_data = {\n",
    "  \"aaaUser\":{\n",
    "    \"attributes\":{\n",
    "      \"name\":username,\n",
    "      \"pwd\":password\n",
    "    }\n",
    "  }\n",
    "}"
   ]
  },
  {
   "cell_type": "code",
   "execution_count": 12,
   "metadata": {},
   "outputs": [
    {
     "data": {
      "text/plain": [
       "<Response [200]>"
      ]
     },
     "execution_count": 12,
     "metadata": {},
     "output_type": "execute_result"
    }
   ],
   "source": [
    "# Authenticate \n",
    "requests.packages.urllib3.disable_warnings() \n",
    "s = requests.session()\n",
    "s.post(auth_url, json=auth_data, verify=False)"
   ]
  },
  {
   "cell_type": "code",
   "execution_count": 13,
   "metadata": {},
   "outputs": [],
   "source": [
    "#Set up our class URL\n",
    "AEP_class=\"node/class/infraAttEntityP.json\"\n",
    "AEP_url = base_url + AEP_class"
   ]
  },
  {
   "cell_type": "code",
   "execution_count": 14,
   "metadata": {},
   "outputs": [],
   "source": [
    "# Query the class for objects\n",
    "AEPs = s.get(AEP_url, verify=False)\n",
    "s_out = AEPs.json()"
   ]
  },
  {
   "cell_type": "code",
   "execution_count": 15,
   "metadata": {},
   "outputs": [],
   "source": [
    "# Uncomment to print output.\n",
    "#print(json.dumps(s_out, indent=4, sort_keys=True))"
   ]
  },
  {
   "cell_type": "code",
   "execution_count": 16,
   "metadata": {},
   "outputs": [],
   "source": [
    "# Let's get all our AEPs now.\n",
    "# Start with an empty list.\n",
    "AEP_list = []\n",
    "count = 0\n",
    "AEP_out_list = s_out['imdata']"
   ]
  },
  {
   "cell_type": "code",
   "execution_count": 17,
   "metadata": {},
   "outputs": [],
   "source": [
    "for AEP in AEP_out_list:\n",
    "   # print(AEP)\n",
    "    dn = AEP['infraAttEntityP']['attributes']['dn']\n",
    "    #print(dn)\n",
    "    split_dn = dn.split(\"/\")\n",
    "    AEP_list.append(dn)\n",
    "    count = count + 1"
   ]
  },
  {
   "cell_type": "code",
   "execution_count": 18,
   "metadata": {},
   "outputs": [
    {
     "name": "stdout",
     "output_type": "stream",
     "text": [
      "\n",
      "AEPs in the Fabric: \n",
      "====================\n",
      "uni/infra/attentp-COAST_AEP\n",
      "uni/infra/attentp-MultiPod_AEP\n",
      "uni/infra/attentp-JW_AEP\n",
      "uni/infra/attentp-__ui_pg_JODY_TEST\n",
      "uni/infra/attentp-TD_AEP\n",
      "uni/infra/attentp-__ui_pg_JODY_TEST2\n",
      "uni/infra/attentp-default\n",
      "====================\n",
      "\n",
      "There are 7 AEPs\n"
     ]
    }
   ],
   "source": [
    "print(\"\\nAEPs in the Fabric: \")\n",
    "print('====================')\n",
    "[print(Int) for Int in AEP_list]\n",
    "print('====================')\n",
    "print('\\nThere are', count, 'AEPs')"
   ]
  }
 ],
 "metadata": {
  "kernelspec": {
   "display_name": "Python 3",
   "language": "python",
   "name": "python3"
  },
  "language_info": {
   "codemirror_mode": {
    "name": "ipython",
    "version": 3
   },
   "file_extension": ".py",
   "mimetype": "text/x-python",
   "name": "python",
   "nbconvert_exporter": "python",
   "pygments_lexer": "ipython3",
   "version": "3.7.1"
  }
 },
 "nbformat": 4,
 "nbformat_minor": 2
}
