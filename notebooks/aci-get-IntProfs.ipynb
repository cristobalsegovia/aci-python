{
 "cells": [
  {
   "cell_type": "markdown",
   "metadata": {},
   "source": [
    "# Unofficial ACI Guide\n",
    "## Python 3 - Get IntProfs Example"
   ]
  },
  {
   "cell_type": "markdown",
   "metadata": {},
   "source": [
    "This is a simple Python example demonstrating how to list all IntProfs in a fabric.  \n",
    "This is boilerplate. Feel free to use in your own stuff."
   ]
  },
  {
   "cell_type": "code",
   "execution_count": 2,
   "metadata": {},
   "outputs": [],
   "source": [
    "import requests\n",
    "import json"
   ]
  },
  {
   "cell_type": "code",
   "execution_count": 3,
   "metadata": {},
   "outputs": [],
   "source": [
    "from config import controller, username, password\n",
    "base_url = \"https://\" + str(controller) + \"/api/\"\n",
    "auth_bit = \"aaaLogin.json\"\n",
    "auth_url = base_url + auth_bit\n",
    "auth_data = {\n",
    "  \"aaaUser\":{\n",
    "    \"attributes\":{\n",
    "      \"name\":username,\n",
    "      \"pwd\":password\n",
    "    }\n",
    "  }\n",
    "}"
   ]
  },
  {
   "cell_type": "code",
   "execution_count": 4,
   "metadata": {},
   "outputs": [
    {
     "data": {
      "text/plain": [
       "<Response [200]>"
      ]
     },
     "execution_count": 4,
     "metadata": {},
     "output_type": "execute_result"
    }
   ],
   "source": [
    "# ## Construct the Request\n",
    "requests.packages.urllib3.disable_warnings() \n",
    "s = requests.session()\n",
    "s.post(auth_url, json=auth_data, verify=False)"
   ]
  },
  {
   "cell_type": "code",
   "execution_count": 5,
   "metadata": {},
   "outputs": [],
   "source": [
    "#Set up our class\n",
    "IntProf_class=\"node/class/infraAccPortP.json\"\n",
    "IntProf_url = base_url + IntProf_class"
   ]
  },
  {
   "cell_type": "code",
   "execution_count": 6,
   "metadata": {},
   "outputs": [],
   "source": [
    "# Query Class for objects\n",
    "IntProfs = s.get(IntProf_url, verify=False)\n",
    "s_out = IntProfs.json()"
   ]
  },
  {
   "cell_type": "code",
   "execution_count": 7,
   "metadata": {},
   "outputs": [],
   "source": [
    "# Uncomment to print full output.\n",
    "#print(json.dumps(s_out, indent=4, sort_keys=True))"
   ]
  },
  {
   "cell_type": "code",
   "execution_count": 8,
   "metadata": {},
   "outputs": [],
   "source": [
    "# Let's get all our IntProfs now.\n",
    "# Start with an empty list.\n",
    "IntProf_list = []\n",
    "count = 0"
   ]
  },
  {
   "cell_type": "code",
   "execution_count": 9,
   "metadata": {},
   "outputs": [],
   "source": [
    "IntProf_out_list = s_out['imdata']\n",
    "\n",
    "for IntProf in IntProf_out_list:\n",
    "   # print(IntProf)\n",
    "    dn = IntProf['infraAccPortP']['attributes']['dn']\n",
    "    #print(dn)\n",
    "    split_dn = dn.split(\"/\")\n",
    "    IntProf_list.append(dn)\n",
    "    count = count + 1"
   ]
  },
  {
   "cell_type": "code",
   "execution_count": 10,
   "metadata": {},
   "outputs": [
    {
     "name": "stdout",
     "output_type": "stream",
     "text": [
      "\n",
      "IntProfs in the Fabric: \n",
      "====================\n",
      "uni/infra/accportprof-Leaf203_IntProf\n",
      "uni/infra/accportprof-Leaf206_IntProf\n",
      "uni/infra/accportprof-Leaf202_IntProf\n",
      "uni/infra/accportprof-Leaf201_IntProf\n",
      "uni/infra/accportprof-Leaf201_202_IntProf\n",
      "uni/infra/accportprof-ServerABC_Vpc\n",
      "uni/infra/accportprof-Leaf205_IntProf\n",
      "uni/infra/accportprof-Leaf204_IntProf\n",
      "====================\n",
      "\n",
      "There are 8 IntProfs\n"
     ]
    }
   ],
   "source": [
    "print(\"\\nIntProfs in the Fabric: \")\n",
    "print('====================')\n",
    "[print(Int) for Int in IntProf_list]\n",
    "print('====================')\n",
    "print('\\nThere are', count, 'IntProfs')"
   ]
  }
 ],
 "metadata": {
  "kernelspec": {
   "display_name": "Python 3",
   "language": "python",
   "name": "python3"
  },
  "language_info": {
   "codemirror_mode": {
    "name": "ipython",
    "version": 3
   },
   "file_extension": ".py",
   "mimetype": "text/x-python",
   "name": "python",
   "nbconvert_exporter": "python",
   "pygments_lexer": "ipython3",
   "version": "3.7.1"
  }
 },
 "nbformat": 4,
 "nbformat_minor": 2
}
